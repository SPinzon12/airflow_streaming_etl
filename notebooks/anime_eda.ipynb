{
 "cells": [
  {
   "cell_type": "markdown",
   "id": "522f2acf-a3e3-445e-9e99-409ed987e76c",
   "metadata": {},
   "source": [
    "# MyAnimeList_API EDA"
   ]
  },
  {
   "cell_type": "markdown",
   "id": "ad75a9cd-9b6c-4bfa-9b68-feeed640c8a1",
   "metadata": {},
   "source": [
    "**Imports**"
   ]
  },
  {
   "cell_type": "code",
   "execution_count": 1,
   "id": "d2c74a6f-6527-4a17-8ddf-2a1f60ca656b",
   "metadata": {},
   "outputs": [],
   "source": [
    "import matplotlib.pyplot as plt\n",
    "import numpy as np\n",
    "import pandas as pd\n",
    "import seaborn as sns\n",
    "import warnings\n",
    "\n",
    "warnings.filterwarnings('ignore')"
   ]
  },
  {
   "cell_type": "markdown",
   "id": "bb7116ec-faae-44f4-a123-2f515403cf82",
   "metadata": {},
   "source": [
    "## Exploring the Data"
   ]
  },
  {
   "cell_type": "markdown",
   "id": "deb417fd-dc5f-4808-9a33-1d6cf32b41fb",
   "metadata": {},
   "source": [
    "**Load the data**"
   ]
  },
  {
   "cell_type": "code",
   "execution_count": 2,
   "id": "6f0b7392-e962-4cab-8c72-dd2723c5ce3f",
   "metadata": {},
   "outputs": [],
   "source": [
    "anime_df = pd.read_csv(\"../data/anime_data.csv\")"
   ]
  },
  {
   "cell_type": "markdown",
   "id": "39c05d39-0547-4d9a-9c40-22f205365470",
   "metadata": {},
   "source": [
    "**Display the first few rows of the DataFrame**"
   ]
  },
  {
   "cell_type": "code",
   "execution_count": 3,
   "id": "693c41bf-762f-42bb-8246-895c6b22be5c",
   "metadata": {},
   "outputs": [
    {
     "data": {
      "text/html": [
       "<div>\n",
       "<style scoped>\n",
       "    .dataframe tbody tr th:only-of-type {\n",
       "        vertical-align: middle;\n",
       "    }\n",
       "\n",
       "    .dataframe tbody tr th {\n",
       "        vertical-align: top;\n",
       "    }\n",
       "\n",
       "    .dataframe thead th {\n",
       "        text-align: right;\n",
       "    }\n",
       "</style>\n",
       "<table border=\"1\" class=\"dataframe\">\n",
       "  <thead>\n",
       "    <tr style=\"text-align: right;\">\n",
       "      <th></th>\n",
       "      <th>Unnamed: 0</th>\n",
       "      <th>mal_id</th>\n",
       "      <th>title</th>\n",
       "      <th>rank</th>\n",
       "      <th>score</th>\n",
       "      <th>season</th>\n",
       "      <th>year</th>\n",
       "      <th>aired_from</th>\n",
       "      <th>aired_to</th>\n",
       "      <th>popularity</th>\n",
       "      <th>...</th>\n",
       "      <th>rating</th>\n",
       "      <th>status</th>\n",
       "      <th>broadcast_day</th>\n",
       "      <th>broadcast_time</th>\n",
       "      <th>broadcast_timezone</th>\n",
       "      <th>producer</th>\n",
       "      <th>producer_id</th>\n",
       "      <th>studio</th>\n",
       "      <th>studio_id</th>\n",
       "      <th>type</th>\n",
       "    </tr>\n",
       "  </thead>\n",
       "  <tbody>\n",
       "    <tr>\n",
       "      <th>0</th>\n",
       "      <td>0</td>\n",
       "      <td>49458</td>\n",
       "      <td>Kono Subarashii Sekai ni Shukufuku wo! 3</td>\n",
       "      <td>NaN</td>\n",
       "      <td>NaN</td>\n",
       "      <td>NaN</td>\n",
       "      <td>NaN</td>\n",
       "      <td>2024-01-01T00:00:00+00:00</td>\n",
       "      <td>NaN</td>\n",
       "      <td>1118</td>\n",
       "      <td>...</td>\n",
       "      <td>PG-13 - Teens 13 or older</td>\n",
       "      <td>Not yet aired</td>\n",
       "      <td>NaN</td>\n",
       "      <td>NaN</td>\n",
       "      <td>NaN</td>\n",
       "      <td>Nippon Columbia</td>\n",
       "      <td>323.0</td>\n",
       "      <td>Drive</td>\n",
       "      <td>1967.0</td>\n",
       "      <td>TV</td>\n",
       "    </tr>\n",
       "    <tr>\n",
       "      <th>1</th>\n",
       "      <td>1</td>\n",
       "      <td>52299</td>\n",
       "      <td>Ore dake Level Up na Ken</td>\n",
       "      <td>NaN</td>\n",
       "      <td>NaN</td>\n",
       "      <td>winter</td>\n",
       "      <td>2024.0</td>\n",
       "      <td>2024-01-01T00:00:00+00:00</td>\n",
       "      <td>NaN</td>\n",
       "      <td>1341</td>\n",
       "      <td>...</td>\n",
       "      <td>NaN</td>\n",
       "      <td>Not yet aired</td>\n",
       "      <td>NaN</td>\n",
       "      <td>NaN</td>\n",
       "      <td>NaN</td>\n",
       "      <td>Aniplex</td>\n",
       "      <td>17.0</td>\n",
       "      <td>A-1 Pictures</td>\n",
       "      <td>56.0</td>\n",
       "      <td>TV</td>\n",
       "    </tr>\n",
       "    <tr>\n",
       "      <th>2</th>\n",
       "      <td>2</td>\n",
       "      <td>51180</td>\n",
       "      <td>Youkoso Jitsuryoku Shijou Shugi no Kyoushitsu ...</td>\n",
       "      <td>NaN</td>\n",
       "      <td>NaN</td>\n",
       "      <td>winter</td>\n",
       "      <td>2024.0</td>\n",
       "      <td>2024-01-01T00:00:00+00:00</td>\n",
       "      <td>NaN</td>\n",
       "      <td>1465</td>\n",
       "      <td>...</td>\n",
       "      <td>PG-13 - Teens 13 or older</td>\n",
       "      <td>Not yet aired</td>\n",
       "      <td>NaN</td>\n",
       "      <td>NaN</td>\n",
       "      <td>NaN</td>\n",
       "      <td>Kadokawa</td>\n",
       "      <td>1696.0</td>\n",
       "      <td>Lerche</td>\n",
       "      <td>456.0</td>\n",
       "      <td>TV</td>\n",
       "    </tr>\n",
       "    <tr>\n",
       "      <th>3</th>\n",
       "      <td>3</td>\n",
       "      <td>49889</td>\n",
       "      <td>Tsuki ga Michibiku Isekai Douchuu 2nd Season</td>\n",
       "      <td>NaN</td>\n",
       "      <td>NaN</td>\n",
       "      <td>winter</td>\n",
       "      <td>2024.0</td>\n",
       "      <td>2024-01-01T00:00:00+00:00</td>\n",
       "      <td>NaN</td>\n",
       "      <td>2025</td>\n",
       "      <td>...</td>\n",
       "      <td>PG-13 - Teens 13 or older</td>\n",
       "      <td>Not yet aired</td>\n",
       "      <td>NaN</td>\n",
       "      <td>NaN</td>\n",
       "      <td>NaN</td>\n",
       "      <td>NaN</td>\n",
       "      <td>NaN</td>\n",
       "      <td>J.C.Staff</td>\n",
       "      <td>7.0</td>\n",
       "      <td>TV</td>\n",
       "    </tr>\n",
       "    <tr>\n",
       "      <th>4</th>\n",
       "      <td>4</td>\n",
       "      <td>48418</td>\n",
       "      <td>Maou Gakuin no Futekigousha: Shijou Saikyou no...</td>\n",
       "      <td>NaN</td>\n",
       "      <td>NaN</td>\n",
       "      <td>NaN</td>\n",
       "      <td>NaN</td>\n",
       "      <td>2024-01-01T00:00:00+00:00</td>\n",
       "      <td>NaN</td>\n",
       "      <td>2190</td>\n",
       "      <td>...</td>\n",
       "      <td>R - 17+ (violence &amp; profanity)</td>\n",
       "      <td>Not yet aired</td>\n",
       "      <td>NaN</td>\n",
       "      <td>NaN</td>\n",
       "      <td>NaN</td>\n",
       "      <td>Aniplex</td>\n",
       "      <td>17.0</td>\n",
       "      <td>SILVER LINK.</td>\n",
       "      <td>300.0</td>\n",
       "      <td>TV</td>\n",
       "    </tr>\n",
       "  </tbody>\n",
       "</table>\n",
       "<p>5 rows × 25 columns</p>\n",
       "</div>"
      ],
      "text/plain": [
       "   Unnamed: 0  mal_id                                              title  \\\n",
       "0           0   49458           Kono Subarashii Sekai ni Shukufuku wo! 3   \n",
       "1           1   52299                           Ore dake Level Up na Ken   \n",
       "2           2   51180  Youkoso Jitsuryoku Shijou Shugi no Kyoushitsu ...   \n",
       "3           3   49889       Tsuki ga Michibiku Isekai Douchuu 2nd Season   \n",
       "4           4   48418  Maou Gakuin no Futekigousha: Shijou Saikyou no...   \n",
       "\n",
       "   rank  score  season    year                 aired_from aired_to  \\\n",
       "0   NaN    NaN     NaN     NaN  2024-01-01T00:00:00+00:00      NaN   \n",
       "1   NaN    NaN  winter  2024.0  2024-01-01T00:00:00+00:00      NaN   \n",
       "2   NaN    NaN  winter  2024.0  2024-01-01T00:00:00+00:00      NaN   \n",
       "3   NaN    NaN  winter  2024.0  2024-01-01T00:00:00+00:00      NaN   \n",
       "4   NaN    NaN     NaN     NaN  2024-01-01T00:00:00+00:00      NaN   \n",
       "\n",
       "   popularity  ...                          rating         status  \\\n",
       "0        1118  ...       PG-13 - Teens 13 or older  Not yet aired   \n",
       "1        1341  ...                             NaN  Not yet aired   \n",
       "2        1465  ...       PG-13 - Teens 13 or older  Not yet aired   \n",
       "3        2025  ...       PG-13 - Teens 13 or older  Not yet aired   \n",
       "4        2190  ...  R - 17+ (violence & profanity)  Not yet aired   \n",
       "\n",
       "   broadcast_day broadcast_time broadcast_timezone         producer  \\\n",
       "0            NaN            NaN                NaN  Nippon Columbia   \n",
       "1            NaN            NaN                NaN          Aniplex   \n",
       "2            NaN            NaN                NaN         Kadokawa   \n",
       "3            NaN            NaN                NaN              NaN   \n",
       "4            NaN            NaN                NaN          Aniplex   \n",
       "\n",
       "  producer_id        studio studio_id type  \n",
       "0       323.0         Drive    1967.0   TV  \n",
       "1        17.0  A-1 Pictures      56.0   TV  \n",
       "2      1696.0        Lerche     456.0   TV  \n",
       "3         NaN     J.C.Staff       7.0   TV  \n",
       "4        17.0  SILVER LINK.     300.0   TV  \n",
       "\n",
       "[5 rows x 25 columns]"
      ]
     },
     "execution_count": 3,
     "metadata": {},
     "output_type": "execute_result"
    }
   ],
   "source": [
    "anime_df.head()"
   ]
  },
  {
   "cell_type": "markdown",
   "id": "de8e0434-62b8-42ce-9809-fb77aa796d00",
   "metadata": {},
   "source": [
    "**Check the shape of the DataFrame**"
   ]
  },
  {
   "cell_type": "code",
   "execution_count": 4,
   "id": "09827194-9f3b-48b7-8fbc-5e733448047e",
   "metadata": {},
   "outputs": [
    {
     "data": {
      "text/plain": [
       "(5504, 25)"
      ]
     },
     "execution_count": 4,
     "metadata": {},
     "output_type": "execute_result"
    }
   ],
   "source": [
    "anime_df.shape"
   ]
  },
  {
   "cell_type": "markdown",
   "id": "575f1b28-409c-462d-b3a9-c99182d38108",
   "metadata": {},
   "source": [
    "This DataFrame contains information about 5504 different anime titles. For each anime title, there are 24 pieces of information or characteristics recorded in the DataFrame. These characteristics include details like the title's score, rank, season, year, airing dates, and more. "
   ]
  },
  {
   "cell_type": "markdown",
   "id": "895af9e5-33bb-4807-8916-7b3086beb392",
   "metadata": {},
   "source": [
    "**Exploring Data Types**"
   ]
  },
  {
   "cell_type": "code",
   "execution_count": 5,
   "id": "2a04bc4a-94c5-419e-80bc-77c38795a860",
   "metadata": {},
   "outputs": [
    {
     "name": "stdout",
     "output_type": "stream",
     "text": [
      "<class 'pandas.core.frame.DataFrame'>\n",
      "RangeIndex: 5504 entries, 0 to 5503\n",
      "Data columns (total 25 columns):\n",
      " #   Column              Non-Null Count  Dtype  \n",
      "---  ------              --------------  -----  \n",
      " 0   Unnamed: 0          5504 non-null   int64  \n",
      " 1   mal_id              5504 non-null   int64  \n",
      " 2   title               5504 non-null   object \n",
      " 3   rank                5065 non-null   float64\n",
      " 4   score               4923 non-null   float64\n",
      " 5   season              2422 non-null   object \n",
      " 6   year                2422 non-null   float64\n",
      " 7   aired_from          5504 non-null   object \n",
      " 8   aired_to            2975 non-null   object \n",
      " 9   popularity          5504 non-null   int64  \n",
      " 10  favorites           5504 non-null   int64  \n",
      " 11  members             5504 non-null   int64  \n",
      " 12  episodes            5453 non-null   float64\n",
      " 13  genre               4984 non-null   object \n",
      " 14  demographic         2372 non-null   object \n",
      " 15  rating              5432 non-null   object \n",
      " 16  status              5504 non-null   object \n",
      " 17  broadcast_day       1677 non-null   object \n",
      " 18  broadcast_time      1677 non-null   object \n",
      " 19  broadcast_timezone  1677 non-null   object \n",
      " 20  producer            3833 non-null   object \n",
      " 21  producer_id         3833 non-null   float64\n",
      " 22  studio              4485 non-null   object \n",
      " 23  studio_id           4485 non-null   float64\n",
      " 24  type                5503 non-null   object \n",
      "dtypes: float64(6), int64(5), object(14)\n",
      "memory usage: 1.0+ MB\n"
     ]
    }
   ],
   "source": [
    "anime_df.info()"
   ]
  },
  {
   "cell_type": "markdown",
   "id": "0f0138c9-5a88-4eec-acf9-26ac7a44551e",
   "metadata": {},
   "source": [
    "The dataset encompasses a variety of data types, including both numerical and categorical variables. Numerical variables provide information on ratings, ranking, year, popularity, and membership, among others. Meanwhile, categorical variables include details about anime titles, release seasons, genres, and production aspects like producers, studios, and anime types. "
   ]
  },
  {
   "cell_type": "markdown",
   "id": "b453b82e-adb8-499b-9c4b-53faa93f08d6",
   "metadata": {},
   "source": [
    "## Investigating Null Values"
   ]
  },
  {
   "cell_type": "code",
   "execution_count": 6,
   "id": "20d229e2-3652-497f-80b8-5c29434252ba",
   "metadata": {},
   "outputs": [
    {
     "data": {
      "image/png": "[encoded data removed]",
      "text/plain": [
       "<Figure size 600x1000 with 1 Axes>"
      ]
     },
     "metadata": {},
     "output_type": "display_data"
    }
   ],
   "source": [
    "missing_ratios = anime_df.apply(lambda x: 1 - (x.count() / x.size))\n",
    "missing_ratios = missing_ratios.sort_values(ascending=False)\n",
    "\n",
    "plt.figure(figsize=(6, 10))\n",
    "sns.set_theme()\n",
    "\n",
    "sns.set_color_codes(\"pastel\")\n",
    "sns.barplot(x=missing_ratios, y=missing_ratios.index,\n",
    "            label=\"Missing Data Ratio\", color=\"red\", alpha=0.5)\n",
    "\n",
    "plt.legend(ncol=1, loc=\"lower right\", frameon=True)\n",
    "plt.xlim(0, 1)\n",
    "plt.xlabel(\"Missing Data Ratio\")\n",
    "plt.ylabel(\"\")\n",
    "plt.title(\"Missing Data Analysis\")\n",
    "sns.despine(left=True, bottom=True)\n",
    "plt.show()"
   ]
  },
  {
   "cell_type": "markdown",
   "id": "62c7c6b6-b59f-4fd0-8770-309fbf476fdc",
   "metadata": {},
   "source": [
    "Thanks to this graph, we were able to observe that numerous columns exhibit a significant number of missing values."
   ]
  },
  {
   "cell_type": "markdown",
   "id": "8a4bfcd3-c7aa-4af9-99e7-503ca837fa98",
   "metadata": {},
   "source": [
    "## Column Analysis"
   ]
  },
  {
   "cell_type": "markdown",
   "id": "0e0b2ac9-8ceb-4c63-84f6-3f1040937e32",
   "metadata": {},
   "source": [
    "____________________\n",
    "**mal_id**\n",
    "\n",
    "Unique identifier for the anime on MyAnimeList."
   ]
  },
  {
   "cell_type": "code",
   "execution_count": 7,
   "id": "00d74f04-4247-461d-9c07-6d44fe8a6e90",
   "metadata": {},
   "outputs": [
    {
     "data": {
      "text/plain": [
       "3810     8889\n",
       "4635    30559\n",
       "254     39783\n",
       "1464     5028\n",
       "2065    12725\n",
       "Name: mal_id, dtype: int64"
      ]
     },
     "execution_count": 7,
     "metadata": {},
     "output_type": "execute_result"
    }
   ],
   "source": [
    "anime_df['mal_id'].sample(5)"
   ]
  },
  {
   "cell_type": "code",
   "execution_count": 8,
   "id": "abb584a1-14fa-4ada-8231-7267cc56d8a6",
   "metadata": {},
   "outputs": [
    {
     "name": "stdout",
     "output_type": "stream",
     "text": [
      "Number of unique VINs: 5504\n"
     ]
    }
   ],
   "source": [
    "unique_counts = anime_df['mal_id'].nunique()\n",
    "print(f\"Number of unique VINs: {unique_counts}\")"
   ]
  },
  {
   "cell_type": "markdown",
   "id": "800e53a3-9371-4628-b36d-7fa3a0c8bb12",
   "metadata": {},
   "source": [
    "It can be observed that the number of unique values in mal_id is equal to the dataset's total count, which suggests that there are no duplicate values."
   ]
  },
  {
   "cell_type": "markdown",
   "id": "1a069afc-bad9-42fa-ac09-0bec23474ccc",
   "metadata": {},
   "source": [
    "____________________\n",
    "**title**"
   ]
  },
  {
   "cell_type": "code",
   "execution_count": 9,
   "id": "3d417ae1-e070-4dd9-98d8-96929e8ffd53",
   "metadata": {},
   "outputs": [
    {
     "data": {
      "text/plain": [
       "1806                                           Kemonozume\n",
       "3493                                 Hoshi Neko Fullhouse\n",
       "2472    Detective Conan Movie 03: The Last Wizard of t...\n",
       "3674                                 Kimagure Orange☆Road\n",
       "1383                                             Hakuouki\n",
       "Name: title, dtype: object"
      ]
     },
     "execution_count": 9,
     "metadata": {},
     "output_type": "execute_result"
    }
   ],
   "source": [
    "anime_df['title'].sample(5)"
   ]
  },
  {
   "cell_type": "code",
   "execution_count": 10,
   "id": "8b952119-883e-46ac-822e-d2ab14b7564d",
   "metadata": {},
   "outputs": [
    {
     "data": {
      "text/plain": [
       "5504"
      ]
     },
     "execution_count": 10,
     "metadata": {},
     "output_type": "execute_result"
    }
   ],
   "source": [
    "anime_df['title'].nunique()"
   ]
  },
  {
   "cell_type": "markdown",
   "id": "4c949ed5-0840-409e-a1c8-b0ed9f3e5fd7",
   "metadata": {},
   "source": [
    "It can be seen that there are no duplicate anime titles."
   ]
  },
  {
   "cell_type": "markdown",
   "id": "2b6cd614-adc0-4f38-b3d0-4a6adaceacfb",
   "metadata": {},
   "source": [
    "____________________\n",
    "**genre**\n"
   ]
  },
  {
   "cell_type": "code",
   "execution_count": 11,
   "id": "3b5b71e1-beb0-418b-b2f6-28a4ed4621e2",
   "metadata": {},
   "outputs": [
    {
     "data": {
      "text/plain": [
       "array(['Adventure', 'Action', 'Drama', 'Sports', 'Comedy', 'Romance',\n",
       "       'Slice of Life', 'Girls Love', 'Mystery', nan, 'Boys Love',\n",
       "       'Fantasy', 'Suspense', 'Horror', 'Sci-Fi', 'Award Winning',\n",
       "       'Supernatural', 'Gourmet', 'Avant Garde', 'Ecchi', 'Erotica',\n",
       "       'Hentai'], dtype=object)"
      ]
     },
     "execution_count": 11,
     "metadata": {},
     "output_type": "execute_result"
    }
   ],
   "source": [
    "anime_df['genre'].unique()"
   ]
  },
  {
   "cell_type": "markdown",
   "id": "d2f92f47-83ad-488f-8f0d-d7edf92c2e65",
   "metadata": {},
   "source": [
    "We can observe that there are several categories of genres, including Adventure, Action, Drama, Sports, Comedy, Slice of Life, Romance, and more. It indicates that anime titles in the dataset belong to various genre categories. Some entries might also have missing values (represented as nan)."
   ]
  },
  {
   "cell_type": "code",
   "execution_count": 12,
   "id": "793e7ea6-a05b-4ce6-ba44-316bd251f725",
   "metadata": {},
   "outputs": [
    {
     "data": {
      "text/plain": [
       "520"
      ]
     },
     "execution_count": 12,
     "metadata": {},
     "output_type": "execute_result"
    }
   ],
   "source": [
    "anime_df['genre'].isnull().sum()"
   ]
  },
  {
   "cell_type": "markdown",
   "id": "c0399e1b-ae7e-4122-ba6c-8fba81c5faf8",
   "metadata": {},
   "source": [
    "To handle the 520 null values in the `genre` column, it's proposed to utilize the information from the `demographic` column to assign appropriate values, ensuring that no data is lost."
   ]
  },
  {
   "cell_type": "code",
   "execution_count": 13,
   "id": "d58b3e56-a0c5-482e-aa4e-a8cd1a22f8f1",
   "metadata": {},
   "outputs": [
    {
     "data": {
      "image/png": "[encoded data removed]",
      "text/plain": [
       "<Figure size 1000x600 with 1 Axes>"
      ]
     },
     "metadata": {},
     "output_type": "display_data"
    }
   ],
   "source": [
    "seating_percentage = anime_df['genre'].value_counts() / anime_df.shape[0] * 100\n",
    "sns.set_theme()\n",
    "plt.figure(figsize=(10, 6))\n",
    "ax = sns.barplot(x=seating_percentage.values, y=seating_percentage.index, orient='h', color='red', alpha=0.5)\n",
    "plt.xlabel('Percentage (%)')\n",
    "plt.ylabel('Genre')\n",
    "plt.title('Genre Distribution (Percentage)')\n",
    "plt.show()"
   ]
  },
  {
   "cell_type": "markdown",
   "id": "fc28f6be-be09-41d8-be9f-eea8f70f2058",
   "metadata": {},
   "source": [
    "We can observe that \"Action\" is the most common genre, representing 34% of the dataset. It is followed by \"Comedy\" at 17%, and \"Adventure\" takes the third place with 12%. On the other hand, some genres like \"Erotica\" have very low representation, around 0%. "
   ]
  },
  {
   "cell_type": "markdown",
   "id": "0c652f00-32d8-4f33-ae01-a1955f82ca33",
   "metadata": {},
   "source": [
    "____________________\n",
    "**episodes**\n"
   ]
  },
  {
   "cell_type": "code",
   "execution_count": 14,
   "id": "b428144b-64e6-49f7-b7d2-ea78a8157816",
   "metadata": {},
   "outputs": [
    {
     "data": {
      "image/png": "[encoded data removed]",
      "text/plain": [
       "<Figure size 1000x600 with 1 Axes>"
      ]
     },
     "metadata": {},
     "output_type": "display_data"
    }
   ],
   "source": [
    "plt.figure(figsize=(10, 6))\n",
    "sns.set_theme()\n",
    "sns.histplot(data=anime_df, x='episodes', bins=30, color=\"red\", alpha=0.5, binwidth=12)\n",
    "plt.xlabel('Episodes')\n",
    "plt.ylabel('Frequency')\n",
    "plt.title('Distribution of Episodes')\n",
    "plt.xlim(0, 80)\n",
    "plt.show()"
   ]
  },
  {
   "cell_type": "code",
   "execution_count": 15,
   "id": "1d795a18-3f37-4303-a0bd-c4e2ffc3dc73",
   "metadata": {},
   "outputs": [
    {
     "data": {
      "text/plain": [
       "51"
      ]
     },
     "execution_count": 15,
     "metadata": {},
     "output_type": "execute_result"
    }
   ],
   "source": [
    "anime_df['episodes'].isnull().sum()"
   ]
  },
  {
   "cell_type": "markdown",
   "id": "e54d5c75-2946-4f47-a071-f7d5cb9ce4d9",
   "metadata": {},
   "source": [
    "Given the minimal number of missing values (51), these can be addressed by either imputing the missing values with the column's average or opting for their removal based."
   ]
  },
  {
   "cell_type": "markdown",
   "id": "4f67097a-0f6c-4cb9-a467-eff385f64c01",
   "metadata": {},
   "source": [
    "____________________\n",
    "**broadcast_day / broadcast_time / broadcast_timezone**"
   ]
  },
  {
   "cell_type": "code",
   "execution_count": 16,
   "id": "856086be-2d38-4890-904b-cec18cd91810",
   "metadata": {},
   "outputs": [
    {
     "data": {
      "text/html": [
       "<div>\n",
       "<style scoped>\n",
       "    .dataframe tbody tr th:only-of-type {\n",
       "        vertical-align: middle;\n",
       "    }\n",
       "\n",
       "    .dataframe tbody tr th {\n",
       "        vertical-align: top;\n",
       "    }\n",
       "\n",
       "    .dataframe thead th {\n",
       "        text-align: right;\n",
       "    }\n",
       "</style>\n",
       "<table border=\"1\" class=\"dataframe\">\n",
       "  <thead>\n",
       "    <tr style=\"text-align: right;\">\n",
       "      <th></th>\n",
       "      <th>broadcast_day</th>\n",
       "      <th>broadcast_time</th>\n",
       "      <th>broadcast_timezone</th>\n",
       "    </tr>\n",
       "  </thead>\n",
       "  <tbody>\n",
       "    <tr>\n",
       "      <th>4499</th>\n",
       "      <td>NaN</td>\n",
       "      <td>NaN</td>\n",
       "      <td>NaN</td>\n",
       "    </tr>\n",
       "    <tr>\n",
       "      <th>4375</th>\n",
       "      <td>NaN</td>\n",
       "      <td>NaN</td>\n",
       "      <td>NaN</td>\n",
       "    </tr>\n",
       "    <tr>\n",
       "      <th>2316</th>\n",
       "      <td>NaN</td>\n",
       "      <td>NaN</td>\n",
       "      <td>NaN</td>\n",
       "    </tr>\n",
       "    <tr>\n",
       "      <th>5022</th>\n",
       "      <td>NaN</td>\n",
       "      <td>NaN</td>\n",
       "      <td>NaN</td>\n",
       "    </tr>\n",
       "    <tr>\n",
       "      <th>2108</th>\n",
       "      <td>NaN</td>\n",
       "      <td>NaN</td>\n",
       "      <td>NaN</td>\n",
       "    </tr>\n",
       "  </tbody>\n",
       "</table>\n",
       "</div>"
      ],
      "text/plain": [
       "     broadcast_day broadcast_time broadcast_timezone\n",
       "4499           NaN            NaN                NaN\n",
       "4375           NaN            NaN                NaN\n",
       "2316           NaN            NaN                NaN\n",
       "5022           NaN            NaN                NaN\n",
       "2108           NaN            NaN                NaN"
      ]
     },
     "execution_count": 16,
     "metadata": {},
     "output_type": "execute_result"
    }
   ],
   "source": [
    "anime_df[['broadcast_day','broadcast_time','broadcast_timezone']].sample(5)"
   ]
  },
  {
   "cell_type": "code",
   "execution_count": 17,
   "id": "4bbfd3d9-2531-43b8-96ff-378b6e046a35",
   "metadata": {},
   "outputs": [
    {
     "name": "stdout",
     "output_type": "stream",
     "text": [
      "The percentage of null values in the 'broadcast_day' column is: 69.53%\n"
     ]
    }
   ],
   "source": [
    "null_percentage = (anime_df['broadcast_day'].isnull().sum() / len(anime_df)) * 100\n",
    "print(f\"The percentage of null values in the 'broadcast_day' column is: {null_percentage:.2f}%\")"
   ]
  },
  {
   "cell_type": "code",
   "execution_count": 18,
   "id": "4c2c71d7-35cb-49be-817a-430fe304e731",
   "metadata": {},
   "outputs": [
    {
     "name": "stdout",
     "output_type": "stream",
     "text": [
      "The percentage of null values in the 'broadcast_time' column is: 69.53%\n"
     ]
    }
   ],
   "source": [
    "null_percentage = (anime_df['broadcast_time'].isnull().sum() / len(anime_df)) * 100\n",
    "print(f\"The percentage of null values in the 'broadcast_time' column is: {null_percentage:.2f}%\")"
   ]
  },
  {
   "cell_type": "code",
   "execution_count": 19,
   "id": "7ef8f6d8-4072-40d7-b8f5-f7326789ba9d",
   "metadata": {},
   "outputs": [
    {
     "name": "stdout",
     "output_type": "stream",
     "text": [
      "The percentage of null values in the 'broadcast_timezone' column is: 69.53%\n"
     ]
    }
   ],
   "source": [
    "null_percentage = (anime_df['broadcast_timezone'].isnull().sum() / len(anime_df)) * 100\n",
    "print(f\"The percentage of null values in the 'broadcast_timezone' column is: {null_percentage:.2f}%\")"
   ]
  },
  {
   "cell_type": "markdown",
   "id": "0b0ce93e-f9f0-489d-8096-6a8f1ecec03c",
   "metadata": {},
   "source": [
    "Among the columns `broadcast_day`, `broadcast_time`, and `broadcast_timezone`, `broadcast_time` and `broadcast_timezone` will be removed due to the complexity of calculating these values without additional information, along with their high rate of missing values at 68.86%. Instead, the information from `broadcast_day` can potentially be replaced using the `aired_from` column since it's common for release days to align with broadcasting days."
   ]
  },
  {
   "cell_type": "markdown",
   "id": "87a01de6-ac14-4798-9982-c5f8a848ebf2",
   "metadata": {},
   "source": [
    "____________________\n",
    "**season / year**"
   ]
  },
  {
   "cell_type": "code",
   "execution_count": 20,
   "id": "71445c0d-62f4-4632-92e8-d4c61ca4d271",
   "metadata": {},
   "outputs": [
    {
     "data": {
      "text/html": [
       "<div>\n",
       "<style scoped>\n",
       "    .dataframe tbody tr th:only-of-type {\n",
       "        vertical-align: middle;\n",
       "    }\n",
       "\n",
       "    .dataframe tbody tr th {\n",
       "        vertical-align: top;\n",
       "    }\n",
       "\n",
       "    .dataframe thead th {\n",
       "        text-align: right;\n",
       "    }\n",
       "</style>\n",
       "<table border=\"1\" class=\"dataframe\">\n",
       "  <thead>\n",
       "    <tr style=\"text-align: right;\">\n",
       "      <th></th>\n",
       "      <th>season</th>\n",
       "      <th>year</th>\n",
       "      <th>aired_from</th>\n",
       "    </tr>\n",
       "  </thead>\n",
       "  <tbody>\n",
       "    <tr>\n",
       "      <th>4939</th>\n",
       "      <td>NaN</td>\n",
       "      <td>NaN</td>\n",
       "      <td>1968-01-01T00:00:00+00:00</td>\n",
       "    </tr>\n",
       "    <tr>\n",
       "      <th>429</th>\n",
       "      <td>NaN</td>\n",
       "      <td>NaN</td>\n",
       "      <td>2020-12-25T00:00:00+00:00</td>\n",
       "    </tr>\n",
       "    <tr>\n",
       "      <th>5115</th>\n",
       "      <td>fall</td>\n",
       "      <td>1963.0</td>\n",
       "      <td>1963-11-07T00:00:00+00:00</td>\n",
       "    </tr>\n",
       "    <tr>\n",
       "      <th>3896</th>\n",
       "      <td>summer</td>\n",
       "      <td>1985.0</td>\n",
       "      <td>1985-07-15T00:00:00+00:00</td>\n",
       "    </tr>\n",
       "    <tr>\n",
       "      <th>4558</th>\n",
       "      <td>fall</td>\n",
       "      <td>1977.0</td>\n",
       "      <td>1977-10-05T00:00:00+00:00</td>\n",
       "    </tr>\n",
       "  </tbody>\n",
       "</table>\n",
       "</div>"
      ],
      "text/plain": [
       "      season    year                 aired_from\n",
       "4939     NaN     NaN  1968-01-01T00:00:00+00:00\n",
       "429      NaN     NaN  2020-12-25T00:00:00+00:00\n",
       "5115    fall  1963.0  1963-11-07T00:00:00+00:00\n",
       "3896  summer  1985.0  1985-07-15T00:00:00+00:00\n",
       "4558    fall  1977.0  1977-10-05T00:00:00+00:00"
      ]
     },
     "execution_count": 20,
     "metadata": {},
     "output_type": "execute_result"
    }
   ],
   "source": [
    "anime_df[['season','year','aired_from']].sample(5)"
   ]
  },
  {
   "cell_type": "markdown",
   "id": "d2261444-a63c-4e1c-bea8-83566bc8a14a",
   "metadata": {},
   "source": [
    "\n",
    "In this case, missing values in the `year` and `season` columns will be filled using the `aired_from` column. This approach allows us to extract the year from the date and determine the season based on the date as well."
   ]
  },
  {
   "cell_type": "code",
   "execution_count": 21,
   "id": "c33dbb7b-4b2d-4f60-902f-3b9650a4c4b0",
   "metadata": {},
   "outputs": [
    {
     "data": {
      "image/png": "[encoded data removed]",
      "text/plain": [
       "<Figure size 1200x600 with 1 Axes>"
      ]
     },
     "metadata": {},
     "output_type": "display_data"
    }
   ],
   "source": [
    "sns.set_theme()\n",
    "plt.figure(figsize=(12, 6))\n",
    "sns.countplot(data=anime_df, x='season', color=\"red\", alpha=0.5)\n",
    "plt.xlabel('Season')\n",
    "plt.ylabel('Frequency')\n",
    "plt.title('Distribution of Season')\n",
    "plt.xticks(rotation=45)\n",
    "plt.show()"
   ]
  },
  {
   "cell_type": "markdown",
   "id": "bded2aab-57b0-45f0-9993-5c5ad79c4e08",
   "metadata": {},
   "source": [
    "It reveals that the spring season has the highest number of anime releases, closely followed by the fall season. In contrast, the winter season has considerably fewer premieres, and the summer season has the fewest. "
   ]
  },
  {
   "cell_type": "code",
   "execution_count": 22,
   "id": "7c40d63c-4da2-45e3-8b0b-146c5fdc6547",
   "metadata": {},
   "outputs": [
    {
     "data": {
      "image/png": "[encoded data removed]",
      "text/plain": [
       "<Figure size 1300x600 with 1 Axes>"
      ]
     },
     "metadata": {},
     "output_type": "display_data"
    }
   ],
   "source": [
    "year_data = anime_df['year'].dropna().astype(int)\n",
    "year_counts = year_data.value_counts().sort_index()\n",
    "plt.figure(figsize=(13, 6))\n",
    "sns.barplot(x=year_counts.index, y=year_counts.values, color=\"red\", alpha=0.5,)\n",
    "plt.title('Number of Animes Premiered by Year')\n",
    "plt.xlabel('Year')\n",
    "plt.ylabel('Number of Animes')\n",
    "plt.xticks(rotation=90)\n",
    "plt.show()"
   ]
  },
  {
   "cell_type": "markdown",
   "id": "0e7626db-2f42-49a5-acf8-c746a0c28941",
   "metadata": {},
   "source": [
    "We can observe that we have anime records ranging from 1961 to 2024. It's interesting to note that we are currently in the year 2023. Additionally, there is a noticeable trend of an increasing number of anime releases per year. To maintain data accuracy and relevance, records with the year 2024 will be removed, as they represent anime scheduled for future release."
   ]
  },
  {
   "cell_type": "markdown",
   "id": "13bedd03-0b4d-4af4-86cb-7a465129e684",
   "metadata": {},
   "source": [
    "____________________\n",
    "**producer / producer_id**"
   ]
  },
  {
   "cell_type": "code",
   "execution_count": 23,
   "id": "218a0f05-0ee4-4ddf-8ed2-e449d4d934c1",
   "metadata": {},
   "outputs": [
    {
     "data": {
      "text/html": [
       "<div>\n",
       "<style scoped>\n",
       "    .dataframe tbody tr th:only-of-type {\n",
       "        vertical-align: middle;\n",
       "    }\n",
       "\n",
       "    .dataframe tbody tr th {\n",
       "        vertical-align: top;\n",
       "    }\n",
       "\n",
       "    .dataframe thead th {\n",
       "        text-align: right;\n",
       "    }\n",
       "</style>\n",
       "<table border=\"1\" class=\"dataframe\">\n",
       "  <thead>\n",
       "    <tr style=\"text-align: right;\">\n",
       "      <th></th>\n",
       "      <th>producer</th>\n",
       "      <th>producer_id</th>\n",
       "    </tr>\n",
       "  </thead>\n",
       "  <tbody>\n",
       "    <tr>\n",
       "      <th>910</th>\n",
       "      <td>Sotsu</td>\n",
       "      <td>64.0</td>\n",
       "    </tr>\n",
       "    <tr>\n",
       "      <th>5182</th>\n",
       "      <td>NaN</td>\n",
       "      <td>NaN</td>\n",
       "    </tr>\n",
       "    <tr>\n",
       "      <th>3214</th>\n",
       "      <td>Kadokawa Shoten</td>\n",
       "      <td>113.0</td>\n",
       "    </tr>\n",
       "    <tr>\n",
       "      <th>4973</th>\n",
       "      <td>NaN</td>\n",
       "      <td>NaN</td>\n",
       "    </tr>\n",
       "    <tr>\n",
       "      <th>578</th>\n",
       "      <td>AT-X</td>\n",
       "      <td>238.0</td>\n",
       "    </tr>\n",
       "  </tbody>\n",
       "</table>\n",
       "</div>"
      ],
      "text/plain": [
       "             producer  producer_id\n",
       "910             Sotsu         64.0\n",
       "5182              NaN          NaN\n",
       "3214  Kadokawa Shoten        113.0\n",
       "4973              NaN          NaN\n",
       "578              AT-X        238.0"
      ]
     },
     "execution_count": 23,
     "metadata": {},
     "output_type": "execute_result"
    }
   ],
   "source": [
    "anime_df[['producer','producer_id']].sample(5)"
   ]
  },
  {
   "cell_type": "code",
   "execution_count": 24,
   "id": "865226cb-64cf-49cd-8695-3c481a114c79",
   "metadata": {},
   "outputs": [
    {
     "name": "stdout",
     "output_type": "stream",
     "text": [
      "The percentage of null values in the 'producer' column is: 30.36%\n"
     ]
    }
   ],
   "source": [
    "null_percentage = (anime_df['producer'].isnull().sum() / len(anime_df)) * 100\n",
    "print(f\"The percentage of null values in the 'producer' column is: {null_percentage:.2f}%\")"
   ]
  },
  {
   "cell_type": "code",
   "execution_count": 25,
   "id": "62d10ae1-f085-4c11-b3f7-c60b77182a62",
   "metadata": {},
   "outputs": [
    {
     "name": "stdout",
     "output_type": "stream",
     "text": [
      "The percentage of null values in the 'producer_id' column is: 30.36%\n"
     ]
    }
   ],
   "source": [
    "null_percentage = (anime_df['producer_id'].isnull().sum() / len(anime_df)) * 100\n",
    "print(f\"The percentage of null values in the 'producer_id' column is: {null_percentage:.2f}%\")"
   ]
  },
  {
   "cell_type": "markdown",
   "id": "4d3788e4-d69d-4f16-9388-41352cf75990",
   "metadata": {},
   "source": [
    "In this case, two options were considered: either removing rows where the `producer` column is null or using an identifier to indicate that the producer is unknown. "
   ]
  },
  {
   "cell_type": "markdown",
   "id": "d699d2df-308e-466f-986d-09e0b35a1fdc",
   "metadata": {},
   "source": [
    "____________________\n",
    "**studio / studio_id**"
   ]
  },
  {
   "cell_type": "code",
   "execution_count": 26,
   "id": "3623f7b1-09a4-43b1-bc37-0820228f5beb",
   "metadata": {},
   "outputs": [
    {
     "data": {
      "text/html": [
       "<div>\n",
       "<style scoped>\n",
       "    .dataframe tbody tr th:only-of-type {\n",
       "        vertical-align: middle;\n",
       "    }\n",
       "\n",
       "    .dataframe tbody tr th {\n",
       "        vertical-align: top;\n",
       "    }\n",
       "\n",
       "    .dataframe thead th {\n",
       "        text-align: right;\n",
       "    }\n",
       "</style>\n",
       "<table border=\"1\" class=\"dataframe\">\n",
       "  <thead>\n",
       "    <tr style=\"text-align: right;\">\n",
       "      <th></th>\n",
       "      <th>studio</th>\n",
       "      <th>studio_id</th>\n",
       "    </tr>\n",
       "  </thead>\n",
       "  <tbody>\n",
       "    <tr>\n",
       "      <th>2799</th>\n",
       "      <td>Pierrot</td>\n",
       "      <td>1.0</td>\n",
       "    </tr>\n",
       "    <tr>\n",
       "      <th>2841</th>\n",
       "      <td>Chaos Project</td>\n",
       "      <td>462.0</td>\n",
       "    </tr>\n",
       "    <tr>\n",
       "      <th>3423</th>\n",
       "      <td>Madhouse</td>\n",
       "      <td>11.0</td>\n",
       "    </tr>\n",
       "    <tr>\n",
       "      <th>1026</th>\n",
       "      <td>Pierrot</td>\n",
       "      <td>1.0</td>\n",
       "    </tr>\n",
       "    <tr>\n",
       "      <th>4910</th>\n",
       "      <td>NaN</td>\n",
       "      <td>NaN</td>\n",
       "    </tr>\n",
       "  </tbody>\n",
       "</table>\n",
       "</div>"
      ],
      "text/plain": [
       "             studio  studio_id\n",
       "2799        Pierrot        1.0\n",
       "2841  Chaos Project      462.0\n",
       "3423       Madhouse       11.0\n",
       "1026        Pierrot        1.0\n",
       "4910            NaN        NaN"
      ]
     },
     "execution_count": 26,
     "metadata": {},
     "output_type": "execute_result"
    }
   ],
   "source": [
    "anime_df[['studio','studio_id']].sample(5)"
   ]
  },
  {
   "cell_type": "code",
   "execution_count": 27,
   "id": "b09b0fdd-e4e5-45fc-8924-dde857aca29a",
   "metadata": {},
   "outputs": [
    {
     "name": "stdout",
     "output_type": "stream",
     "text": [
      "The percentage of null values in the 'studio' column is: 18.51%\n"
     ]
    }
   ],
   "source": [
    "null_percentage = (anime_df['studio'].isnull().sum() / len(anime_df)) * 100\n",
    "print(f\"The percentage of null values in the 'studio' column is: {null_percentage:.2f}%\")"
   ]
  },
  {
   "cell_type": "code",
   "execution_count": 28,
   "id": "7beb5a2d-afdb-49eb-8598-f36e4418b1e1",
   "metadata": {},
   "outputs": [
    {
     "name": "stdout",
     "output_type": "stream",
     "text": [
      "The percentage of null values in the 'studio_id' column is: 18.51%\n"
     ]
    }
   ],
   "source": [
    "null_percentage = (anime_df['studio_id'].isnull().sum() / len(anime_df)) * 100\n",
    "print(f\"The percentage of null values in the 'studio_id' column is: {null_percentage:.2f}%\")"
   ]
  },
  {
   "cell_type": "markdown",
   "id": "b8601bc2-e5c5-4572-b29d-422d2b102ab1",
   "metadata": {},
   "source": [
    "In the case of the `studio` column, similar treatment options could be considered as with the `producer` and  `producer_id` columns."
   ]
  },
  {
   "cell_type": "markdown",
   "id": "a76c45c3-1256-42dd-96e4-c2cef65c225f",
   "metadata": {},
   "source": [
    "____________________\n",
    "**aired_to**"
   ]
  },
  {
   "cell_type": "code",
   "execution_count": 29,
   "id": "a189f862-bb5d-46c9-bd1e-9ea098abd287",
   "metadata": {},
   "outputs": [
    {
     "data": {
      "text/plain": [
       "30                            NaN\n",
       "5494                          NaN\n",
       "4320    1981-01-31T00:00:00+00:00\n",
       "Name: aired_to, dtype: object"
      ]
     },
     "execution_count": 29,
     "metadata": {},
     "output_type": "execute_result"
    }
   ],
   "source": [
    "anime_df['aired_to'].sample(3)"
   ]
  },
  {
   "cell_type": "code",
   "execution_count": 30,
   "id": "b23e32c6-4fe2-4fb1-a42a-7f19c8d0a2f2",
   "metadata": {},
   "outputs": [
    {
     "name": "stdout",
     "output_type": "stream",
     "text": [
      "The percentage of null values in the 'aired_to' column is: 45.95%\n"
     ]
    }
   ],
   "source": [
    "null_percentage = (anime_df['aired_to'].isnull().sum() / len(anime_df)) * 100\n",
    "print(f\"The percentage of null values in the 'aired_to' column is: {null_percentage:.2f}%\")"
   ]
  },
  {
   "cell_type": "markdown",
   "id": "2471a28f-9f2a-410c-a3c3-39751eb03d2c",
   "metadata": {},
   "source": [
    "In this case, the `aired_to` column will be removed, as it is challenging to calculate when an anime concluded."
   ]
  },
  {
   "cell_type": "markdown",
   "id": "6e6b2b71-19b3-4c42-a4b9-9040ab90e412",
   "metadata": {},
   "source": [
    "____________________\n",
    "**demographic**"
   ]
  },
  {
   "cell_type": "code",
   "execution_count": 31,
   "id": "d2d2a891-d141-4b84-a22c-0fcc1e32681b",
   "metadata": {},
   "outputs": [
    {
     "name": "stdout",
     "output_type": "stream",
     "text": [
      "The percentage of null values in the 'demographic' column is: 56.90%\n"
     ]
    }
   ],
   "source": [
    "null_percentage = (anime_df['demographic'].isnull().sum() / len(anime_df)) * 100\n",
    "print(f\"The percentage of null values in the 'demographic' column is: {null_percentage:.2f}%\")         "
   ]
  },
  {
   "cell_type": "code",
   "execution_count": 32,
   "id": "f1c586ea-35c6-45f9-a1b1-f4b8bfeae01a",
   "metadata": {},
   "outputs": [
    {
     "data": {
      "image/png": "[encoded data removed]",
      "text/plain": [
       "<Figure size 1200x600 with 1 Axes>"
      ]
     },
     "metadata": {},
     "output_type": "display_data"
    }
   ],
   "source": [
    "sns.set_theme()\n",
    "plt.figure(figsize=(12, 6))\n",
    "sns.countplot(data=anime_df, x='demographic', color=\"red\", alpha=0.5)\n",
    "plt.xlabel('Demographic')\n",
    "plt.ylabel('Frequency')\n",
    "plt.title('Distribution of Demographic')\n",
    "plt.xticks(rotation=45)\n",
    "plt.show()"
   ]
  },
  {
   "cell_type": "markdown",
   "id": "083c315a-b712-4cc1-9749-1a7aa314305c",
   "metadata": {},
   "source": [
    "It's evident that the ``demographic`` category 'Shounen' has the highest frequency, followed by 'Kids' with around 600 occurrences, 'Seinen' with 400, 'Shoujo,' and 'Josei.' Due to the high number of null values and the lack of another column to impute values, it was decided to remove this column"
   ]
  },
  {
   "cell_type": "markdown",
   "id": "8fbf6b59-93ac-4f78-8230-191bc31c85f6",
   "metadata": {},
   "source": [
    "____________________\n",
    "**rank**"
   ]
  },
  {
   "cell_type": "code",
   "execution_count": 33,
   "id": "ee8ec3e7-55b8-475e-bbe2-31ebd5a748f6",
   "metadata": {},
   "outputs": [
    {
     "data": {
      "text/plain": [
       "5296    17743.0\n",
       "5214    18977.0\n",
       "5164        NaN\n",
       "3470     9166.0\n",
       "2267     3059.0\n",
       "Name: rank, dtype: float64"
      ]
     },
     "execution_count": 33,
     "metadata": {},
     "output_type": "execute_result"
    }
   ],
   "source": [
    "anime_df['rank'].sample(5)"
   ]
  },
  {
   "cell_type": "code",
   "execution_count": 34,
   "id": "5a22953a-aba2-4984-b9ac-7be25e1789b1",
   "metadata": {},
   "outputs": [
    {
     "data": {
      "text/plain": [
       "4887"
      ]
     },
     "execution_count": 34,
     "metadata": {},
     "output_type": "execute_result"
    }
   ],
   "source": [
    "anime_df['rank'].nunique()"
   ]
  },
  {
   "cell_type": "code",
   "execution_count": 35,
   "id": "7922dd3e-385b-4e3b-aef5-767273951f01",
   "metadata": {},
   "outputs": [
    {
     "data": {
      "text/plain": [
       "rank\n",
       "4443.0     3\n",
       "6148.0     3\n",
       "2477.0     2\n",
       "10882.0    2\n",
       "5480.0     2\n",
       "          ..\n",
       "8314.0     2\n",
       "6271.0     2\n",
       "2523.0     2\n",
       "2464.0     2\n",
       "12623.0    2\n",
       "Name: count, Length: 176, dtype: int64"
      ]
     },
     "execution_count": 35,
     "metadata": {},
     "output_type": "execute_result"
    }
   ],
   "source": [
    "same_rank_animes = anime_df[anime_df.duplicated(subset=['rank'], keep=False)]\n",
    "same_rank_animes['rank'].value_counts()"
   ]
  },
  {
   "cell_type": "markdown",
   "id": "50825ce9-9075-41a1-8901-0e586989cf50",
   "metadata": {},
   "source": [
    "It can be observed that the number of unique values is lower than that of the DataFrame, indicating that there are animes with the same rank, which doesn't make much sense. This could happen because the rank changes every time new anime is released. Therefore, the decision was made to remove this column."
   ]
  },
  {
   "cell_type": "markdown",
   "id": "0a3d94d6-3c10-4452-b4cb-a7d470822c96",
   "metadata": {},
   "source": [
    "## Columns to Drop"
   ]
  },
  {
   "cell_type": "markdown",
   "id": "17e1d675-1ef8-4125-9b4c-dcaa6c76581f",
   "metadata": {},
   "source": [
    "- `demographic`\n",
    "- `aired_yo`\n",
    "- `broadcast_time`\n",
    "- `broadcast_timezone`\n",
    "- `rank`\n",
    "- `studio_id`\n",
    "- `producer_id`"
   ]
  },
  {
   "cell_type": "code",
   "execution_count": 36,
   "id": "07969211-a574-4433-b88f-af60071b6edb",
   "metadata": {},
   "outputs": [],
   "source": [
    "columns_to_drop = ['demographic', 'aired_to', 'broadcast_time', 'broadcast_timezone', 'rank', 'studio_id', 'producer_id', 'Unnamed: 0']\n",
    "anime_df.drop(columns=columns_to_drop, inplace=True)"
   ]
  },
  {
   "cell_type": "code",
   "execution_count": 37,
   "id": "44553b5d-a53a-4873-afd2-a2bccc84264c",
   "metadata": {},
   "outputs": [],
   "source": [
    "anime_df.drop_duplicates(inplace=True)"
   ]
  },
  {
   "cell_type": "code",
   "execution_count": 38,
   "id": "2d3ab208-83cb-49bf-b8f2-041b29ecd1ca",
   "metadata": {},
   "outputs": [
    {
     "data": {
      "text/plain": [
       "(5504, 17)"
      ]
     },
     "execution_count": 38,
     "metadata": {},
     "output_type": "execute_result"
    }
   ],
   "source": [
    "anime_df.shape"
   ]
  },
  {
   "cell_type": "markdown",
   "id": "c6f65cfd-064a-4eb3-a749-2ba950fe702c",
   "metadata": {},
   "source": [
    "A total of 5 columns have been successfully removed from the dataset, resulting in a reduced dataset containing 19 columns."
   ]
  },
  {
   "cell_type": "markdown",
   "id": "3752d478-c30c-4f58-aaae-543b7ca73006",
   "metadata": {},
   "source": [
    "## Data Transformation"
   ]
  },
  {
   "cell_type": "code",
   "execution_count": 39,
   "id": "da78c547-e9de-409d-95ee-e7fda32e2491",
   "metadata": {},
   "outputs": [],
   "source": [
    "anime_df_copy = anime_df.copy()"
   ]
  },
  {
   "cell_type": "markdown",
   "id": "ce1d8f6c-bfab-41bd-80c0-16b2bc8f0376",
   "metadata": {},
   "source": [
    "**Missing Values: Removing Nulls**"
   ]
  },
  {
   "cell_type": "markdown",
   "id": "2e2a3c1e-3926-47b7-9c5c-9b473d3836fd",
   "metadata": {},
   "source": [
    "____________________\n",
    "**score**\n"
   ]
  },
  {
   "cell_type": "code",
   "execution_count": 40,
   "id": "846ed50a-878a-430b-8b52-2cce4d8f1be6",
   "metadata": {},
   "outputs": [
    {
     "data": {
      "text/plain": [
       "581"
      ]
     },
     "execution_count": 40,
     "metadata": {},
     "output_type": "execute_result"
    }
   ],
   "source": [
    "anime_df_copy['score'].isnull().sum()"
   ]
  },
  {
   "cell_type": "code",
   "execution_count": 41,
   "id": "521930ed-1651-4fb9-a931-1ec2f0672aea",
   "metadata": {},
   "outputs": [
    {
     "data": {
      "text/plain": [
       "0"
      ]
     },
     "execution_count": 41,
     "metadata": {},
     "output_type": "execute_result"
    }
   ],
   "source": [
    "anime_df_copy = anime_df_copy[pd.notna(anime_df_copy['score'])]\n",
    "anime_df_copy['score'].isnull().sum()"
   ]
  },
  {
   "cell_type": "markdown",
   "id": "fed5c655-7646-4d16-887c-3972594d6a1a",
   "metadata": {},
   "source": [
    "Given the substantial number of missing values (581) in the `score` column, it has been decided to simply remove them. Attempting to fill these missing values would be challenging and might compromise the accuracy of the data."
   ]
  },
  {
   "cell_type": "markdown",
   "id": "ac20808d-18c1-4771-a936-7687d2acfb24",
   "metadata": {},
   "source": [
    "____________________\n",
    "**rating**"
   ]
  },
  {
   "cell_type": "code",
   "execution_count": 42,
   "id": "a00bc426-3d7a-444a-acdc-7bb70b000f0e",
   "metadata": {},
   "outputs": [
    {
     "data": {
      "text/plain": [
       "rating\n",
       "PG-13 - Teens 13 or older         2319\n",
       "G - All Ages                       961\n",
       "R - 17+ (violence & profanity)     662\n",
       "R+ - Mild Nudity                   563\n",
       "PG - Children                      264\n",
       "Rx - Hentai                        131\n",
       "NaN                                 23\n",
       "Name: count, dtype: int64"
      ]
     },
     "execution_count": 42,
     "metadata": {},
     "output_type": "execute_result"
    }
   ],
   "source": [
    "anime_df_copy['rating'].value_counts(dropna=False)"
   ]
  },
  {
   "cell_type": "code",
   "execution_count": 43,
   "id": "a07381f0-24c6-42b3-b8b0-8543fc6445c8",
   "metadata": {},
   "outputs": [
    {
     "data": {
      "text/plain": [
       "rating\n",
       "Teens       2319\n",
       "Mature      1356\n",
       "All Ages    1225\n",
       "Name: count, dtype: int64"
      ]
     },
     "execution_count": 43,
     "metadata": {},
     "output_type": "execute_result"
    }
   ],
   "source": [
    "anime_df_copy = anime_df_copy[pd.notna(anime_df_copy['rating'])]\n",
    "anime_df_copy['rating'].replace({\n",
    "    'PG-13 - Teens 13 or older': 'Teens',\n",
    "    'G - All Ages': 'All Ages',\n",
    "    'R - 17+ (violence & profanity)': 'Mature',\n",
    "    'R+ - Mild Nudity': 'Mature',\n",
    "    'PG - Children': 'All Ages',\n",
    "    'Rx - Hentai': 'Mature'\n",
    "}, inplace=True)\n",
    "anime_df_copy['rating'].value_counts(dropna=False)"
   ]
  },
  {
   "cell_type": "markdown",
   "id": "8193ec3f-5359-48c3-a3ec-272911a63bee",
   "metadata": {},
   "source": [
    "NAN values were removed due to their limited quantity, and an alternative classification system was adopted for the `rating` column. The new classification is as follows:\n",
    "\n",
    "- Teens for 'PG-13 - Teens 13 or older'\n",
    "- All Ages for 'G - All Ages', 'PG - Children'\n",
    "- Mature for 'R - 17+ (violence & profanity)', 'R+ - Mild Nudity', 'Rx - Hentai'"
   ]
  },
  {
   "cell_type": "markdown",
   "id": "1e7d3699-a2d7-42a3-84bb-0a7dc21cc290",
   "metadata": {},
   "source": [
    "____________________\n",
    "**genre**\n"
   ]
  },
  {
   "cell_type": "code",
   "execution_count": 44,
   "id": "67ae7c06-b180-49a3-a26a-48c469b1efc7",
   "metadata": {},
   "outputs": [
    {
     "data": {
      "text/plain": [
       "genre\n",
       "Action           1783\n",
       "Comedy            961\n",
       "Adventure         631\n",
       "Drama             450\n",
       "NaN               229\n",
       "Fantasy           138\n",
       "Sports             98\n",
       "Avant Garde        91\n",
       "Award Winning      88\n",
       "Romance            73\n",
       "Hentai             63\n",
       "Sci-Fi             57\n",
       "Horror             51\n",
       "Boys Love          49\n",
       "Slice of Life      44\n",
       "Mystery            42\n",
       "Supernatural       19\n",
       "Gourmet            11\n",
       "Girls Love          7\n",
       "Ecchi               7\n",
       "Suspense            5\n",
       "Erotica             3\n",
       "Name: count, dtype: int64"
      ]
     },
     "execution_count": 44,
     "metadata": {},
     "output_type": "execute_result"
    }
   ],
   "source": [
    "anime_df_copy['genre'].value_counts(dropna=False)"
   ]
  },
  {
   "cell_type": "code",
   "execution_count": 45,
   "id": "ac156eb8-7cd0-4b3f-8abd-32d4f1fa1cd3",
   "metadata": {},
   "outputs": [
    {
     "data": {
      "text/plain": [
       "array(['Action', 'Comedy', 'Romance', 'Adventure', 'Fantasy', 'Mystery',\n",
       "       'Drama', 'Suspense', 'Horror', 'Sci-Fi', 'Boys Love',\n",
       "       'Slice of Life', 'Sports', 'Award Winning', 'Supernatural',\n",
       "       'Gourmet', 'Girls Love', 'Avant Garde', 'Ecchi', 'Erotica',\n",
       "       'Hentai'], dtype=object)"
      ]
     },
     "execution_count": 45,
     "metadata": {},
     "output_type": "execute_result"
    }
   ],
   "source": [
    "anime_df_copy = anime_df_copy[pd.notna(anime_df_copy['genre'])]\n",
    "anime_df_copy['genre'].unique()"
   ]
  },
  {
   "cell_type": "markdown",
   "id": "b801fec0-1f0e-4ab0-9af0-59e50f20a20c",
   "metadata": {},
   "source": [
    "Given the removal of the `demographic` column, the initial approach of filling null values in the `body_type` column using information from that column is no longer feasible. As a result, it was decided to simply remove the number of missing values in the `body_type` column."
   ]
  },
  {
   "cell_type": "markdown",
   "id": "062f1de7-93d6-4668-855d-4652066b132c",
   "metadata": {},
   "source": [
    "____________________\n",
    "**type**"
   ]
  },
  {
   "cell_type": "code",
   "execution_count": 46,
   "id": "0917a232-7cca-487c-8502-c2d7d3dfe60e",
   "metadata": {},
   "outputs": [
    {
     "data": {
      "text/plain": [
       "type\n",
       "TV         2302\n",
       "Movie      1030\n",
       "OVA         954\n",
       "Special     301\n",
       "ONA          58\n",
       "Music        25\n",
       "NaN           1\n",
       "Name: count, dtype: int64"
      ]
     },
     "execution_count": 46,
     "metadata": {},
     "output_type": "execute_result"
    }
   ],
   "source": [
    "anime_df_copy['type'].value_counts(dropna=False)"
   ]
  },
  {
   "cell_type": "code",
   "execution_count": 47,
   "id": "00977b96-b0db-47e2-a7e6-d5481fc3c6e4",
   "metadata": {},
   "outputs": [],
   "source": [
    "anime_df_copy['type'] = anime_df_copy['type'].replace('Music', np.nan)\n",
    "anime_df_copy = anime_df_copy[pd.notna(anime_df_copy['type'])]"
   ]
  },
  {
   "cell_type": "markdown",
   "id": "40fe780d-508a-4faa-8053-0fa684202095",
   "metadata": {},
   "source": [
    "Due to the low number of NaN values in the `type` column, the decision was made to simply remove them. Additionally, rows labeled as 'Music' were also eliminated, as the analysis does not focus on anime songs."
   ]
  },
  {
   "cell_type": "markdown",
   "id": "cc7c6d77-c95f-491a-919a-c56d411aa4c9",
   "metadata": {
    "jp-MarkdownHeadingCollapsed": true
   },
   "source": [
    "**Transformations**"
   ]
  },
  {
   "cell_type": "markdown",
   "id": "5878df83-4dbc-41e1-93e4-570ea432bdac",
   "metadata": {},
   "source": [
    "____________________\n",
    "**episodes**"
   ]
  },
  {
   "cell_type": "code",
   "execution_count": 48,
   "id": "565ed80a-94a3-4d25-ad5b-d8d62c1ea5b9",
   "metadata": {},
   "outputs": [
    {
     "data": {
      "text/plain": [
       "type\n",
       "Movie       1.0\n",
       "ONA        12.0\n",
       "OVA         1.0\n",
       "Special     1.0\n",
       "TV         12.0\n",
       "Name: episodes, dtype: float64"
      ]
     },
     "execution_count": 48,
     "metadata": {},
     "output_type": "execute_result"
    }
   ],
   "source": [
    "result = anime_df_copy.groupby('type')['episodes'].agg(lambda x: x.mode().iloc[0])\n",
    "result"
   ]
  },
  {
   "cell_type": "code",
   "execution_count": 49,
   "id": "daa5692d-9e59-4c27-993d-8d6f6603d6ec",
   "metadata": {},
   "outputs": [
    {
     "data": {
      "text/plain": [
       "0"
      ]
     },
     "execution_count": 49,
     "metadata": {},
     "output_type": "execute_result"
    }
   ],
   "source": [
    "default_seating_values = {'Movie': 1.0, 'ONA': 12.0, 'OVA': 1.0, 'Special': 1.0, 'TV': 12.0}\n",
    "anime_df_copy['episodes'] = anime_df_copy.apply(lambda row: default_seating_values.get(row['type'], row['episodes']) if pd.isna(row['episodes']) else row['episodes'], axis=1).astype(int)\n",
    "anime_df_copy['episodes'].isnull().sum()"
   ]
  },
  {
   "cell_type": "markdown",
   "id": "093deaf4-473e-43c0-92f3-76197c36819c",
   "metadata": {},
   "source": [
    "To handle missing values in the `episodes` column, the most common value (mode) for `type` was assigned within each type group. "
   ]
  },
  {
   "cell_type": "markdown",
   "id": "83eb70f8-f78d-42d4-95a2-8bef966350b6",
   "metadata": {},
   "source": [
    "____________________\n",
    "**year**"
   ]
  },
  {
   "cell_type": "code",
   "execution_count": 50,
   "id": "1dd85136-520d-4516-851a-4a4ecd28f63f",
   "metadata": {},
   "outputs": [
    {
     "data": {
      "text/plain": [
       "array([2023, 2022, 2021, 2020, 2019, 2018, 2017, 2016, 2015, 2014, 2013,\n",
       "       2012, 2011, 2010, 2009, 2008, 2007, 2006, 2005, 2004, 2003, 2002,\n",
       "       2001, 2000, 1999, 1998, 1997, 1996, 1995, 1994, 1993, 1992, 1991,\n",
       "       1990, 1989, 1988, 1987, 1986, 1985, 1984, 1983, 1982, 1981, 1980,\n",
       "       1979, 1978, 1977, 1976, 1975, 1974, 1973, 1972, 1971, 1970, 1969,\n",
       "       1968, 1967, 1966, 1965, 1964, 1963, 1962, 1961, 1960, 1959, 1958,\n",
       "       1957, 1956, 1954, 1952, 1950, 1949, 1948, 1947, 1946, 1945, 1944,\n",
       "       1943, 1942, 1941, 1940, 1939, 1937, 1936, 1935, 1934, 1933, 1932,\n",
       "       1931, 1930, 1929, 1928, 1927, 1926, 1925, 1924, 1918, 1917])"
      ]
     },
     "execution_count": 50,
     "metadata": {},
     "output_type": "execute_result"
    }
   ],
   "source": [
    "anime_df_copy['aired_from'] = pd.to_datetime(anime_df_copy['aired_from'], errors='coerce')\n",
    "anime_df_copy['year'] = anime_df_copy['aired_from'].dt.year\n",
    "anime_df_copy['year'].unique()"
   ]
  },
  {
   "cell_type": "markdown",
   "id": "47b9f24d-cadc-47ad-9e72-126ee444b4f1",
   "metadata": {},
   "source": [
    "To address missing values in the `year` column, the decision was made to utilize information from the `aired_from` column. The `aired_from` dates were converted, and the corresponding years were extracted and assigned to the `year` column. "
   ]
  },
  {
   "cell_type": "markdown",
   "id": "2973ed8c-b8d9-4b44-b804-fa3824fb4888",
   "metadata": {},
   "source": [
    "____________________\n",
    "**season**"
   ]
  },
  {
   "cell_type": "code",
   "execution_count": 51,
   "id": "e517ea86-c5da-4cde-809a-757a39abfe76",
   "metadata": {},
   "outputs": [
    {
     "data": {
      "text/plain": [
       "array([1, 3, 2])"
      ]
     },
     "execution_count": 51,
     "metadata": {},
     "output_type": "execute_result"
    }
   ],
   "source": [
    "season_to_check = 'winter'\n",
    "selected_season_rows = anime_df_copy[anime_df_copy['season'] == season_to_check]\n",
    "selected_season_rows['aired_from'] = pd.to_datetime(selected_season_rows['aired_from'], errors='coerce')\n",
    "unique_months = selected_season_rows['aired_from'].dt.month.unique()\n",
    "unique_months"
   ]
  },
  {
   "cell_type": "code",
   "execution_count": 52,
   "id": "3211d927-fa52-40e5-a906-971c5b2b5415",
   "metadata": {},
   "outputs": [
    {
     "data": {
      "text/plain": [
       "array([4, 5, 3])"
      ]
     },
     "execution_count": 52,
     "metadata": {},
     "output_type": "execute_result"
    }
   ],
   "source": [
    "season_to_check = 'spring'\n",
    "selected_season_rows = anime_df_copy[anime_df_copy['season'] == season_to_check]\n",
    "selected_season_rows['aired_from'] = pd.to_datetime(selected_season_rows['aired_from'], errors='coerce')\n",
    "unique_months = selected_season_rows['aired_from'].dt.month.unique()\n",
    "unique_months"
   ]
  },
  {
   "cell_type": "code",
   "execution_count": 53,
   "id": "3782e916-de5e-4519-ad1d-9e69f2a8b7ec",
   "metadata": {},
   "outputs": [
    {
     "data": {
      "text/plain": [
       "array([7, 8, 9])"
      ]
     },
     "execution_count": 53,
     "metadata": {},
     "output_type": "execute_result"
    }
   ],
   "source": [
    "season_to_check = 'summer'\n",
    "selected_season_rows = anime_df_copy[anime_df_copy['season'] == season_to_check]\n",
    "selected_season_rows['aired_from'] = pd.to_datetime(selected_season_rows['aired_from'], errors='coerce')\n",
    "unique_months = selected_season_rows['aired_from'].dt.month.unique()\n",
    "unique_months"
   ]
  },
  {
   "cell_type": "code",
   "execution_count": 54,
   "id": "fd924632-6304-4641-b356-6763cacf1b5a",
   "metadata": {},
   "outputs": [
    {
     "data": {
      "text/plain": [
       "array([10, 11, 12])"
      ]
     },
     "execution_count": 54,
     "metadata": {},
     "output_type": "execute_result"
    }
   ],
   "source": [
    "season_to_check = 'fall'\n",
    "selected_season_rows = anime_df_copy[anime_df_copy['season'] == season_to_check]\n",
    "selected_season_rows['aired_from'] = pd.to_datetime(selected_season_rows['aired_from'], errors='coerce')\n",
    "unique_months = selected_season_rows['aired_from'].dt.month.unique()\n",
    "unique_months"
   ]
  },
  {
   "cell_type": "code",
   "execution_count": 55,
   "id": "478adfc8-650c-458a-94d0-edebd49993e1",
   "metadata": {},
   "outputs": [
    {
     "data": {
      "text/plain": [
       "season\n",
       "winter    1301\n",
       "fall      1147\n",
       "summer    1101\n",
       "spring    1096\n",
       "Name: count, dtype: int64"
      ]
     },
     "execution_count": 55,
     "metadata": {},
     "output_type": "execute_result"
    }
   ],
   "source": [
    "month_to_season = {\n",
    "    1: 'winter', 2: 'winter', 3: 'winter',\n",
    "    4: 'spring', 5: 'spring', 6: 'spring',\n",
    "    7: 'summer', 8: 'summer', 9: 'summer',\n",
    "    10: 'fall', 11: 'fall', 12: 'fall'\n",
    "}\n",
    "anime_df_copy['season'] = anime_df_copy['season'].fillna(anime_df_copy['aired_from'].dt.month.map(month_to_season))\n",
    "anime_df_copy['season'].value_counts(dropna=False)"
   ]
  },
  {
   "cell_type": "markdown",
   "id": "2bf37ce1-786c-4b6e-b4a7-33d22ba23390",
   "metadata": {},
   "source": [
    "To fill the NaN values in the `season` column, the month from the `aired_from` column was used. To determine the months associated with each season, the unique months for each season were examined. It was observed that only spring and winter shared the same month, which was 3. Additionally, the month 6 did not appear in any of the seasons. Therefore, it was decided that month 3 would represent winter, and the unassigned month would represent spring."
   ]
  },
  {
   "cell_type": "markdown",
   "id": "d2e62a72-fa46-47b3-8dc3-a42f494008c2",
   "metadata": {},
   "source": [
    "____________________\n",
    "**broadcast_day**"
   ]
  },
  {
   "cell_type": "code",
   "execution_count": 56,
   "id": "81910308-6f36-4601-bc7b-4e982be2f6ba",
   "metadata": {},
   "outputs": [
    {
     "data": {
      "text/plain": [
       "broadcast_day\n",
       "NaN           2983\n",
       "Sundays        315\n",
       "Fridays        301\n",
       "Saturdays      296\n",
       "Thursdays      208\n",
       "Tuesdays       194\n",
       "Wednesdays     191\n",
       "Mondays        157\n",
       "Name: count, dtype: int64"
      ]
     },
     "execution_count": 56,
     "metadata": {},
     "output_type": "execute_result"
    }
   ],
   "source": [
    "anime_df_copy['broadcast_day'].value_counts(dropna=False)"
   ]
  },
  {
   "cell_type": "code",
   "execution_count": 57,
   "id": "2d715b70-b21c-4b71-92ee-a422a348b1d9",
   "metadata": {},
   "outputs": [
    {
     "data": {
      "text/plain": [
       "broadcast_day\n",
       "Saturday     1220\n",
       "Friday        881\n",
       "Sunday        601\n",
       "Wednesday     573\n",
       "Thursday      536\n",
       "Tuesday       446\n",
       "Monday        388\n",
       "Name: count, dtype: int64"
      ]
     },
     "execution_count": 57,
     "metadata": {},
     "output_type": "execute_result"
    }
   ],
   "source": [
    "anime_df_copy['broadcast_day'] = anime_df_copy['broadcast_day'].str.rstrip('s')\n",
    "anime_df_copy['broadcast_day'].fillna(anime_df_copy['aired_from'].dt.day_name(), inplace=True)\n",
    "anime_df_copy['broadcast_day'].value_counts(dropna=False)"
   ]
  },
  {
   "cell_type": "markdown",
   "id": "b0838918-f9dc-49f8-a4e7-acadd3a93495",
   "metadata": {},
   "source": [
    "To fill in the missing values, it was decided to use the day from `aired_from` since it is common for the release day to be the airing day. Additionally, the 's' was removed to keep only the day."
   ]
  },
  {
   "cell_type": "markdown",
   "id": "f5415aad-9f3a-4a43-9f6a-5bc1b3038b62",
   "metadata": {},
   "source": [
    "____________________\n",
    "**producer**"
   ]
  },
  {
   "cell_type": "code",
   "execution_count": 58,
   "id": "693ca9cf-2bd9-4101-aa37-59ddc3cc49e3",
   "metadata": {},
   "outputs": [
    {
     "data": {
      "text/plain": [
       "producer\n",
       "NaN                                      1207\n",
       "Aniplex                                   288\n",
       "TV Tokyo                                  243\n",
       "Bandai Visual                             206\n",
       "Lantis                                     91\n",
       "                                         ... \n",
       "Lawson Entertainment                        1\n",
       "TMS-Kyokuchi                                1\n",
       "Glovision                                   1\n",
       "E&G Films                                   1\n",
       "Tenkatsu Tennenshoku Katsudou Shashin       1\n",
       "Name: count, Length: 335, dtype: int64"
      ]
     },
     "execution_count": 58,
     "metadata": {},
     "output_type": "execute_result"
    }
   ],
   "source": [
    "anime_df_copy['producer'].value_counts(dropna=False)"
   ]
  },
  {
   "cell_type": "code",
   "execution_count": 59,
   "id": "c10f55f0-ee44-4a72-a0a4-d23518f9d3c5",
   "metadata": {},
   "outputs": [],
   "source": [
    "anime_df_copy['producer'].fillna('Unknown', inplace=True)"
   ]
  },
  {
   "cell_type": "markdown",
   "id": "7b45529b-453e-43d7-b539-130e2791999b",
   "metadata": {},
   "source": [
    "In order to address the numerous NaN values in the `producer` column without resorting to removal, a decision was made to fill these missing values with the placeholder 'Unknown'."
   ]
  },
  {
   "cell_type": "markdown",
   "id": "52218737-591e-4650-ab83-49be219c5ae8",
   "metadata": {},
   "source": [
    "____________________\n",
    "**studio**"
   ]
  },
  {
   "cell_type": "code",
   "execution_count": 60,
   "id": "d4ef38af-6a14-4f10-be8b-e01aa627be0d",
   "metadata": {},
   "outputs": [
    {
     "data": {
      "text/plain": [
       "studio\n",
       "NaN                      442\n",
       "Toei Animation           374\n",
       "Madhouse                 215\n",
       "J.C.Staff                212\n",
       "Sunrise                  209\n",
       "                        ... \n",
       "Rikuentai                  1\n",
       "Tamura Shigeru Studio      1\n",
       "Studio Flad                1\n",
       "Studio Bogey               1\n",
       "Image Kei                  1\n",
       "Name: count, Length: 309, dtype: int64"
      ]
     },
     "execution_count": 60,
     "metadata": {},
     "output_type": "execute_result"
    }
   ],
   "source": [
    "anime_df_copy['studio'].value_counts(dropna=False)"
   ]
  },
  {
   "cell_type": "code",
   "execution_count": 61,
   "id": "d121daec-ed1e-431d-85ef-d58a3df179c9",
   "metadata": {},
   "outputs": [],
   "source": [
    "anime_df_copy['studio'].fillna('Unknown', inplace=True)"
   ]
  },
  {
   "cell_type": "markdown",
   "id": "7b6199f9-b127-4f42-b1de-f21a79c378c1",
   "metadata": {},
   "source": [
    "To handle the NaN values in the `studio` column, a similar strategy to the `producer` column was employed. "
   ]
  },
  {
   "cell_type": "markdown",
   "id": "dc4a37af-cfbf-47cb-a9f8-cb503ba2ab69",
   "metadata": {},
   "source": [
    "**Data Transformation Summary**"
   ]
  },
  {
   "cell_type": "code",
   "execution_count": 62,
   "id": "5fca0650-95ce-423a-98a5-37311a8c8000",
   "metadata": {},
   "outputs": [
    {
     "name": "stdout",
     "output_type": "stream",
     "text": [
      "<class 'pandas.core.frame.DataFrame'>\n",
      "Index: 4645 entries, 47 to 5500\n",
      "Data columns (total 17 columns):\n",
      " #   Column         Non-Null Count  Dtype              \n",
      "---  ------         --------------  -----              \n",
      " 0   mal_id         4645 non-null   int64              \n",
      " 1   title          4645 non-null   object             \n",
      " 2   score          4645 non-null   float64            \n",
      " 3   season         4645 non-null   object             \n",
      " 4   year           4645 non-null   int32              \n",
      " 5   aired_from     4645 non-null   datetime64[ns, UTC]\n",
      " 6   popularity     4645 non-null   int64              \n",
      " 7   favorites      4645 non-null   int64              \n",
      " 8   members        4645 non-null   int64              \n",
      " 9   episodes       4645 non-null   int32              \n",
      " 10  genre          4645 non-null   object             \n",
      " 11  rating         4645 non-null   object             \n",
      " 12  status         4645 non-null   object             \n",
      " 13  broadcast_day  4645 non-null   object             \n",
      " 14  producer       4645 non-null   object             \n",
      " 15  studio         4645 non-null   object             \n",
      " 16  type           4645 non-null   object             \n",
      "dtypes: datetime64[ns, UTC](1), float64(1), int32(2), int64(4), object(9)\n",
      "memory usage: 616.9+ KB\n"
     ]
    }
   ],
   "source": [
    "anime_df_copy.info()"
   ]
  },
  {
   "cell_type": "markdown",
   "id": "a7c80fad-6e76-4a1f-9e8f-255736f344cf",
   "metadata": {},
   "source": [
    "After completing all the necessary transformations, the dataset no longer contains any missing or null values. The dataset is now clean and ready for further analysis and is prepared for storage."
   ]
  },
  {
   "cell_type": "code",
   "execution_count": 69,
   "id": "adbb6164-2503-498a-bb0b-f0c11e624114",
   "metadata": {},
   "outputs": [
    {
     "data": {
      "text/html": [
       "<div>\n",
       "<style scoped>\n",
       "    .dataframe tbody tr th:only-of-type {\n",
       "        vertical-align: middle;\n",
       "    }\n",
       "\n",
       "    .dataframe tbody tr th {\n",
       "        vertical-align: top;\n",
       "    }\n",
       "\n",
       "    .dataframe thead th {\n",
       "        text-align: right;\n",
       "    }\n",
       "</style>\n",
       "<table border=\"1\" class=\"dataframe\">\n",
       "  <thead>\n",
       "    <tr style=\"text-align: right;\">\n",
       "      <th></th>\n",
       "      <th>mal_id</th>\n",
       "      <th>title</th>\n",
       "      <th>score</th>\n",
       "      <th>season</th>\n",
       "      <th>year</th>\n",
       "      <th>aired_from</th>\n",
       "      <th>popularity</th>\n",
       "      <th>favorites</th>\n",
       "      <th>members</th>\n",
       "      <th>episodes</th>\n",
       "      <th>genres</th>\n",
       "      <th>classification</th>\n",
       "      <th>status</th>\n",
       "      <th>airing_day</th>\n",
       "      <th>production</th>\n",
       "      <th>animation_studio</th>\n",
       "      <th>content_type</th>\n",
       "    </tr>\n",
       "  </thead>\n",
       "  <tbody>\n",
       "    <tr>\n",
       "      <th>47</th>\n",
       "      <td>51535</td>\n",
       "      <td>Shingeki no Kyojin: The Final Season - Kankets...</td>\n",
       "      <td>8.99</td>\n",
       "      <td>winter</td>\n",
       "      <td>2023</td>\n",
       "      <td>2023-03-04 00:00:00+00:00</td>\n",
       "      <td>396</td>\n",
       "      <td>13089</td>\n",
       "      <td>533775</td>\n",
       "      <td>2</td>\n",
       "      <td>Action</td>\n",
       "      <td>Mature</td>\n",
       "      <td>Finished Airing</td>\n",
       "      <td>Saturday</td>\n",
       "      <td>Production I.G</td>\n",
       "      <td>MAPPA</td>\n",
       "      <td>Special</td>\n",
       "    </tr>\n",
       "    <tr>\n",
       "      <th>48</th>\n",
       "      <td>49387</td>\n",
       "      <td>Vinland Saga Season 2</td>\n",
       "      <td>8.81</td>\n",
       "      <td>winter</td>\n",
       "      <td>2023</td>\n",
       "      <td>2023-01-10 00:00:00+00:00</td>\n",
       "      <td>408</td>\n",
       "      <td>11337</td>\n",
       "      <td>523657</td>\n",
       "      <td>24</td>\n",
       "      <td>Action</td>\n",
       "      <td>Mature</td>\n",
       "      <td>Finished Airing</td>\n",
       "      <td>Tuesday</td>\n",
       "      <td>Dentsu</td>\n",
       "      <td>MAPPA</td>\n",
       "      <td>TV</td>\n",
       "    </tr>\n",
       "    <tr>\n",
       "      <th>49</th>\n",
       "      <td>52305</td>\n",
       "      <td>Tomo-chan wa Onnanoko!</td>\n",
       "      <td>7.82</td>\n",
       "      <td>winter</td>\n",
       "      <td>2023</td>\n",
       "      <td>2023-01-05 00:00:00+00:00</td>\n",
       "      <td>651</td>\n",
       "      <td>2645</td>\n",
       "      <td>349022</td>\n",
       "      <td>13</td>\n",
       "      <td>Comedy</td>\n",
       "      <td>Teens</td>\n",
       "      <td>Finished Airing</td>\n",
       "      <td>Thursday</td>\n",
       "      <td>Aniplex</td>\n",
       "      <td>Lay-duce</td>\n",
       "      <td>TV</td>\n",
       "    </tr>\n",
       "    <tr>\n",
       "      <th>50</th>\n",
       "      <td>50608</td>\n",
       "      <td>Tokyo Revengers: Seiya Kessen-hen</td>\n",
       "      <td>7.69</td>\n",
       "      <td>winter</td>\n",
       "      <td>2023</td>\n",
       "      <td>2023-01-08 00:00:00+00:00</td>\n",
       "      <td>722</td>\n",
       "      <td>2409</td>\n",
       "      <td>319812</td>\n",
       "      <td>13</td>\n",
       "      <td>Action</td>\n",
       "      <td>Mature</td>\n",
       "      <td>Finished Airing</td>\n",
       "      <td>Sunday</td>\n",
       "      <td>Mainichi Broadcasting System</td>\n",
       "      <td>LIDENFILMS</td>\n",
       "      <td>TV</td>\n",
       "    </tr>\n",
       "    <tr>\n",
       "      <th>51</th>\n",
       "      <td>48417</td>\n",
       "      <td>Maou Gakuin no Futekigousha: Shijou Saikyou no...</td>\n",
       "      <td>6.91</td>\n",
       "      <td>winter</td>\n",
       "      <td>2023</td>\n",
       "      <td>2023-01-08 00:00:00+00:00</td>\n",
       "      <td>750</td>\n",
       "      <td>4027</td>\n",
       "      <td>307204</td>\n",
       "      <td>12</td>\n",
       "      <td>Action</td>\n",
       "      <td>Mature</td>\n",
       "      <td>Finished Airing</td>\n",
       "      <td>Sunday</td>\n",
       "      <td>Aniplex</td>\n",
       "      <td>SILVER LINK.</td>\n",
       "      <td>TV</td>\n",
       "    </tr>\n",
       "  </tbody>\n",
       "</table>\n",
       "</div>"
      ],
      "text/plain": [
       "    mal_id                                              title  score  season  \\\n",
       "47   51535  Shingeki no Kyojin: The Final Season - Kankets...   8.99  winter   \n",
       "48   49387                              Vinland Saga Season 2   8.81  winter   \n",
       "49   52305                             Tomo-chan wa Onnanoko!   7.82  winter   \n",
       "50   50608                  Tokyo Revengers: Seiya Kessen-hen   7.69  winter   \n",
       "51   48417  Maou Gakuin no Futekigousha: Shijou Saikyou no...   6.91  winter   \n",
       "\n",
       "    year                aired_from  popularity  favorites  members  episodes  \\\n",
       "47  2023 2023-03-04 00:00:00+00:00         396      13089   533775         2   \n",
       "48  2023 2023-01-10 00:00:00+00:00         408      11337   523657        24   \n",
       "49  2023 2023-01-05 00:00:00+00:00         651       2645   349022        13   \n",
       "50  2023 2023-01-08 00:00:00+00:00         722       2409   319812        13   \n",
       "51  2023 2023-01-08 00:00:00+00:00         750       4027   307204        12   \n",
       "\n",
       "    genres classification           status airing_day  \\\n",
       "47  Action         Mature  Finished Airing   Saturday   \n",
       "48  Action         Mature  Finished Airing    Tuesday   \n",
       "49  Comedy          Teens  Finished Airing   Thursday   \n",
       "50  Action         Mature  Finished Airing     Sunday   \n",
       "51  Action         Mature  Finished Airing     Sunday   \n",
       "\n",
       "                      production animation_studio content_type  \n",
       "47                Production I.G            MAPPA      Special  \n",
       "48                        Dentsu            MAPPA           TV  \n",
       "49                       Aniplex         Lay-duce           TV  \n",
       "50  Mainichi Broadcasting System       LIDENFILMS           TV  \n",
       "51                       Aniplex     SILVER LINK.           TV  "
      ]
     },
     "execution_count": 69,
     "metadata": {},
     "output_type": "execute_result"
    }
   ],
   "source": [
    "anime_df_copy = anime_df_copy.rename(columns={\n",
    "    'genre': 'genres',\n",
    "    'rating': 'classification',\n",
    "    'broadcast_day': 'airing_day',\n",
    "    'producer': 'production',\n",
    "    'studio': 'animation_studio',\n",
    "    'type': 'content_type'\n",
    "})\n",
    "anime_df_copy.head()"
   ]
  }
 ],
 "metadata": {
  "kernelspec": {
   "display_name": "Python 3 (ipykernel)",
   "language": "python",
   "name": "python3"
  },
  "language_info": {
   "codemirror_mode": {
    "name": "ipython",
    "version": 3
   },
   "file_extension": ".py",
   "mimetype": "text/x-python",
   "name": "python",
   "nbconvert_exporter": "python",
   "pygments_lexer": "ipython3",
   "version": "3.11.6"
  }
 },
 "nbformat": 4,
 "nbformat_minor": 5
}
