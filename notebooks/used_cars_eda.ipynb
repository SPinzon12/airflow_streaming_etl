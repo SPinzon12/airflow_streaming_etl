{
 "cells": [
  {
   "cell_type": "markdown",
   "id": "d96ebb41-b9cc-4856-8c0a-8ce123c5a5f3",
   "metadata": {},
   "source": [
    "   # Used Cars EDA"
   ]
  },
  {
   "cell_type": "markdown",
   "id": "c58eda9b-86ad-4a7c-912e-d7bc65573158",
   "metadata": {},
   "source": [
    "**Imports**"
   ]
  },
  {
   "cell_type": "code",
   "execution_count": 1,
   "id": "6affe8ea-fe9c-4690-bd10-74ddedc1bef7",
   "metadata": {},
   "outputs": [
    {
     "name": "stderr",
     "output_type": "stream",
     "text": [
      "C:\\Users\\sampi\\AppData\\Local\\Packages\\PythonSoftwareFoundation.Python.3.11_qbz5n2kfra8p0\\LocalCache\\local-packages\\Python311\\site-packages\\fuzzywuzzy\\fuzz.py:11: UserWarning: Using slow pure-python SequenceMatcher. Install python-Levenshtein to remove this warning\n",
      "  warnings.warn('Using slow pure-python SequenceMatcher. Install python-Levenshtein to remove this warning')\n"
     ]
    }
   ],
   "source": [
    "import random\n",
    "import sys\n",
    "import warnings\n",
    "import joblib\n",
    "\n",
    "import matplotlib.pyplot as plt\n",
    "import numpy as np\n",
    "import pandas as pd\n",
    "import seaborn as sns\n",
    "from sklearn.model_selection import train_test_split\n",
    "from sklearn.ensemble import RandomForestRegressor\n",
    "from sklearn.metrics import r2_score\n",
    "from uszipcode import SearchEngine\n",
    "\n",
    "sys.path.append('..')\n",
    "from airflow_dag.services.db_postgres import run_query\n",
    "\n",
    "warnings.filterwarnings('ignore')"
   ]
  },
  {
   "cell_type": "markdown",
   "id": "101821b8-0d0b-4c2d-a07d-94dd11866374",
   "metadata": {},
   "source": [
    "**Note:**\n",
    "The conclusions presented in this notebook are not applicable to the entire dataset. This notebook is primarily used for testing the database connection. For comprehensive exploratory data analysis (EDA) and accurate conclusions, please refer to the `used_cars_eda_3m.ipynbb notebook`, which analyzes the complete dataset from the CSV file.\n",
    "\n",
    "**Please switch to the used_cars_eda_3m.ipynbynb notebook for a more comprehensive EDA and insights into the complete dataset.**\n",
    "**\n"
   ]
  },
  {
   "cell_type": "markdown",
   "id": "d65c3d5c-52bb-424c-a654-3b544be878c7",
   "metadata": {},
   "source": [
    "## Exploring the Data"
   ]
  },
  {
   "cell_type": "markdown",
   "id": "a08e5a6a-8e69-419a-b2ad-80a1f1798476",
   "metadata": {},
   "source": [
    "**Load the data**"
   ]
  },
  {
   "cell_type": "code",
   "execution_count": 5,
   "id": "84fbce1e-4f0c-4769-825e-99bdf4e868bd",
   "metadata": {},
   "outputs": [],
   "source": [
    "sql='''SELECT *\n",
    "FROM used_cars\n",
    "'''\n",
    "cars_df = run_query(sql)\n",
    "cars_df.replace('NaN', np.nan, inplace=True)"
   ]
  },
  {
   "cell_type": "markdown",
   "id": "dd355c50-e591-492c-874a-5c481b0273ca",
   "metadata": {},
   "source": [
    "**Display the first few rows of the DataFrame**"
   ]
  },
  {
   "cell_type": "code",
   "execution_count": 6,
   "id": "c006ea06-dd40-49ea-ad71-0e97688a18d8",
   "metadata": {},
   "outputs": [
    {
     "data": {
      "text/html": [
       "<div>\n",
       "<style scoped>\n",
       "    .dataframe tbody tr th:only-of-type {\n",
       "        vertical-align: middle;\n",
       "    }\n",
       "\n",
       "    .dataframe tbody tr th {\n",
       "        vertical-align: top;\n",
       "    }\n",
       "\n",
       "    .dataframe thead th {\n",
       "        text-align: right;\n",
       "    }\n",
       "</style>\n",
       "<table border=\"1\" class=\"dataframe\">\n",
       "  <thead>\n",
       "    <tr style=\"text-align: right;\">\n",
       "      <th></th>\n",
       "      <th>vin</th>\n",
       "      <th>back_legroom</th>\n",
       "      <th>bed</th>\n",
       "      <th>bed_height</th>\n",
       "      <th>bed_length</th>\n",
       "      <th>body_type</th>\n",
       "      <th>cabin</th>\n",
       "      <th>city</th>\n",
       "      <th>city_fuel_economy</th>\n",
       "      <th>combine_fuel_economy</th>\n",
       "      <th>...</th>\n",
       "      <th>transmission</th>\n",
       "      <th>transmission_display</th>\n",
       "      <th>trimid</th>\n",
       "      <th>trim_name</th>\n",
       "      <th>vehicle_damage_category</th>\n",
       "      <th>wheel_system</th>\n",
       "      <th>wheel_system_display</th>\n",
       "      <th>wheelbase</th>\n",
       "      <th>width</th>\n",
       "      <th>year</th>\n",
       "    </tr>\n",
       "  </thead>\n",
       "  <tbody>\n",
       "    <tr>\n",
       "      <th>0</th>\n",
       "      <td>ZACNJABB5KPJ92081</td>\n",
       "      <td>35.1 in</td>\n",
       "      <td>NaN</td>\n",
       "      <td>NaN</td>\n",
       "      <td>NaN</td>\n",
       "      <td>SUV / Crossover</td>\n",
       "      <td>NaN</td>\n",
       "      <td>Bayamon</td>\n",
       "      <td>NaN</td>\n",
       "      <td>NaN</td>\n",
       "      <td>...</td>\n",
       "      <td>A</td>\n",
       "      <td>9-Speed Automatic Overdrive</td>\n",
       "      <td>t83804</td>\n",
       "      <td>Latitude FWD</td>\n",
       "      <td>NaN</td>\n",
       "      <td>FWD</td>\n",
       "      <td>Front-Wheel Drive</td>\n",
       "      <td>101.2 in</td>\n",
       "      <td>79.6 in</td>\n",
       "      <td>2019</td>\n",
       "    </tr>\n",
       "    <tr>\n",
       "      <th>1</th>\n",
       "      <td>SALCJ2FX1LH858117</td>\n",
       "      <td>38.1 in</td>\n",
       "      <td>NaN</td>\n",
       "      <td>NaN</td>\n",
       "      <td>NaN</td>\n",
       "      <td>SUV / Crossover</td>\n",
       "      <td>NaN</td>\n",
       "      <td>San Juan</td>\n",
       "      <td>NaN</td>\n",
       "      <td>NaN</td>\n",
       "      <td>...</td>\n",
       "      <td>A</td>\n",
       "      <td>9-Speed Automatic Overdrive</td>\n",
       "      <td>t86759</td>\n",
       "      <td>S AWD</td>\n",
       "      <td>NaN</td>\n",
       "      <td>AWD</td>\n",
       "      <td>All-Wheel Drive</td>\n",
       "      <td>107.9 in</td>\n",
       "      <td>85.6 in</td>\n",
       "      <td>2020</td>\n",
       "    </tr>\n",
       "    <tr>\n",
       "      <th>2</th>\n",
       "      <td>JF1VA2M67G9829723</td>\n",
       "      <td>35.4 in</td>\n",
       "      <td>NaN</td>\n",
       "      <td>NaN</td>\n",
       "      <td>NaN</td>\n",
       "      <td>Sedan</td>\n",
       "      <td>NaN</td>\n",
       "      <td>Guaynabo</td>\n",
       "      <td>17.0</td>\n",
       "      <td>NaN</td>\n",
       "      <td>...</td>\n",
       "      <td>M</td>\n",
       "      <td>6-Speed Manual</td>\n",
       "      <td>t58994</td>\n",
       "      <td>Base</td>\n",
       "      <td>NaN</td>\n",
       "      <td>AWD</td>\n",
       "      <td>All-Wheel Drive</td>\n",
       "      <td>104.3 in</td>\n",
       "      <td>78.9 in</td>\n",
       "      <td>2016</td>\n",
       "    </tr>\n",
       "    <tr>\n",
       "      <th>3</th>\n",
       "      <td>SALRR2RV0L2433391</td>\n",
       "      <td>37.6 in</td>\n",
       "      <td>NaN</td>\n",
       "      <td>NaN</td>\n",
       "      <td>NaN</td>\n",
       "      <td>SUV / Crossover</td>\n",
       "      <td>NaN</td>\n",
       "      <td>San Juan</td>\n",
       "      <td>NaN</td>\n",
       "      <td>NaN</td>\n",
       "      <td>...</td>\n",
       "      <td>A</td>\n",
       "      <td>8-Speed Automatic Overdrive</td>\n",
       "      <td>t86074</td>\n",
       "      <td>V6 HSE AWD</td>\n",
       "      <td>NaN</td>\n",
       "      <td>AWD</td>\n",
       "      <td>All-Wheel Drive</td>\n",
       "      <td>115 in</td>\n",
       "      <td>87.4 in</td>\n",
       "      <td>2020</td>\n",
       "    </tr>\n",
       "    <tr>\n",
       "      <th>4</th>\n",
       "      <td>SALCJ2FXXLH862327</td>\n",
       "      <td>38.1 in</td>\n",
       "      <td>NaN</td>\n",
       "      <td>NaN</td>\n",
       "      <td>NaN</td>\n",
       "      <td>SUV / Crossover</td>\n",
       "      <td>NaN</td>\n",
       "      <td>San Juan</td>\n",
       "      <td>NaN</td>\n",
       "      <td>NaN</td>\n",
       "      <td>...</td>\n",
       "      <td>A</td>\n",
       "      <td>9-Speed Automatic Overdrive</td>\n",
       "      <td>t86759</td>\n",
       "      <td>S AWD</td>\n",
       "      <td>NaN</td>\n",
       "      <td>AWD</td>\n",
       "      <td>All-Wheel Drive</td>\n",
       "      <td>107.9 in</td>\n",
       "      <td>85.6 in</td>\n",
       "      <td>2020</td>\n",
       "    </tr>\n",
       "  </tbody>\n",
       "</table>\n",
       "<p>5 rows × 66 columns</p>\n",
       "</div>"
      ],
      "text/plain": [
       "                 vin back_legroom  bed bed_height bed_length        body_type  \\\n",
       "0  ZACNJABB5KPJ92081      35.1 in  NaN        NaN        NaN  SUV / Crossover   \n",
       "1  SALCJ2FX1LH858117      38.1 in  NaN        NaN        NaN  SUV / Crossover   \n",
       "2  JF1VA2M67G9829723      35.4 in  NaN        NaN        NaN            Sedan   \n",
       "3  SALRR2RV0L2433391      37.6 in  NaN        NaN        NaN  SUV / Crossover   \n",
       "4  SALCJ2FXXLH862327      38.1 in  NaN        NaN        NaN  SUV / Crossover   \n",
       "\n",
       "  cabin      city  city_fuel_economy  combine_fuel_economy  ...  transmission  \\\n",
       "0   NaN   Bayamon                NaN                   NaN  ...             A   \n",
       "1   NaN  San Juan                NaN                   NaN  ...             A   \n",
       "2   NaN  Guaynabo               17.0                   NaN  ...             M   \n",
       "3   NaN  San Juan                NaN                   NaN  ...             A   \n",
       "4   NaN  San Juan                NaN                   NaN  ...             A   \n",
       "\n",
       "          transmission_display  trimid     trim_name  vehicle_damage_category  \\\n",
       "0  9-Speed Automatic Overdrive  t83804  Latitude FWD                      NaN   \n",
       "1  9-Speed Automatic Overdrive  t86759         S AWD                      NaN   \n",
       "2               6-Speed Manual  t58994          Base                      NaN   \n",
       "3  8-Speed Automatic Overdrive  t86074    V6 HSE AWD                      NaN   \n",
       "4  9-Speed Automatic Overdrive  t86759         S AWD                      NaN   \n",
       "\n",
       "  wheel_system wheel_system_display wheelbase    width  year  \n",
       "0          FWD    Front-Wheel Drive  101.2 in  79.6 in  2019  \n",
       "1          AWD      All-Wheel Drive  107.9 in  85.6 in  2020  \n",
       "2          AWD      All-Wheel Drive  104.3 in  78.9 in  2016  \n",
       "3          AWD      All-Wheel Drive    115 in  87.4 in  2020  \n",
       "4          AWD      All-Wheel Drive  107.9 in  85.6 in  2020  \n",
       "\n",
       "[5 rows x 66 columns]"
      ]
     },
     "execution_count": 6,
     "metadata": {},
     "output_type": "execute_result"
    }
   ],
   "source": [
    "cars_df.head()"
   ]
  },
  {
   "cell_type": "markdown",
   "id": "3012ac39-2def-4117-82cb-45a4b250c17b",
   "metadata": {},
   "source": [
    "**Check the shape of the DataFrame**"
   ]
  },
  {
   "cell_type": "code",
   "execution_count": 7,
   "id": "6a1d4d7b-dd3d-4589-919f-04b98a645e4b",
   "metadata": {},
   "outputs": [
    {
     "data": {
      "text/plain": [
       "(100004, 66)"
      ]
     },
     "execution_count": 7,
     "metadata": {},
     "output_type": "execute_result"
    }
   ],
   "source": [
    "cars_df.shape"
   ]
  },
  {
   "cell_type": "markdown",
   "id": "8a1990f5-178f-4028-93d5-458f304634fb",
   "metadata": {},
   "source": [
    "This means that it contains 3,000,040 rows and 66 columns. Each row represents a record related to a used car, and each column represents a specific attribute or feature associated with the cars."
   ]
  },
  {
   "cell_type": "markdown",
   "id": "1cd66749-7ca9-4e18-9168-fb8396f26143",
   "metadata": {},
   "source": [
    "**Exploring Data Types**"
   ]
  },
  {
   "cell_type": "code",
   "execution_count": 156,
   "id": "f0f33aa2-06d5-472b-b563-9b1a50573027",
   "metadata": {},
   "outputs": [
    {
     "name": "stdout",
     "output_type": "stream",
     "text": [
      "<class 'pandas.core.frame.DataFrame'>\n",
      "RangeIndex: 100002 entries, 0 to 100001\n",
      "Data columns (total 66 columns):\n",
      " #   Column                   Non-Null Count   Dtype         \n",
      "---  ------                   --------------   -----         \n",
      " 0   vin                      100002 non-null  object        \n",
      " 1   back_legroom             95048 non-null   object        \n",
      " 2   bed                      607 non-null     object        \n",
      " 3   bed_height               8123 non-null    object        \n",
      " 4   bed_length               8123 non-null    object        \n",
      " 5   body_type                99601 non-null   object        \n",
      " 6   cabin                    1667 non-null    object        \n",
      " 7   city                     100002 non-null  object        \n",
      " 8   city_fuel_economy        83984 non-null   float64       \n",
      " 9   combine_fuel_economy     0 non-null       float64       \n",
      " 10  daysonmarket             100002 non-null  int64         \n",
      " 11  dealer_zip               100002 non-null  int64         \n",
      " 12  description              97459 non-null   object        \n",
      " 13  engine_cylinders         97004 non-null   object        \n",
      " 14  engine_displacement      94663 non-null   float64       \n",
      " 15  engine_type              97004 non-null   object        \n",
      " 16  exterior_color           98609 non-null   object        \n",
      " 17  fleet                    56925 non-null   object        \n",
      " 18  frame_damaged            56925 non-null   object        \n",
      " 19  franchise_dealer         100002 non-null  bool          \n",
      " 20  franchise_make           74586 non-null   object        \n",
      " 21  front_legroom            95048 non-null   object        \n",
      " 22  fuel_tank_volume         95048 non-null   object        \n",
      " 23  fuel_type                97543 non-null   object        \n",
      " 24  has_accidents            56925 non-null   object        \n",
      " 25  height                   95048 non-null   object        \n",
      " 26  highway_fuel_economy     83984 non-null   float64       \n",
      " 27  horsepower               94663 non-null   float64       \n",
      " 28  interior_color           88210 non-null   object        \n",
      " 29  iscab                    56925 non-null   object        \n",
      " 30  is_certified             0 non-null       float64       \n",
      " 31  is_cpo                   8730 non-null    object        \n",
      " 32  is_new                   100002 non-null  bool          \n",
      " 33  is_oemcpo                6110 non-null    object        \n",
      " 34  latitude                 100002 non-null  float64       \n",
      " 35  length                   95048 non-null   object        \n",
      " 36  listed_date              100002 non-null  datetime64[ns]\n",
      " 37  listing_color            100002 non-null  object        \n",
      " 38  listing_id               100002 non-null  int64         \n",
      " 39  longitude                100002 non-null  float64       \n",
      " 40  main_picture_url         85010 non-null   object        \n",
      " 41  major_options            93518 non-null   object        \n",
      " 42  make_name                100002 non-null  object        \n",
      " 43  maximum_seating          95048 non-null   object        \n",
      " 44  mileage                  96445 non-null   float64       \n",
      " 45  model_name               100002 non-null  object        \n",
      " 46  owner_count              54278 non-null   float64       \n",
      " 47  power                    85699 non-null   object        \n",
      " 48  price                    100002 non-null  float64       \n",
      " 49  salvage                  56925 non-null   object        \n",
      " 50  savings_amount           100002 non-null  int64         \n",
      " 51  seller_rating            99360 non-null   float64       \n",
      " 52  sp_id                    100002 non-null  int64         \n",
      " 53  sp_name                  100002 non-null  object        \n",
      " 54  theft_title              56925 non-null   object        \n",
      " 55  torque                   84652 non-null   object        \n",
      " 56  transmission             99001 non-null   object        \n",
      " 57  transmission_display     99001 non-null   object        \n",
      " 58  trimid                   96179 non-null   object        \n",
      " 59  trim_name                96161 non-null   object        \n",
      " 60  vehicle_damage_category  0 non-null       float64       \n",
      " 61  wheel_system             95378 non-null   object        \n",
      " 62  wheel_system_display     95378 non-null   object        \n",
      " 63  wheelbase                95048 non-null   object        \n",
      " 64  width                    95048 non-null   object        \n",
      " 65  year                     100002 non-null  int64         \n",
      "dtypes: bool(2), datetime64[ns](1), float64(13), int64(6), object(44)\n",
      "memory usage: 49.0+ MB\n"
     ]
    }
   ],
   "source": [
    "cars_df.info()"
   ]
  },
  {
   "cell_type": "markdown",
   "id": "b73584f7-5d33-4d67-bb49-bafc337ac5bb",
   "metadata": {},
   "source": [
    "We can observe that there are data types that do not match the descriptions implied by the column names. This discrepancy will need to be considered in subsequent steps of the analysis."
   ]
  },
  {
   "cell_type": "markdown",
   "id": "5622d77e-ad90-47a1-a989-33e028d00749",
   "metadata": {},
   "source": [
    "## Investigating Null Values"
   ]
  },
  {
   "cell_type": "markdown",
   "id": "01d34f16-540e-47bb-9eb7-f725d1352268",
   "metadata": {},
   "source": [
    "**Model Dimension**"
   ]
  },
  {
   "cell_type": "markdown",
   "id": "f7184f90-5b1e-4c55-871f-64cdcb7311cd",
   "metadata": {},
   "source": [
    "**Model Dimension**"
   ]
  },
  {
   "cell_type": "code",
   "execution_count": 8,
   "id": "74a154fe-3f80-4cbf-9668-584e1c4baa34",
   "metadata": {},
   "outputs": [
    {
     "data": {
      "image/png": "[encoded data removed]",
      "text/plain": [
       "<Figure size 600x1500 with 1 Axes>"
      ]
     },
     "metadata": {},
     "output_type": "display_data"
    }
   ],
   "source": [
    "missing_ratios = cars_df.apply(lambda x: 1 - (x.count() / x.size))\n",
    "missing_ratios = missing_ratios.sort_values(ascending=False)\n",
    "\n",
    "plt.figure(figsize=(6, 15))\n",
    "sns.set_theme()\n",
    "\n",
    "sns.set_color_codes(\"pastel\")\n",
    "sns.barplot(x=missing_ratios, y=missing_ratios.index,\n",
    "            label=\"Missing Data Ratio\", color=\"red\", alpha=0.5)\n",
    "\n",
    "plt.legend(ncol=1, loc=\"lower right\", frameon=True)\n",
    "plt.xlim(0, 1)\n",
    "plt.xlabel(\"Missing Data Ratio\")\n",
    "plt.ylabel(\"\")\n",
    "plt.title(\"Missing Data Analysis\")\n",
    "sns.despine(left=True, bottom=True)\n",
    "plt.show()"
   ]
  },
  {
   "cell_type": "markdown",
   "id": "aa2d2f95-3a41-47ad-99ad-2f3ff6fe3675",
   "metadata": {},
   "source": [
    "Thanks to this graph, we were able to observe that numerous columns exhibit a significant number of missing values."
   ]
  },
  {
   "cell_type": "markdown",
   "id": "4cea4398-0c10-40fa-bf98-d6a393d52fe9",
   "metadata": {},
   "source": [
    "**The following columns will be discarded as they have more than 70% null values:**"
   ]
  },
  {
   "cell_type": "code",
   "execution_count": 9,
   "id": "699559a6-eefb-4e68-a869-681dafe2b004",
   "metadata": {},
   "outputs": [
    {
     "name": "stdout",
     "output_type": "stream",
     "text": [
      "Index(['bed', 'bed_height', 'bed_length', 'cabin', 'combine_fuel_economy',\n",
      "       'is_certified', 'is_cpo', 'is_oemcpo', 'vehicle_damage_category'],\n",
      "      dtype='object')\n"
     ]
    }
   ],
   "source": [
    "nullsPercent = cars_df.apply(lambda x: 1 - (x.count() / x.size))\n",
    "columnsnulls = nullsPercent[nullsPercent > 0.7].index\n",
    "print(columnsnulls)"
   ]
  },
  {
   "cell_type": "markdown",
   "id": "61b77ba2-b994-4d63-8dd8-e6c24bc3d0fd",
   "metadata": {
    "jp-MarkdownHeadingCollapsed": true
   },
   "source": [
    "## Column Analysis: Selecting Key Features for Analysis"
   ]
  },
  {
   "cell_type": "markdown",
   "id": "494c108c-81d7-4a21-8789-93184b6af147",
   "metadata": {},
   "source": [
    "In the process of choosing the key features for our analysis, we must consider two primary objectives: building a predictive model for vehicle prices and creating an efficient data warehouse."
   ]
  },
  {
   "cell_type": "markdown",
   "id": "dc297d9f-67e7-4901-8039-b40b7c6dc5bc",
   "metadata": {},
   "source": [
    "____________________\n",
    "**price**\n",
    "\n",
    "\n",
    "Price of each vehicle. The main focus of this project revolves around predicting the price of each vehicle. "
   ]
  },
  {
   "cell_type": "code",
   "execution_count": 10,
   "id": "8e4dbb42-1dc6-4cd4-8ef6-1f64b43709f9",
   "metadata": {},
   "outputs": [
    {
     "data": {
      "text/plain": [
       "20922    12900.0\n",
       "98894    28621.0\n",
       "93406    23885.0\n",
       "32565    73995.0\n",
       "10535    32500.0\n",
       "Name: price, dtype: float64"
      ]
     },
     "execution_count": 10,
     "metadata": {},
     "output_type": "execute_result"
    }
   ],
   "source": [
    "cars_df['price'].sample(5)"
   ]
  },
  {
   "cell_type": "code",
   "execution_count": 11,
   "id": "336f9c2e-9c04-4846-9370-f58424408522",
   "metadata": {},
   "outputs": [
    {
     "data": {
      "text/plain": [
       "count    1.000020e+05\n",
       "mean     3.049937e+04\n",
       "std      2.091560e+04\n",
       "min      7.950000e+02\n",
       "25%      1.799500e+04\n",
       "50%      2.699500e+04\n",
       "75%      3.872075e+04\n",
       "max      1.390000e+06\n",
       "Name: price, dtype: float64"
      ]
     },
     "execution_count": 11,
     "metadata": {},
     "output_type": "execute_result"
    }
   ],
   "source": [
    "cars_df['price'].describe()"
   ]
  },
  {
   "cell_type": "markdown",
   "id": "2bf6371f-7be5-4090-a8b4-b44092bc9686",
   "metadata": {},
   "source": [
    "**Checking the car price range**"
   ]
  },
  {
   "cell_type": "code",
   "execution_count": 12,
   "id": "4b9f3430-0819-4d95-86a7-6ad756af8669",
   "metadata": {},
   "outputs": [
    {
     "data": {
      "image/png": "[encoded data removed]",
      "text/plain": [
       "<Figure size 1000x600 with 1 Axes>"
      ]
     },
     "metadata": {},
     "output_type": "display_data"
    }
   ],
   "source": [
    "plt.figure(figsize=(10, 6))\n",
    "sns.set_theme()\n",
    "sns.histplot(data=cars_df, x='price', bins=30, kde=True, color=\"red\", alpha=0.5)\n",
    "plt.xlabel('Price')\n",
    "plt.ylabel('Frequency')\n",
    "plt.title('Distribution of Car Prices')\n",
    "plt.xlim(0, 80000)\n",
    "sns.despine()\n",
    "plt.show()"
   ]
  },
  {
   "cell_type": "code",
   "execution_count": 13,
   "id": "61f4c875-b70f-4fa3-9dbe-62290b75f71c",
   "metadata": {},
   "outputs": [
    {
     "name": "stdout",
     "output_type": "stream",
     "text": [
      "The percentage of null values in the 'price' column is: 0.00%\n"
     ]
    }
   ],
   "source": [
    "null_percentage_price = (cars_df['price'].isnull().sum() / len(cars_df)) * 100\n",
    "print(f\"The percentage of null values in the 'price' column is: {null_percentage_price:.2f}%\")"
   ]
  },
  {
   "cell_type": "markdown",
   "id": "94f57cb0-596c-4319-8571-4005a21a4f1c",
   "metadata": {},
   "source": [
    "____________________\n",
    "**vin**\n",
    "\n",
    "The Vehicle Identification Number (VIN) is a unique code assigned to each individual vehicle. Due to its distinctiveness, the VIN serves as a suitable candidate for the primary key of our dataset."
   ]
  },
  {
   "cell_type": "code",
   "execution_count": 14,
   "id": "ed419463-e371-4b2f-8e3d-7e28395b142d",
   "metadata": {},
   "outputs": [
    {
     "data": {
      "text/plain": [
       "97628    W1KZF8EB0LA832117\n",
       "65248    WP1BA2AY4LDA47999\n",
       "40403    1FMSK8DH6LGC39688\n",
       "75734    WBSAE0C02LCD42128\n",
       "72904    1C4RJFCG4HC712215\n",
       "Name: vin, dtype: object"
      ]
     },
     "execution_count": 14,
     "metadata": {},
     "output_type": "execute_result"
    }
   ],
   "source": [
    "cars_df['vin'].sample(5)"
   ]
  },
  {
   "cell_type": "code",
   "execution_count": 15,
   "id": "61656cba-35fb-49a9-bae3-98ee35181b63",
   "metadata": {},
   "outputs": [
    {
     "name": "stdout",
     "output_type": "stream",
     "text": [
      "Number of unique VINs: 100000\n"
     ]
    }
   ],
   "source": [
    "vin_unique_counts = cars_df['vin'].nunique()\n",
    "print(f\"Number of unique VINs: {vin_unique_counts}\")"
   ]
  },
  {
   "cell_type": "markdown",
   "id": "f11c7721-025d-4f18-9fa8-75d8eab5e4ff",
   "metadata": {},
   "source": [
    "The count of unique values in the `vin` column is lower than the total number of rows in the DataFrame, indicating the presence of duplicate data entries in the `vin` column."
   ]
  },
  {
   "cell_type": "markdown",
   "id": "f8e7939c-28ca-4234-9215-2c50ea618135",
   "metadata": {},
   "source": [
    "____________________\n",
    "**back_legroom / front_legroom / maximum_seating**\n",
    "\n",
    "`Back_legroom` measures rear seat legroom with a standardized 40-inch front legroom. `Front_legroom` indicates legroom for front passengers under the same condition. `Maximum_seating` reveals the vehicle's comfortable passenger capacity."
   ]
  },
  {
   "cell_type": "code",
   "execution_count": 16,
   "id": "c35b7bdf-e221-4986-8151-7f417f089139",
   "metadata": {},
   "outputs": [
    {
     "data": {
      "text/html": [
       "<div>\n",
       "<style scoped>\n",
       "    .dataframe tbody tr th:only-of-type {\n",
       "        vertical-align: middle;\n",
       "    }\n",
       "\n",
       "    .dataframe tbody tr th {\n",
       "        vertical-align: top;\n",
       "    }\n",
       "\n",
       "    .dataframe thead th {\n",
       "        text-align: right;\n",
       "    }\n",
       "</style>\n",
       "<table border=\"1\" class=\"dataframe\">\n",
       "  <thead>\n",
       "    <tr style=\"text-align: right;\">\n",
       "      <th></th>\n",
       "      <th>back_legroom</th>\n",
       "      <th>front_legroom</th>\n",
       "      <th>maximum_seating</th>\n",
       "    </tr>\n",
       "  </thead>\n",
       "  <tbody>\n",
       "    <tr>\n",
       "      <th>25753</th>\n",
       "      <td>35.1 in</td>\n",
       "      <td>44.5 in</td>\n",
       "      <td>5 seats</td>\n",
       "    </tr>\n",
       "    <tr>\n",
       "      <th>69357</th>\n",
       "      <td>35.1 in</td>\n",
       "      <td>41.2 in</td>\n",
       "      <td>5 seats</td>\n",
       "    </tr>\n",
       "    <tr>\n",
       "      <th>52287</th>\n",
       "      <td>43.6 in</td>\n",
       "      <td>43.9 in</td>\n",
       "      <td>6 seats</td>\n",
       "    </tr>\n",
       "    <tr>\n",
       "      <th>39119</th>\n",
       "      <td>34.6 in</td>\n",
       "      <td>45.3 in</td>\n",
       "      <td>6 seats</td>\n",
       "    </tr>\n",
       "    <tr>\n",
       "      <th>55798</th>\n",
       "      <td>36.9 in</td>\n",
       "      <td>41.3 in</td>\n",
       "      <td>8 seats</td>\n",
       "    </tr>\n",
       "  </tbody>\n",
       "</table>\n",
       "</div>"
      ],
      "text/plain": [
       "      back_legroom front_legroom maximum_seating\n",
       "25753      35.1 in       44.5 in         5 seats\n",
       "69357      35.1 in       41.2 in         5 seats\n",
       "52287      43.6 in       43.9 in         6 seats\n",
       "39119      34.6 in       45.3 in         6 seats\n",
       "55798      36.9 in       41.3 in         8 seats"
      ]
     },
     "execution_count": 16,
     "metadata": {},
     "output_type": "execute_result"
    }
   ],
   "source": [
    "cars_df[['back_legroom','front_legroom','maximum_seating']].sample(5)"
   ]
  },
  {
   "cell_type": "markdown",
   "id": "275b7052-820c-4bb6-8839-6de26a61bcd4",
   "metadata": {},
   "source": [
    "These variables offer valuable insights into passenger space and capacity. For our analysis, we will focus primarily on the number of seats, as it is the most indicative among the three. Consequently, we will exclude the columns for front and back legroom."
   ]
  },
  {
   "cell_type": "code",
   "execution_count": 17,
   "id": "56124a0f-4ad2-4011-a644-c4c114e7e5fc",
   "metadata": {},
   "outputs": [
    {
     "name": "stdout",
     "output_type": "stream",
     "text": [
      "The percentage of null values in the 'maximum_seating' column is: 4.95%\n"
     ]
    }
   ],
   "source": [
    "null_percentage = (cars_df['maximum_seating'].isnull().sum() / len(cars_df)) * 100\n",
    "print(f\"The percentage of null values in the 'maximum_seating' column is: {null_percentage:.2f}%\")"
   ]
  },
  {
   "cell_type": "markdown",
   "id": "9fb667fb-2ad9-4093-bc61-bf07327e2cbf",
   "metadata": {},
   "source": [
    "Considering the relatively high percentage of null values (5.31%) in the `maximum_seating` column, it might be practical to impute a standard value, as individually reviewing each vehicle would not be efficient."
   ]
  },
  {
   "cell_type": "code",
   "execution_count": 18,
   "id": "0cd0f215-e649-4724-8b73-9d4ef7558aa5",
   "metadata": {},
   "outputs": [
    {
     "data": {
      "text/plain": [
       "array(['5 seats', '7 seats', '4 seats', '15 seats', '2 seats', '8 seats',\n",
       "       nan, '6 seats', '3 seats', '--', '9 seats', '12 seats', '10 seats'],\n",
       "      dtype=object)"
      ]
     },
     "execution_count": 18,
     "metadata": {},
     "output_type": "execute_result"
    }
   ],
   "source": [
    "cars_df['maximum_seating'].unique()"
   ]
  },
  {
   "cell_type": "code",
   "execution_count": 19,
   "id": "129c453c-f11d-4307-b313-451cefcba02f",
   "metadata": {},
   "outputs": [
    {
     "data": {
      "image/png": "[encoded data removed]",
      "text/plain": [
       "<Figure size 1000x600 with 1 Axes>"
      ]
     },
     "metadata": {},
     "output_type": "display_data"
    }
   ],
   "source": [
    "seating_percentage = cars_df['maximum_seating'].value_counts() / cars_df.shape[0] * 100\n",
    "sns.set_theme()\n",
    "plt.figure(figsize=(10, 6))\n",
    "ax = sns.barplot(x=seating_percentage.values, y=seating_percentage.index, orient='h', color='red', alpha=0.5)\n",
    "plt.xlabel('Percentage (%)')\n",
    "plt.ylabel('Maximum Seating')\n",
    "plt.title('Maximum Seating Distribution (Percentage)')\n",
    "plt.show()"
   ]
  },
  {
   "cell_type": "markdown",
   "id": "417f68cb-2c8e-4e5b-b3fd-18fb5bffed6b",
   "metadata": {},
   "source": [
    "Additionally, a transformation is required to extract the numerical value and remove the 'seat' text, facilitating further analysis."
   ]
  },
  {
   "cell_type": "markdown",
   "id": "ef22e2bf-a760-4a7a-b10d-6e2a4bb972b9",
   "metadata": {},
   "source": [
    "____________________\n",
    "**body_type**\n",
    "\n",
    "Type of the vehicle.This information can be relevant in predicting the vehicle's price, as different body types often have different price ranges based on factors like market demand and manufacturing costs. \n"
   ]
  },
  {
   "cell_type": "code",
   "execution_count": 20,
   "id": "97425536-fb08-42e0-b5e5-c519f916ad45",
   "metadata": {},
   "outputs": [
    {
     "data": {
      "text/plain": [
       "29859    SUV / Crossover\n",
       "92354              Sedan\n",
       "15596              Sedan\n",
       "91455          Hatchback\n",
       "77019    SUV / Crossover\n",
       "Name: body_type, dtype: object"
      ]
     },
     "execution_count": 20,
     "metadata": {},
     "output_type": "execute_result"
    }
   ],
   "source": [
    "cars_df['body_type'].sample(5)"
   ]
  },
  {
   "cell_type": "code",
   "execution_count": 21,
   "id": "323fc10b-a279-4f3e-b0cb-2f1b8a183ed6",
   "metadata": {},
   "outputs": [
    {
     "name": "stdout",
     "output_type": "stream",
     "text": [
      "Unique body types:\n",
      "['Pickup Truck' 'Sedan' 'SUV / Crossover' 'Wagon' 'Coupe' 'Van' 'Minivan'\n",
      " 'Hatchback' 'Convertible' nan]\n"
     ]
    }
   ],
   "source": [
    "body_types = cars_df['body_type'].unique()\n",
    "print(f\"Unique body types:\\n{body_types}\")"
   ]
  },
  {
   "cell_type": "markdown",
   "id": "ce8201b3-16af-45b8-9183-ed7f9e95b44c",
   "metadata": {},
   "source": [
    "There are a total of 9 unique body types in the `body_type` column. The 'nan' value represents missing or unknown body types for certain vehicles in the dataset."
   ]
  },
  {
   "cell_type": "code",
   "execution_count": 22,
   "id": "cb7d593a-6a29-4947-a4ed-2bc515e6e67c",
   "metadata": {},
   "outputs": [
    {
     "data": {
      "image/png": "[encoded data removed]",
      "text/plain": [
       "<Figure size 1000x600 with 1 Axes>"
      ]
     },
     "metadata": {},
     "output_type": "display_data"
    }
   ],
   "source": [
    "body_type_distribution = (cars_df['body_type'].value_counts() / len(cars_df)) * 100\n",
    "sns.set_theme()\n",
    "plt.figure(figsize=(10, 6))\n",
    "ax = sns.barplot(x=body_type_distribution.values, y=body_type_distribution.index, orient='h', color='red', alpha=0.5)\n",
    "plt.xlabel('Percentage (%)')\n",
    "plt.ylabel('Body Type')\n",
    "plt.title('Body Type Distribution')\n",
    "plt.show()"
   ]
  },
  {
   "cell_type": "code",
   "execution_count": 23,
   "id": "471f69ef-b881-4e4e-8bfe-f08e7315b5c8",
   "metadata": {},
   "outputs": [
    {
     "name": "stdout",
     "output_type": "stream",
     "text": [
      "The percentage of null values in the 'body_type' column is: 0.40%\n"
     ]
    }
   ],
   "source": [
    "null_percentage = (cars_df['body_type'].isnull().sum() / len(cars_df)) * 100\n",
    "print(f\"The percentage of null values in the 'body_type' column is: {null_percentage:.2f}%\")"
   ]
  },
  {
   "cell_type": "markdown",
   "id": "6bbd640b-6292-4303-89b4-b78faa53cdb9",
   "metadata": {},
   "source": [
    "With only 0.45% of null values in the `body_type` column, there are two main strategies to consider. Firstly, given the low proportion, removing rows with missing `body_type` values could be a straightforward approach, as these instances might not significantly impact the overall analysis. On the other hand, an alternative approach involves investigating the car models associated with the missing `body_type` values and assigning the most appropriate body type based on the model's characteristics."
   ]
  },
  {
   "cell_type": "markdown",
   "id": "9267f688-704d-43f0-b9aa-5102ede4247b",
   "metadata": {},
   "source": [
    "________________________________________\n",
    "**description**\n",
    "\n",
    "Vehicle description on the listing page."
   ]
  },
  {
   "cell_type": "code",
   "execution_count": 24,
   "id": "5a78287a-c624-497e-a9cb-7d5de8204786",
   "metadata": {},
   "outputs": [
    {
     "data": {
      "text/plain": [
       "83460    Recent Arrival!   AWD. 4D Sport Utility 2017 H...\n",
       "95122    2019 Dodge Grand Caravan SXT *1 Owner Carfax* ...\n",
       "17544    VISIT WWW.PROJECTONEAUTO.COM TO VIEW MORE PICT...\n",
       "4004     High Value Options  Back-Up Camera  Bluetooth ...\n",
       "50573    [!@@Additional Info@@!]Turbocharged,Front Whee...\n",
       "Name: description, dtype: object"
      ]
     },
     "execution_count": 24,
     "metadata": {},
     "output_type": "execute_result"
    }
   ],
   "source": [
    "cars_df['description'].sample(5)"
   ]
  },
  {
   "cell_type": "markdown",
   "id": "a01c58f5-3968-4eca-bef7-b282aa9151b4",
   "metadata": {},
   "source": [
    "The `description` column may contain additional details about the vehicle. However, this information is usually already available in other numerical and categorical columns. Since the information in the 'description' column can be subjective and redundant for our price prediction objectives, we have decided to exclude this column from our analysis."
   ]
  },
  {
   "cell_type": "markdown",
   "id": "c9c89be8-e61a-4fed-b716-01dd5d3f03db",
   "metadata": {},
   "source": [
    "____________________\n",
    "**engine_type / engine_cylinder**\n",
    "\n",
    "These two columns, `engine_type` and `engine_cylinder`, both provide information about the engine configuration of the vehicles."
   ]
  },
  {
   "cell_type": "code",
   "execution_count": 25,
   "id": "0cad21d8-bf6d-40e8-a749-19ce8b68f8fb",
   "metadata": {},
   "outputs": [
    {
     "data": {
      "text/html": [
       "<div>\n",
       "<style scoped>\n",
       "    .dataframe tbody tr th:only-of-type {\n",
       "        vertical-align: middle;\n",
       "    }\n",
       "\n",
       "    .dataframe tbody tr th {\n",
       "        vertical-align: top;\n",
       "    }\n",
       "\n",
       "    .dataframe thead th {\n",
       "        text-align: right;\n",
       "    }\n",
       "</style>\n",
       "<table border=\"1\" class=\"dataframe\">\n",
       "  <thead>\n",
       "    <tr style=\"text-align: right;\">\n",
       "      <th></th>\n",
       "      <th>engine_type</th>\n",
       "      <th>engine_cylinders</th>\n",
       "    </tr>\n",
       "  </thead>\n",
       "  <tbody>\n",
       "    <tr>\n",
       "      <th>4574</th>\n",
       "      <td>I4</td>\n",
       "      <td>I4</td>\n",
       "    </tr>\n",
       "    <tr>\n",
       "      <th>94247</th>\n",
       "      <td>I4</td>\n",
       "      <td>I4</td>\n",
       "    </tr>\n",
       "    <tr>\n",
       "      <th>51457</th>\n",
       "      <td>V6</td>\n",
       "      <td>V6</td>\n",
       "    </tr>\n",
       "    <tr>\n",
       "      <th>77662</th>\n",
       "      <td>V6</td>\n",
       "      <td>V6</td>\n",
       "    </tr>\n",
       "    <tr>\n",
       "      <th>68131</th>\n",
       "      <td>V6 Flex Fuel Vehicle</td>\n",
       "      <td>V6 Flex Fuel Vehicle</td>\n",
       "    </tr>\n",
       "  </tbody>\n",
       "</table>\n",
       "</div>"
      ],
      "text/plain": [
       "                engine_type      engine_cylinders\n",
       "4574                     I4                    I4\n",
       "94247                    I4                    I4\n",
       "51457                    V6                    V6\n",
       "77662                    V6                    V6\n",
       "68131  V6 Flex Fuel Vehicle  V6 Flex Fuel Vehicle"
      ]
     },
     "execution_count": 25,
     "metadata": {},
     "output_type": "execute_result"
    }
   ],
   "source": [
    "cars_df[['engine_type','engine_cylinders']].sample(5)"
   ]
  },
  {
   "cell_type": "code",
   "execution_count": 26,
   "id": "7534e914-ae1e-46dc-90e2-17474eb6ce14",
   "metadata": {},
   "outputs": [
    {
     "data": {
      "text/plain": [
       "True"
      ]
     },
     "execution_count": 26,
     "metadata": {},
     "output_type": "execute_result"
    }
   ],
   "source": [
    "cars_df['engine_type'].equals(cars_df['engine_cylinders'])"
   ]
  },
  {
   "cell_type": "markdown",
   "id": "704a324f-625f-4a9f-9e43-84a7d1f124e6",
   "metadata": {},
   "source": [
    "Upon verification, we confirmed that the `engine_type` and `engine_cylinders` columns share identical information, confirming redundancy. \n",
    "In order to streamline our dataset and eliminate redundant information, we have opted to remove the `engine_cylinders` column."
   ]
  },
  {
   "cell_type": "code",
   "execution_count": 27,
   "id": "50aea4f2-82e9-41f4-95c1-09731c90b7e9",
   "metadata": {},
   "outputs": [
    {
     "name": "stdout",
     "output_type": "stream",
     "text": [
      "The percentage of null values in the 'engine_type' column is: 3.00%\n"
     ]
    }
   ],
   "source": [
    "null_percentage = (cars_df['engine_type'].isnull().sum() / len(cars_df)) * 100\n",
    "print(f\"The percentage of null values in the 'engine_type' column is: {null_percentage:.2f}%\")"
   ]
  },
  {
   "cell_type": "code",
   "execution_count": 28,
   "id": "5d98c2d3-3cac-49c9-be39-67c4d7b699e2",
   "metadata": {},
   "outputs": [
    {
     "name": "stdout",
     "output_type": "stream",
     "text": [
      "Unique engine types:\n",
      "['V6' 'I6' 'V8' 'I4' 'I4 Hybrid' 'V6 Flex Fuel Vehicle' nan 'H4' 'I5'\n",
      " 'V8 Flex Fuel Vehicle' 'I3' 'V8 Biodiesel' 'I6 Diesel'\n",
      " 'I4 Flex Fuel Vehicle' 'I4 Diesel' 'V6 Hybrid' 'V8 Diesel' 'R2' 'W12'\n",
      " 'V10' 'V12' 'V6 Biodiesel' 'V6 Diesel' 'H6' 'I2' 'W12 Flex Fuel Vehicle'\n",
      " 'I5 Biodiesel' 'V8 Hybrid' 'H4 Hybrid' 'V8 Compressed Natural Gas']\n"
     ]
    }
   ],
   "source": [
    "engine_types = cars_df['engine_type'].unique()\n",
    "print(f\"Unique engine types:\\n{engine_types}\")"
   ]
  },
  {
   "cell_type": "markdown",
   "id": "e4aaa9c8-2021-4941-b5a9-bd64563fa336",
   "metadata": {},
   "source": [
    "During our examination of the unique engine types within the `engine_type` column, we've identified an intriguing connection between engine configuration and fuel type. Notably, certain engine types are commonly associated with specific fuel descriptors such as 'Diesel', 'Flex Fuel Vehicle', 'Biodiesel', and 'Compressed Natural Gas'. \n",
    "While this initial observation suggests a potential correlation, it is essential to delve further to avoid redundancy in our dataset."
   ]
  },
  {
   "cell_type": "markdown",
   "id": "1ae78c30-d2bc-4437-8ff1-be2042e7f1f5",
   "metadata": {},
   "source": [
    "____________________\n",
    "**city_fuel_economy / highway_fuel_economy**\n",
    "\n",
    "The columns `city_fuel_economy` and `highway_fuel_economy` provide information about a vehicle's fuel efficiency in city and highway traffic, respectively, measured in kilometers per liter."
   ]
  },
  {
   "cell_type": "code",
   "execution_count": 29,
   "id": "a19b2440-543e-47a6-b075-5edb112dd838",
   "metadata": {},
   "outputs": [
    {
     "data": {
      "text/html": [
       "<div>\n",
       "<style scoped>\n",
       "    .dataframe tbody tr th:only-of-type {\n",
       "        vertical-align: middle;\n",
       "    }\n",
       "\n",
       "    .dataframe tbody tr th {\n",
       "        vertical-align: top;\n",
       "    }\n",
       "\n",
       "    .dataframe thead th {\n",
       "        text-align: right;\n",
       "    }\n",
       "</style>\n",
       "<table border=\"1\" class=\"dataframe\">\n",
       "  <thead>\n",
       "    <tr style=\"text-align: right;\">\n",
       "      <th></th>\n",
       "      <th>city_fuel_economy</th>\n",
       "      <th>highway_fuel_economy</th>\n",
       "    </tr>\n",
       "  </thead>\n",
       "  <tbody>\n",
       "    <tr>\n",
       "      <th>44831</th>\n",
       "      <td>21.0</td>\n",
       "      <td>27.0</td>\n",
       "    </tr>\n",
       "    <tr>\n",
       "      <th>81648</th>\n",
       "      <td>NaN</td>\n",
       "      <td>NaN</td>\n",
       "    </tr>\n",
       "    <tr>\n",
       "      <th>34546</th>\n",
       "      <td>21.0</td>\n",
       "      <td>27.0</td>\n",
       "    </tr>\n",
       "    <tr>\n",
       "      <th>14923</th>\n",
       "      <td>22.0</td>\n",
       "      <td>31.0</td>\n",
       "    </tr>\n",
       "    <tr>\n",
       "      <th>95065</th>\n",
       "      <td>25.0</td>\n",
       "      <td>32.0</td>\n",
       "    </tr>\n",
       "  </tbody>\n",
       "</table>\n",
       "</div>"
      ],
      "text/plain": [
       "       city_fuel_economy  highway_fuel_economy\n",
       "44831               21.0                  27.0\n",
       "81648                NaN                   NaN\n",
       "34546               21.0                  27.0\n",
       "14923               22.0                  31.0\n",
       "95065               25.0                  32.0"
      ]
     },
     "execution_count": 29,
     "metadata": {},
     "output_type": "execute_result"
    }
   ],
   "source": [
    "cars_df[['city_fuel_economy','highway_fuel_economy']].sample(5)"
   ]
  },
  {
   "cell_type": "markdown",
   "id": "570be0c4-6f70-4bcc-b089-ef0a230c8114",
   "metadata": {},
   "source": [
    "Not using `city_fuel_economy` and `highway_fuel_economy` is justified because they have many missing values (16.38%) and there are better alternative variables for the analysis. Imputing missing values might introduce inaccuracies and complexity."
   ]
  },
  {
   "cell_type": "markdown",
   "id": "6847780c-f839-4357-b89c-844c633a017e",
   "metadata": {},
   "source": [
    "____________________\n",
    "**interior_color / exterior_color / listing_color**\n",
    "\n",
    "These three columns capture essential aspects of a vehicle's color attributes. `Interior_color` reflects the interior's aesthetic appeal, `exterior_color` showcases the dominant outer hue, and interior_color further contributes to the overall visual harmony. "
   ]
  },
  {
   "cell_type": "code",
   "execution_count": 30,
   "id": "09ef2749-fbfc-4bc3-aaaf-002204970e95",
   "metadata": {},
   "outputs": [
    {
     "data": {
      "text/html": [
       "<div>\n",
       "<style scoped>\n",
       "    .dataframe tbody tr th:only-of-type {\n",
       "        vertical-align: middle;\n",
       "    }\n",
       "\n",
       "    .dataframe tbody tr th {\n",
       "        vertical-align: top;\n",
       "    }\n",
       "\n",
       "    .dataframe thead th {\n",
       "        text-align: right;\n",
       "    }\n",
       "</style>\n",
       "<table border=\"1\" class=\"dataframe\">\n",
       "  <thead>\n",
       "    <tr style=\"text-align: right;\">\n",
       "      <th></th>\n",
       "      <th>interior_color</th>\n",
       "      <th>exterior_color</th>\n",
       "      <th>listing_color</th>\n",
       "    </tr>\n",
       "  </thead>\n",
       "  <tbody>\n",
       "    <tr>\n",
       "      <th>42467</th>\n",
       "      <td>Blue (Sepia)</td>\n",
       "      <td>Blueprint</td>\n",
       "      <td>UNKNOWN</td>\n",
       "    </tr>\n",
       "    <tr>\n",
       "      <th>54184</th>\n",
       "      <td>Black</td>\n",
       "      <td>White</td>\n",
       "      <td>WHITE</td>\n",
       "    </tr>\n",
       "    <tr>\n",
       "      <th>85432</th>\n",
       "      <td>Black</td>\n",
       "      <td>Shadow Gray Metallic</td>\n",
       "      <td>GRAY</td>\n",
       "    </tr>\n",
       "    <tr>\n",
       "      <th>11501</th>\n",
       "      <td>NaN</td>\n",
       "      <td>NaN</td>\n",
       "      <td>UNKNOWN</td>\n",
       "    </tr>\n",
       "    <tr>\n",
       "      <th>48901</th>\n",
       "      <td>Black</td>\n",
       "      <td>Diamond Black Crystal Pearlcoat</td>\n",
       "      <td>BLACK</td>\n",
       "    </tr>\n",
       "  </tbody>\n",
       "</table>\n",
       "</div>"
      ],
      "text/plain": [
       "      interior_color                   exterior_color listing_color\n",
       "42467   Blue (Sepia)                        Blueprint       UNKNOWN\n",
       "54184          Black                            White         WHITE\n",
       "85432          Black             Shadow Gray Metallic          GRAY\n",
       "11501            NaN                              NaN       UNKNOWN\n",
       "48901          Black  Diamond Black Crystal Pearlcoat         BLACK"
      ]
     },
     "execution_count": 30,
     "metadata": {},
     "output_type": "execute_result"
    }
   ],
   "source": [
    "cars_df[['interior_color','exterior_color','listing_color']].sample(5)"
   ]
  },
  {
   "cell_type": "code",
   "execution_count": 31,
   "id": "32c877bf-4919-49e7-9937-0b117f129e10",
   "metadata": {},
   "outputs": [
    {
     "name": "stdout",
     "output_type": "stream",
     "text": [
      "There are 4297 unique values in the 'exterior_color' column.\n"
     ]
    }
   ],
   "source": [
    "unique_exterior_colors = len(list(cars_df['exterior_color'].unique()))\n",
    "print(f\"There are {unique_exterior_colors} unique values in the 'exterior_color' column.\")"
   ]
  },
  {
   "cell_type": "code",
   "execution_count": 32,
   "id": "8620a959-d9e7-4541-89eb-0990b2ccbf83",
   "metadata": {},
   "outputs": [
    {
     "name": "stdout",
     "output_type": "stream",
     "text": [
      "Unique listing_colors:\n",
      "['BLACK' 'BLUE' 'UNKNOWN' 'GRAY' 'WHITE' 'SILVER' 'GREEN' 'RED' 'ORANGE'\n",
      " 'GOLD' 'BROWN' 'TEAL' 'PURPLE' 'YELLOW' 'PINK']\n"
     ]
    }
   ],
   "source": [
    "listing_colors = cars_df['listing_color'].unique()\n",
    "print(f\"Unique listing_colors:\\n{listing_colors}\")"
   ]
  },
  {
   "cell_type": "markdown",
   "id": "d8183961-6fe1-40f5-8c72-26a3c0d19032",
   "metadata": {},
   "source": [
    "A transformation to standardize the `listing_color` column, ensuring values are not in all uppercase, is planned for future data enhancements."
   ]
  },
  {
   "cell_type": "markdown",
   "id": "935383e5-e4b0-45ea-8648-8c2e9b28610b",
   "metadata": {},
   "source": [
    "The `listing_color` column effectively categorizes exterior colors, rendering it a useful choice. However, due to the extensive color variations, the `interior_color` column may not carry substantial relevance and can be excluded to manage dimensionality."
   ]
  },
  {
   "cell_type": "markdown",
   "id": "e6bf7923-7cfa-4ce0-9160-a70a445de9f9",
   "metadata": {},
   "source": [
    "____________________\n",
    "**franchise_make / make_name**\n",
    "\n",
    "These two columns likely contain related information regarding the vehicle manufacturers. `franchise_make` denotes the company that owns the franchise, while `make_name` provides the name of the manufacturer. This variable could be relevant for predicting the vehicle's price, as different manufacturers might have varying brand reputations, market positioning, and overall desirability, which can influence pricing decisions."
   ]
  },
  {
   "cell_type": "code",
   "execution_count": 33,
   "id": "9df895d3-7111-4c19-b21c-591b2a8690c6",
   "metadata": {},
   "outputs": [
    {
     "data": {
      "text/html": [
       "<div>\n",
       "<style scoped>\n",
       "    .dataframe tbody tr th:only-of-type {\n",
       "        vertical-align: middle;\n",
       "    }\n",
       "\n",
       "    .dataframe tbody tr th {\n",
       "        vertical-align: top;\n",
       "    }\n",
       "\n",
       "    .dataframe thead th {\n",
       "        text-align: right;\n",
       "    }\n",
       "</style>\n",
       "<table border=\"1\" class=\"dataframe\">\n",
       "  <thead>\n",
       "    <tr style=\"text-align: right;\">\n",
       "      <th></th>\n",
       "      <th>franchise_make</th>\n",
       "      <th>make_name</th>\n",
       "    </tr>\n",
       "  </thead>\n",
       "  <tbody>\n",
       "    <tr>\n",
       "      <th>52393</th>\n",
       "      <td>Dodge</td>\n",
       "      <td>Jeep</td>\n",
       "    </tr>\n",
       "    <tr>\n",
       "      <th>25873</th>\n",
       "      <td>Mercedes-Benz</td>\n",
       "      <td>Mercedes-Benz</td>\n",
       "    </tr>\n",
       "    <tr>\n",
       "      <th>87945</th>\n",
       "      <td>Ford</td>\n",
       "      <td>Ford</td>\n",
       "    </tr>\n",
       "    <tr>\n",
       "      <th>63655</th>\n",
       "      <td>Buick</td>\n",
       "      <td>Buick</td>\n",
       "    </tr>\n",
       "    <tr>\n",
       "      <th>59973</th>\n",
       "      <td>Mercedes-Benz</td>\n",
       "      <td>Mercedes-Benz</td>\n",
       "    </tr>\n",
       "  </tbody>\n",
       "</table>\n",
       "</div>"
      ],
      "text/plain": [
       "      franchise_make      make_name\n",
       "52393          Dodge           Jeep\n",
       "25873  Mercedes-Benz  Mercedes-Benz\n",
       "87945           Ford           Ford\n",
       "63655          Buick          Buick\n",
       "59973  Mercedes-Benz  Mercedes-Benz"
      ]
     },
     "execution_count": 33,
     "metadata": {},
     "output_type": "execute_result"
    }
   ],
   "source": [
    "cars_df[['franchise_make','make_name']].sample(5)"
   ]
  },
  {
   "cell_type": "markdown",
   "id": "8f78c8e3-b2d9-4fa3-97c5-ca00a7e7f55f",
   "metadata": {},
   "source": [
    "The column `franchise_make` has been removed due to redundancy with the `make_name` column. Despite not being identical, both columns contained similar information related to vehicle manufacturers."
   ]
  },
  {
   "cell_type": "code",
   "execution_count": 34,
   "id": "a47e0b3f-ddd3-4ea6-8ac4-5dd05ca50e9c",
   "metadata": {},
   "outputs": [
    {
     "name": "stdout",
     "output_type": "stream",
     "text": [
      "Unique make names:\n",
      "['Chevrolet' 'BMW' 'Mercedes-Benz' 'Kia' 'Dodge' 'Jeep' 'Ford' 'Nissan'\n",
      " 'Toyota' 'Lexus' 'Honda' 'Chrysler' 'Porsche' 'Volkswagen' 'Cadillac'\n",
      " 'Mazda' 'Hyundai' 'INFINITI' 'Volvo' 'Acura' 'Subaru' 'Scion' 'Mercury'\n",
      " 'RAM' 'Jaguar' 'Land Rover' 'Lincoln' 'Audi' 'Saab' 'Mitsubishi' 'Buick'\n",
      " 'Maserati' 'MINI' 'GMC' 'Ferrari' 'Genesis' 'Saturn' 'FIAT' 'Bentley'\n",
      " 'Suzuki' 'Tesla' 'Fisker' 'Pontiac' 'Lamborghini' 'Alfa Romeo' 'smart'\n",
      " 'Hummer' 'Rolls-Royce' 'Lotus' 'Spyker' 'McLaren' 'Aston Martin' 'Kaiser'\n",
      " 'Oldsmobile' 'Maybach' 'Freightliner' 'Karma' 'Isuzu' 'Plymouth']\n"
     ]
    }
   ],
   "source": [
    "make_names = cars_df['make_name'].unique()\n",
    "print(f\"Unique make names:\\n{make_names}\")"
   ]
  },
  {
   "cell_type": "markdown",
   "id": "718fdbfe-ae06-4a14-99bc-62f6e495ddb0",
   "metadata": {},
   "source": [
    "Given the extensive variety of distinct manufacturer names and the absence of missing values, it's important to explore methods for reducing categories. Doing so could lead to more efficient analysis and visualization efforts."
   ]
  },
  {
   "cell_type": "code",
   "execution_count": 35,
   "id": "e7cb98a1-940b-469b-9927-09935788d65d",
   "metadata": {},
   "outputs": [
    {
     "name": "stdout",
     "output_type": "stream",
     "text": [
      "The percentage of null values in the 'make_name' column is: 0.00%\n"
     ]
    }
   ],
   "source": [
    "null_percentage = (cars_df['make_name'].isnull().sum() / len(cars_df)) * 100\n",
    "print(f\"The percentage of null values in the 'make_name' column is: {null_percentage:.2f}%\")"
   ]
  },
  {
   "cell_type": "markdown",
   "id": "49418688-2e31-41bc-a3e9-9566faebcb90",
   "metadata": {},
   "source": [
    "____________________\n",
    "**model_name**\n",
    "\n",
    "Represents the specific model name or designation of each vehicle."
   ]
  },
  {
   "cell_type": "code",
   "execution_count": 36,
   "id": "7ae4c027-d8a9-4a21-85cd-f61cbf7f47d7",
   "metadata": {},
   "outputs": [
    {
     "data": {
      "text/plain": [
       "92813      Escape\n",
       "14201          ES\n",
       "8388       Tiguan\n",
       "47370      F-PACE\n",
       "54818    Santa Fe\n",
       "Name: model_name, dtype: object"
      ]
     },
     "execution_count": 36,
     "metadata": {},
     "output_type": "execute_result"
    }
   ],
   "source": [
    "cars_df['model_name'].sample(5)"
   ]
  },
  {
   "cell_type": "code",
   "execution_count": 37,
   "id": "b3c5930d-87cf-4ffd-a86e-4d2b2e304c21",
   "metadata": {},
   "outputs": [
    {
     "name": "stdout",
     "output_type": "stream",
     "text": [
      "Number of unique model names: 843\n"
     ]
    }
   ],
   "source": [
    "model_name = cars_df['model_name'].nunique()\n",
    "print(f\"Number of unique model names: {model_name}\")"
   ]
  },
  {
   "cell_type": "code",
   "execution_count": 38,
   "id": "941efa85-5242-40f3-9df0-22cb2f7eb155",
   "metadata": {},
   "outputs": [
    {
     "name": "stdout",
     "output_type": "stream",
     "text": [
      "The percentage of null values in the 'model_name' column is: 0.00%\n"
     ]
    }
   ],
   "source": [
    "null_percentage = (cars_df['model_name'].isnull().sum() / len(cars_df)) * 100\n",
    "print(f\"The percentage of null values in the 'model_name' column is: {null_percentage:.2f}%\")"
   ]
  },
  {
   "cell_type": "markdown",
   "id": "acbe7743-d9ee-4eae-872f-09f07ba74b1a",
   "metadata": {},
   "source": [
    "Considering there are 1,429 unique model names in the dataset and no missing values, it's crucial to explore methods for categorically reducing these model names. "
   ]
  },
  {
   "cell_type": "markdown",
   "id": "1c5bc349-7c47-43c4-b143-b0342fae99a8",
   "metadata": {},
   "source": [
    "____________________\n",
    "**franchise_dealer**\n",
    "\n",
    "\n",
    "Whether the dealer is a franchise dealer.\n"
   ]
  },
  {
   "cell_type": "code",
   "execution_count": 39,
   "id": "4c6e32bf-c03f-4c2b-a670-cedd2596d231",
   "metadata": {},
   "outputs": [
    {
     "data": {
      "text/plain": [
       "42220     True\n",
       "30872     True\n",
       "22371    False\n",
       "16024     True\n",
       "42520     True\n",
       "Name: franchise_dealer, dtype: bool"
      ]
     },
     "execution_count": 39,
     "metadata": {},
     "output_type": "execute_result"
    }
   ],
   "source": [
    "cars_df['franchise_dealer'].sample(5)"
   ]
  },
  {
   "cell_type": "markdown",
   "id": "4a9a6edf-3068-4cf6-be5b-a16431afd34c",
   "metadata": {},
   "source": [
    "\n",
    "We will not be using the `franchise_dealer` column as it does not hold significant relevance for our analysis and price prediction model."
   ]
  },
  {
   "cell_type": "markdown",
   "id": "b9212cef-b102-4667-85a7-355851e2d058",
   "metadata": {},
   "source": [
    "____________________\n",
    "**fuel_type**\n",
    "\n",
    "Represents the dominant type of fuel used by the vehicle, such as gasoline, diesel, electric, etc. This attribute can be crucial in predicting the vehicle's price since different fuel types can affect operating costs, environmental factors, and overall market demand. "
   ]
  },
  {
   "cell_type": "code",
   "execution_count": 40,
   "id": "1e27cdb5-c938-407a-a34a-d9aff1a5fc4e",
   "metadata": {},
   "outputs": [
    {
     "data": {
      "text/plain": [
       "10623    Gasoline\n",
       "35053      Hybrid\n",
       "66987    Gasoline\n",
       "6863     Gasoline\n",
       "96607    Gasoline\n",
       "Name: fuel_type, dtype: object"
      ]
     },
     "execution_count": 40,
     "metadata": {},
     "output_type": "execute_result"
    }
   ],
   "source": [
    "cars_df['fuel_type'].sample(5)"
   ]
  },
  {
   "cell_type": "code",
   "execution_count": 41,
   "id": "d84f5221-ffd0-4d34-8074-f94893364d07",
   "metadata": {},
   "outputs": [
    {
     "name": "stdout",
     "output_type": "stream",
     "text": [
      "Unique fuel types:\n",
      "['Gasoline' 'Hybrid' 'Flex Fuel Vehicle' nan 'Electric' 'Biodiesel'\n",
      " 'Diesel' 'Compressed Natural Gas']\n"
     ]
    }
   ],
   "source": [
    "fuel_types = cars_df['fuel_type'].unique()\n",
    "print(f\"Unique fuel types:\\n{fuel_types}\")"
   ]
  },
  {
   "cell_type": "code",
   "execution_count": 42,
   "id": "47e21d9a-95bf-481c-b000-4352b9915b12",
   "metadata": {},
   "outputs": [
    {
     "data": {
      "image/png": "[encoded data removed]",
      "text/plain": [
       "<Figure size 1000x600 with 1 Axes>"
      ]
     },
     "metadata": {},
     "output_type": "display_data"
    }
   ],
   "source": [
    "fuel_type_percentage = cars_df['fuel_type'].value_counts() / cars_df.shape[0] * 100\n",
    "sns.set_theme()\n",
    "plt.figure(figsize=(10, 6))\n",
    "ax1 = sns.barplot(x=fuel_type_percentage.values, y=fuel_type_percentage.index, orient='h', color='red', alpha=0.5)\n",
    "plt.xlabel('Percentage (%)')\n",
    "plt.ylabel('Fuel Type')\n",
    "plt.title('Fuel Type Distribution (Percentage)')\n",
    "plt.show()"
   ]
  },
  {
   "cell_type": "code",
   "execution_count": 43,
   "id": "da60cb2b-7095-4ca3-be38-c88794f9f3cb",
   "metadata": {},
   "outputs": [
    {
     "name": "stdout",
     "output_type": "stream",
     "text": [
      "The percentage of null values in the 'fuel_type' column is: 2.46%\n"
     ]
    }
   ],
   "source": [
    "null_percentage_fuel_type = (cars_df['fuel_type'].isnull().sum() / len(cars_df)) * 100\n",
    "print(f\"The percentage of null values in the 'fuel_type' column is: {null_percentage_fuel_type:.2f}%\")"
   ]
  },
  {
   "cell_type": "markdown",
   "id": "26abe9f4-d1cd-411b-9df9-5e810a4c36bd",
   "metadata": {},
   "source": [
    "It's worth investigating whether these missing values correspond to a specific category that hasn't been accounted for, potentially through car model information. "
   ]
  },
  {
   "cell_type": "markdown",
   "id": "3d930e25-463e-49fe-b43e-389392a460e9",
   "metadata": {},
   "source": [
    "____________________\n",
    "**fuel_tank_volume**\n",
    "\n",
    "This column indicates the vehicle's fuel tank capacity in gallons, a relevant factor for fuel efficiency and pricing.\n",
    " "
   ]
  },
  {
   "cell_type": "code",
   "execution_count": 44,
   "id": "4bea752a-e797-4398-a955-0311b431b9b2",
   "metadata": {},
   "outputs": [
    {
     "data": {
      "text/plain": [
       "32374    15.9 gal\n",
       "79419    18.5 gal\n",
       "3223     21.1 gal\n",
       "71356    24.5 gal\n",
       "12365    24.6 gal\n",
       "Name: fuel_tank_volume, dtype: object"
      ]
     },
     "execution_count": 44,
     "metadata": {},
     "output_type": "execute_result"
    }
   ],
   "source": [
    "cars_df['fuel_tank_volume'].sample(5)"
   ]
  },
  {
   "cell_type": "markdown",
   "id": "81011420-aedf-43d2-8537-03dde7d68e4d",
   "metadata": {},
   "source": [
    "However, it has been decided not to include this variable in the analysis as it is not deemed essential for the research objectives. Additionally, the variable will not be utilized in future transformations, as it is not considered a critical component for the prediction model."
   ]
  },
  {
   "cell_type": "markdown",
   "id": "92c59469-2114-4de5-8d84-d4f5e7378fcd",
   "metadata": {},
   "source": [
    "____________________\n",
    "**length / width / height**\n",
    "\n",
    "The `length` column represents the vehicle's size in terms of length, measured in inches. Similarly, the `width` column indicates the width of the vehicle, also measured in inches. Lastly, the `height` column provides the height measurement of the vehicle in inches. "
   ]
  },
  {
   "cell_type": "code",
   "execution_count": 45,
   "id": "f9db14a6-e49a-46ef-91a0-c88b7e46a785",
   "metadata": {},
   "outputs": [
    {
     "data": {
      "text/html": [
       "<div>\n",
       "<style scoped>\n",
       "    .dataframe tbody tr th:only-of-type {\n",
       "        vertical-align: middle;\n",
       "    }\n",
       "\n",
       "    .dataframe tbody tr th {\n",
       "        vertical-align: top;\n",
       "    }\n",
       "\n",
       "    .dataframe thead th {\n",
       "        text-align: right;\n",
       "    }\n",
       "</style>\n",
       "<table border=\"1\" class=\"dataframe\">\n",
       "  <thead>\n",
       "    <tr style=\"text-align: right;\">\n",
       "      <th></th>\n",
       "      <th>length</th>\n",
       "      <th>width</th>\n",
       "      <th>height</th>\n",
       "    </tr>\n",
       "  </thead>\n",
       "  <tbody>\n",
       "    <tr>\n",
       "      <th>95536</th>\n",
       "      <td>189.8 in</td>\n",
       "      <td>84.8 in</td>\n",
       "      <td>69.3 in</td>\n",
       "    </tr>\n",
       "    <tr>\n",
       "      <th>20614</th>\n",
       "      <td>189.7 in</td>\n",
       "      <td>84.1 in</td>\n",
       "      <td>72.8 in</td>\n",
       "    </tr>\n",
       "    <tr>\n",
       "      <th>76164</th>\n",
       "      <td>198.8 in</td>\n",
       "      <td>89.3 in</td>\n",
       "      <td>69.9 in</td>\n",
       "    </tr>\n",
       "    <tr>\n",
       "      <th>71190</th>\n",
       "      <td>180.9 in</td>\n",
       "      <td>73 in</td>\n",
       "      <td>67 in</td>\n",
       "    </tr>\n",
       "    <tr>\n",
       "      <th>26068</th>\n",
       "      <td>193.8 in</td>\n",
       "      <td>73 in</td>\n",
       "      <td>57.6 in</td>\n",
       "    </tr>\n",
       "  </tbody>\n",
       "</table>\n",
       "</div>"
      ],
      "text/plain": [
       "         length    width   height\n",
       "95536  189.8 in  84.8 in  69.3 in\n",
       "20614  189.7 in  84.1 in  72.8 in\n",
       "76164  198.8 in  89.3 in  69.9 in\n",
       "71190  180.9 in    73 in    67 in\n",
       "26068  193.8 in    73 in  57.6 in"
      ]
     },
     "execution_count": 45,
     "metadata": {},
     "output_type": "execute_result"
    }
   ],
   "source": [
    "cars_df[['length','width','height']].sample(5)"
   ]
  },
  {
   "cell_type": "code",
   "execution_count": 46,
   "id": "94e07f0b-e2bf-4522-b413-07bd58a40fe3",
   "metadata": {},
   "outputs": [
    {
     "name": "stdout",
     "output_type": "stream",
     "text": [
      "Percentage of missing values in 'length': 4.95%\n",
      "Percentage of missing values in 'width': 4.95%\n",
      "Percentage of missing values in 'height': 4.95%\n"
     ]
    }
   ],
   "source": [
    "missing_percentage_length = cars_df['length'].isnull().mean() * 100\n",
    "print(f\"Percentage of missing values in 'length': {missing_percentage_length:.2f}%\")\n",
    "\n",
    "missing_percentage_width = cars_df['width'].isnull().mean() * 100\n",
    "print(f\"Percentage of missing values in 'width': {missing_percentage_width:.2f}%\")\n",
    "\n",
    "missing_percentage_height = cars_df['height'].isnull().mean() * 100\n",
    "print(f\"Percentage of missing values in 'height': {missing_percentage_height:.2f}%\")"
   ]
  },
  {
   "cell_type": "markdown",
   "id": "d9f9880f-9175-4392-9447-ff188316c7a3",
   "metadata": {},
   "source": [
    "However, as all three columns share the same 5.31% missing values, it is deemed redundant to use them for size estimation, given that the `body_type` variable already provides a good indication of the vehicle's size."
   ]
  },
  {
   "cell_type": "markdown",
   "id": "fa9e641b-e46b-4d18-88fe-070665515184",
   "metadata": {},
   "source": [
    "____________________\n",
    "**horsepower / power**\n",
    "\n",
    "The `horsepower` and `power` columns both convey information about the engine's power output, measured in horsepower units.This attribute can significantly influence a vehicle's price, as higher power output often correlates with enhanced performance and market value."
   ]
  },
  {
   "cell_type": "code",
   "execution_count": 47,
   "id": "b596d848-2246-41c1-9013-7c2be3c7ff13",
   "metadata": {},
   "outputs": [
    {
     "data": {
      "text/html": [
       "<div>\n",
       "<style scoped>\n",
       "    .dataframe tbody tr th:only-of-type {\n",
       "        vertical-align: middle;\n",
       "    }\n",
       "\n",
       "    .dataframe tbody tr th {\n",
       "        vertical-align: top;\n",
       "    }\n",
       "\n",
       "    .dataframe thead th {\n",
       "        text-align: right;\n",
       "    }\n",
       "</style>\n",
       "<table border=\"1\" class=\"dataframe\">\n",
       "  <thead>\n",
       "    <tr style=\"text-align: right;\">\n",
       "      <th></th>\n",
       "      <th>horsepower</th>\n",
       "      <th>power</th>\n",
       "    </tr>\n",
       "  </thead>\n",
       "  <tbody>\n",
       "    <tr>\n",
       "      <th>72155</th>\n",
       "      <td>355.0</td>\n",
       "      <td>355 hp @ 5,600 RPM</td>\n",
       "    </tr>\n",
       "    <tr>\n",
       "      <th>33526</th>\n",
       "      <td>170.0</td>\n",
       "      <td>170 hp @ 5,600 RPM</td>\n",
       "    </tr>\n",
       "    <tr>\n",
       "      <th>73080</th>\n",
       "      <td>219.0</td>\n",
       "      <td>NaN</td>\n",
       "    </tr>\n",
       "    <tr>\n",
       "      <th>10183</th>\n",
       "      <td>265.0</td>\n",
       "      <td>265 hp @ 6,250 RPM</td>\n",
       "    </tr>\n",
       "    <tr>\n",
       "      <th>75731</th>\n",
       "      <td>170.0</td>\n",
       "      <td>NaN</td>\n",
       "    </tr>\n",
       "  </tbody>\n",
       "</table>\n",
       "</div>"
      ],
      "text/plain": [
       "       horsepower               power\n",
       "72155       355.0  355 hp @ 5,600 RPM\n",
       "33526       170.0  170 hp @ 5,600 RPM\n",
       "73080       219.0                 NaN\n",
       "10183       265.0  265 hp @ 6,250 RPM\n",
       "75731       170.0                 NaN"
      ]
     },
     "execution_count": 47,
     "metadata": {},
     "output_type": "execute_result"
    }
   ],
   "source": [
    "cars_df[['horsepower','power']].sample(5)"
   ]
  },
  {
   "cell_type": "markdown",
   "id": "fa23aab4-239e-40d1-8270-9a9ee7abd969",
   "metadata": {},
   "source": [
    "After evaluating the three variables, it has been determined that only the `horsepower` column will be used for our analysis, as it provides a comprehensive measure of engine performance. The `power` column will not be included in our analysis."
   ]
  },
  {
   "cell_type": "code",
   "execution_count": 48,
   "id": "7207737c-877d-4700-874f-6427610263f7",
   "metadata": {},
   "outputs": [
    {
     "name": "stdout",
     "output_type": "stream",
     "text": [
      "The amount of null values in the horsepower column are 5.34%.\n"
     ]
    }
   ],
   "source": [
    "percentage = cars_df['horsepower'].isna().sum()/cars_df.shape[0]*100\n",
    "print(f\"The amount of null values in the horsepower column are {percentage.round(2)}%.\")"
   ]
  },
  {
   "cell_type": "markdown",
   "id": "907d3e81-0e68-4f12-ad9d-78a706eb651c",
   "metadata": {},
   "source": [
    "For the null values in the `horsepower column`, we'll assign the most common value within the typical range of 180 to 200 horsepower for mainstream cars."
   ]
  },
  {
   "cell_type": "markdown",
   "id": "0b432f28-8a07-4d3c-9546-8682d16d142c",
   "metadata": {},
   "source": [
    "____________________\n",
    "**torque**\n",
    "\n",
    "\n",
    "Measures the rotational force generated by the engine, crucial for describing engine performance."
   ]
  },
  {
   "cell_type": "code",
   "execution_count": 49,
   "id": "2eb1b302-3449-4af0-8ca9-42b1198a8894",
   "metadata": {},
   "outputs": [
    {
     "data": {
      "text/plain": [
       "37199    300 lb-ft @ 1,300 RPM\n",
       "16245    258 lb-ft @ 1,450 RPM\n",
       "17758    260 lb-ft @ 4,000 RPM\n",
       "4655     178 lb-ft @ 4,000 RPM\n",
       "8889     295 lb-ft @ 2,200 RPM\n",
       "Name: torque, dtype: object"
      ]
     },
     "execution_count": 49,
     "metadata": {},
     "output_type": "execute_result"
    }
   ],
   "source": [
    "cars_df['torque'].sample(5)"
   ]
  },
  {
   "cell_type": "markdown",
   "id": "41d9bd36-8948-4a2b-abab-c3d3f3b1582c",
   "metadata": {},
   "source": [
    "While the `torque` column originally contained torque measurements in pound-feet (lb-ft) followed by engine revolutions per minute (RPM), it was planned to simplify the format for future analysis. However, the complexity in understanding this variable poses a challenge for the model, and considering the availability of other variables such as `horsepower`, it has been decided not to use 'torque' in the analysis."
   ]
  },
  {
   "cell_type": "markdown",
   "id": "003d9b04-ae95-49df-b672-850c882df2ae",
   "metadata": {},
   "source": [
    "____________________\n",
    "**engine_displacement**\n",
    "\n",
    "\n",
    "Measure of the cylinder volume swept by all pistons in a piston engine."
   ]
  },
  {
   "cell_type": "code",
   "execution_count": 50,
   "id": "327d18b6-97d0-42d5-9663-6c1c919af4ee",
   "metadata": {},
   "outputs": [
    {
     "data": {
      "text/plain": [
       "21863    2000.0\n",
       "33980    2000.0\n",
       "28338    2000.0\n",
       "49023    2000.0\n",
       "27552    2400.0\n",
       "Name: engine_displacement, dtype: float64"
      ]
     },
     "execution_count": 50,
     "metadata": {},
     "output_type": "execute_result"
    }
   ],
   "source": [
    "cars_df['engine_displacement'].sample(5)"
   ]
  },
  {
   "cell_type": "markdown",
   "id": "8b31b20c-885d-4058-ad7f-6ccf028f5e01",
   "metadata": {},
   "source": [
    "The `engine_displacement` column, which measures engine size, is redundant as similar information is available in other columns like `horsepower` and `torque`. To streamline our analysis, we have decided to drop this column."
   ]
  },
  {
   "cell_type": "markdown",
   "id": "8ecfe102-957b-4f0c-a79e-2afcd5334b65",
   "metadata": {},
   "source": [
    "______________\n",
    "**main_picture_url**\n",
    "\n",
    "URL of the main vehicle picture."
   ]
  },
  {
   "cell_type": "code",
   "execution_count": 51,
   "id": "207507bf-bf43-4e1d-8714-665bdffaae43",
   "metadata": {},
   "outputs": [
    {
     "data": {
      "text/plain": [
       "7589     https://static.cargurus.com/images/forsale/202...\n",
       "20403    https://static.cargurus.com/images/forsale/202...\n",
       "6149     https://static.cargurus.com/images/forsale/202...\n",
       "43249    https://static.cargurus.com/images/forsale/202...\n",
       "72853    https://static.cargurus.com/images/forsale/202...\n",
       "Name: main_picture_url, dtype: object"
      ]
     },
     "execution_count": 51,
     "metadata": {},
     "output_type": "execute_result"
    }
   ],
   "source": [
    "cars_df['main_picture_url'].sample(5)"
   ]
  },
  {
   "cell_type": "markdown",
   "id": "1b4eacbc-c916-41a4-b72c-64d0242d5df3",
   "metadata": {},
   "source": [
    "The `main_picture_url` column provides links to the main pictures of the vehicles. However, since our focus is on building a price prediction model, this column is not relevant for our analysis."
   ]
  },
  {
   "cell_type": "markdown",
   "id": "115539ba-a17c-4902-8c53-0adb6e0881d9",
   "metadata": {},
   "source": [
    "____________________\n",
    "**city / dealer_zip / longitude / latitude**\n",
    "\n",
    "The `city` column denotes the listing location of the car, offering valuable insights into regional market trends. The `dealer_zip` field comprises the dealership's zip code, contributing to geographical identification. Moreover, the `longitude` and `latitude` values furnish accurate geographic coordinates of the dealership's position, enhancing spatial understanding and convenience for potential buyers."
   ]
  },
  {
   "cell_type": "code",
   "execution_count": 52,
   "id": "22da1a9c-1462-4975-b784-0fa65a2fa457",
   "metadata": {},
   "outputs": [
    {
     "data": {
      "text/html": [
       "<div>\n",
       "<style scoped>\n",
       "    .dataframe tbody tr th:only-of-type {\n",
       "        vertical-align: middle;\n",
       "    }\n",
       "\n",
       "    .dataframe tbody tr th {\n",
       "        vertical-align: top;\n",
       "    }\n",
       "\n",
       "    .dataframe thead th {\n",
       "        text-align: right;\n",
       "    }\n",
       "</style>\n",
       "<table border=\"1\" class=\"dataframe\">\n",
       "  <thead>\n",
       "    <tr style=\"text-align: right;\">\n",
       "      <th></th>\n",
       "      <th>city</th>\n",
       "      <th>dealer_zip</th>\n",
       "      <th>longitude</th>\n",
       "      <th>latitude</th>\n",
       "    </tr>\n",
       "  </thead>\n",
       "  <tbody>\n",
       "    <tr>\n",
       "      <th>96065</th>\n",
       "      <td>Nashua</td>\n",
       "      <td>3063</td>\n",
       "      <td>-71.5005</td>\n",
       "      <td>42.7806</td>\n",
       "    </tr>\n",
       "    <tr>\n",
       "      <th>96806</th>\n",
       "      <td>Westwood</td>\n",
       "      <td>2090</td>\n",
       "      <td>-71.1818</td>\n",
       "      <td>42.2151</td>\n",
       "    </tr>\n",
       "    <tr>\n",
       "      <th>88571</th>\n",
       "      <td>Lowell</td>\n",
       "      <td>1851</td>\n",
       "      <td>-71.3218</td>\n",
       "      <td>42.6129</td>\n",
       "    </tr>\n",
       "    <tr>\n",
       "      <th>41043</th>\n",
       "      <td>Verona</td>\n",
       "      <td>7044</td>\n",
       "      <td>-74.2311</td>\n",
       "      <td>40.8253</td>\n",
       "    </tr>\n",
       "    <tr>\n",
       "      <th>96787</th>\n",
       "      <td>Nashua</td>\n",
       "      <td>3063</td>\n",
       "      <td>-71.5005</td>\n",
       "      <td>42.7806</td>\n",
       "    </tr>\n",
       "  </tbody>\n",
       "</table>\n",
       "</div>"
      ],
      "text/plain": [
       "           city  dealer_zip  longitude  latitude\n",
       "96065    Nashua        3063   -71.5005   42.7806\n",
       "96806  Westwood        2090   -71.1818   42.2151\n",
       "88571    Lowell        1851   -71.3218   42.6129\n",
       "41043    Verona        7044   -74.2311   40.8253\n",
       "96787    Nashua        3063   -71.5005   42.7806"
      ]
     },
     "execution_count": 52,
     "metadata": {},
     "output_type": "execute_result"
    }
   ],
   "source": [
    "cars_df[['city','dealer_zip','longitude', 'latitude']].sample(5)"
   ]
  },
  {
   "cell_type": "markdown",
   "id": "8fcb0d0b-aa75-439e-85be-01e9497b97d6",
   "metadata": {},
   "source": [
    "For regional analysis, we are retaining the `dealer_zip` and `city columns`. The `dealer_zip` column is numeric, allowing us to infer the state where the vehicle is located based on zip codes. Therefore, having `longitude` and `latitude` columns would introduce redundancy since our primary focus is on regional insights derived from zip code and city data. "
   ]
  },
  {
   "cell_type": "markdown",
   "id": "3c335270-5997-4eb8-b776-29b3af7a241e",
   "metadata": {},
   "source": [
    "________________\n",
    "**major_options**\n",
    "\n",
    "Insights into the significant features and notable choices associated with each vehicle."
   ]
  },
  {
   "cell_type": "code",
   "execution_count": 53,
   "id": "16790891-f447-4cd2-aee4-8386d818095d",
   "metadata": {},
   "outputs": [
    {
     "data": {
      "text/plain": [
       "34507    ['Alloy Wheels', 'Bluetooth', 'Remote Start', ...\n",
       "89606    ['Sunroof/Moonroof', 'Navigation System', 'All...\n",
       "15640    ['Leather Seats', 'Alloy Wheels', 'Third Row S...\n",
       "75438    ['Popular Equipment Package', 'Navigation Syst...\n",
       "35170    ['Alloy Wheels', 'Bluetooth', 'Backup Camera',...\n",
       "Name: major_options, dtype: object"
      ]
     },
     "execution_count": 53,
     "metadata": {},
     "output_type": "execute_result"
    }
   ],
   "source": [
    "cars_df['major_options'].sample(5)"
   ]
  },
  {
   "cell_type": "markdown",
   "id": "74b5b0d9-add6-4dce-be07-2f376434779d",
   "metadata": {},
   "source": [
    "The `major_options` column contains arrays that list various options available for the vehicles. While this information could be relevant, our approach will be to first examine the array with the longest list of options and identify the categories present. We'll then assess if these categories are consistently repeated across other rows."
   ]
  },
  {
   "cell_type": "code",
   "execution_count": 54,
   "id": "1a6f74ce-08bf-435d-a644-c1f5348c98ec",
   "metadata": {},
   "outputs": [
    {
     "name": "stdout",
     "output_type": "stream",
     "text": [
      "['Leather Seats', 'Sunroof/Moonroof', 'Navigation System', 'Adaptive Cruise Control', 'Premium Wheels', 'Blind Spot Monitoring', 'Parking Sensors', 'Heated Seats', 'Premium Package', 'Tow Package', 'Cold Weather Package', 'Multi Zone Climate Control', 'Luxury Package', 'Acoustical Package', 'Appearance Package', 'Audio Package', 'Bi Xenon Headlamp Package', 'Comfort Package', 'Convenience Package', 'Convenience Plus Package', 'Customer Preferred Package', 'Elite Package', 'Extra Value Package', 'Heat Package', 'Levant Package', 'Light Package', 'Memory Package', 'Multimedia Package', 'Off Road Package', 'Popular Equipment Package', 'Power Mirror Package', 'Power Package', 'Preferred Accessory Package', 'Preferred Equipment Package', 'Preferred Package', 'Premium Audio Package', 'Premium Sound Package', 'Rear Climate Package', 'Safety Package', 'SE Package', 'Security Package', 'Skid Plate Package', 'SL Package', 'Sound Package', 'Sport Package', 'Storage Package', 'Suspension Package', 'Technology Package', 'Trim Package', 'Upgrade Package', 'Utility Package', 'Value Package', 'Wood Trim Package', 'Bluetooth', 'Backup Camera', 'Remote Start', 'All-Wheel Steering'] 57\n"
     ]
    }
   ],
   "source": [
    "max_length = 0  \n",
    "max_index = -1  \n",
    "\n",
    "for i in range(len(cars_df)):\n",
    "    options = cars_df.loc[i, 'major_options']\n",
    "   \n",
    "    if pd.notna(options):\n",
    "        options_list = str(options).replace(\"[\", \"\").replace(\"]\", \"\").replace(\"'\", \"\").split(', ')\n",
    "        length = len(options_list)\n",
    "        \n",
    "        if length > max_length:\n",
    "            max_length = length\n",
    "            max_index = i\n",
    "            \n",
    "print(cars_df.loc[max_index, 'major_options'],max_length)"
   ]
  },
  {
   "cell_type": "markdown",
   "id": "d2907195-9608-4caa-b830-872a7e3cc5d4",
   "metadata": {},
   "source": [
    "Upon closer examination, we found that the `major_options` column, despite its array-like structure, was stored as a string. While reviewing the data, we discovered that the largest array consists of 59 distinct categories.\n",
    "\n",
    "Creating numerous dummy variables for these categories could lead to a high-dimensional dataset, especially without confirming their consistent presence in other vehicles. Due to this complexity and potential redundancy, we've decided to remove the `major_options` column from our dataset during data preparation."
   ]
  },
  {
   "cell_type": "markdown",
   "id": "d814c6dd-1560-4742-99ac-bfc04d098419",
   "metadata": {},
   "source": [
    "____________________\n",
    "**year**\n",
    "\n",
    "The `year` column represents the manufacturing year of the vehicle. This information can significantly influence the vehicle's price, as newer vehicles tend to have higher values due to advanced features, improved technology, and overall desirability in the market."
   ]
  },
  {
   "cell_type": "code",
   "execution_count": 55,
   "id": "a355ba49-ffa6-4602-af2c-e536628ed105",
   "metadata": {},
   "outputs": [
    {
     "data": {
      "text/plain": [
       "76103    2020\n",
       "17860    2019\n",
       "23714    2020\n",
       "29012    2021\n",
       "15395    2017\n",
       "Name: year, dtype: int64"
      ]
     },
     "execution_count": 55,
     "metadata": {},
     "output_type": "execute_result"
    }
   ],
   "source": [
    "cars_df['year'].sample(5)"
   ]
  },
  {
   "cell_type": "code",
   "execution_count": 56,
   "id": "a2ba7b31-e4f2-4584-b5b2-33990dba06ff",
   "metadata": {},
   "outputs": [
    {
     "name": "stdout",
     "output_type": "stream",
     "text": [
      "The percentage of null values in the 'year' column is: 0.00%\n"
     ]
    }
   ],
   "source": [
    "null_percentage = (cars_df['year'].isnull().sum() / len(cars_df)) * 100\n",
    "print(f\"The percentage of null values in the 'year' column is: {null_percentage:.2f}%\")"
   ]
  },
  {
   "cell_type": "markdown",
   "id": "49ff94ac-75f1-463e-8b6a-33002a350e3a",
   "metadata": {},
   "source": [
    "**Analysis of Relationship between Year and Price of Used Vehicles**"
   ]
  },
  {
   "cell_type": "code",
   "execution_count": 57,
   "id": "5f3b39c4-bace-4514-83f7-4a6be679f3d4",
   "metadata": {},
   "outputs": [
    {
     "data": {
      "image/png": "[encoded data removed]",
      "text/plain": [
       "<Figure size 1000x600 with 1 Axes>"
      ]
     },
     "metadata": {},
     "output_type": "display_data"
    }
   ],
   "source": [
    "sns.set_theme()\n",
    "\n",
    "plt.figure(figsize=(10, 6))\n",
    "scatter_plot = sns.scatterplot(x=\"year\", y=\"price\", data=cars_df, color=\"red\", alpha=0.5)\n",
    "scatter_plot.set_xlabel(\"Year\")\n",
    "scatter_plot.set_ylabel(\"Price\")\n",
    "scatter_plot.set_title(\"Scatter Plot of Year vs Price\")\n",
    "\n",
    "plt.show()"
   ]
  },
  {
   "cell_type": "code",
   "execution_count": 58,
   "id": "749f1192-82dd-4aab-b83a-8da796609bf2",
   "metadata": {},
   "outputs": [
    {
     "name": "stdout",
     "output_type": "stream",
     "text": [
      "Correlation between Year and Price: 0.41\n"
     ]
    }
   ],
   "source": [
    "correlation = cars_df[\"year\"].corr(cars_df[\"price\"])\n",
    "print(f\"Correlation between Year and Price: {correlation:.2f}\")"
   ]
  },
  {
   "cell_type": "markdown",
   "id": "a6513c9a-92d0-4b9c-90e8-de24d7cfad86",
   "metadata": {},
   "source": [
    "The correlation between the `Year` and `Price` variables is 0.36. This positive correlation suggests that there is a moderate tendency for newer vehicles to have higher prices."
   ]
  },
  {
   "cell_type": "markdown",
   "id": "bdc043be-f71e-4aed-8075-ca6b0c52c08f",
   "metadata": {},
   "source": [
    "____________________\n",
    "**mileage**\n",
    "\n",
    "Indicates the cumulative distance covered by the vehicle, shedding light on its historical usage and wear. This attribute significantly influences the vehicle's pricing, with higher mileage typically correlating to lower prices due to increased wear and tear over time."
   ]
  },
  {
   "cell_type": "code",
   "execution_count": 59,
   "id": "fd439b0e-dd96-4219-8e8e-d4c8288c1479",
   "metadata": {},
   "outputs": [
    {
     "data": {
      "text/plain": [
       "39937         2.0\n",
       "53291         3.0\n",
       "98753        16.0\n",
       "66953    155745.0\n",
       "47724     31050.0\n",
       "Name: mileage, dtype: float64"
      ]
     },
     "execution_count": 59,
     "metadata": {},
     "output_type": "execute_result"
    }
   ],
   "source": [
    "cars_df['mileage'].sample(5)"
   ]
  },
  {
   "cell_type": "code",
   "execution_count": 60,
   "id": "b4e50204-e5bf-4b6d-903e-be2d794daa6c",
   "metadata": {},
   "outputs": [
    {
     "name": "stdout",
     "output_type": "stream",
     "text": [
      "The percentage of null values in the 'mileage' column is: 3.56%\n"
     ]
    }
   ],
   "source": [
    "null_percentage_mileage = (cars_df['mileage'].isnull().sum() / len(cars_df)) * 100\n",
    "print(f\"The percentage of null values in the 'mileage' column is: {null_percentage_mileage:.2f}%\")"
   ]
  },
  {
   "cell_type": "markdown",
   "id": "2854c33d-dd4e-4b07-985b-37c3892d9ee1",
   "metadata": {},
   "source": [
    "The `mileage` column has a notable percentage of missing values, accounting for 4.81% of the dataset. To address this, it's important to investigate whether the absence of data indicates new vehicles or whether using the mean value of this column could be a suitable approach."
   ]
  },
  {
   "cell_type": "markdown",
   "id": "0d75fc8f-014f-4f69-b30c-be813a51661e",
   "metadata": {},
   "source": [
    "**Analysis of Relationship between Mileage and Price of Used Vehicles**"
   ]
  },
  {
   "cell_type": "code",
   "execution_count": 61,
   "id": "e95912ca-be1e-4799-b1ec-0e68117308d7",
   "metadata": {},
   "outputs": [
    {
     "data": {
      "image/png": "[encoded data removed]",
      "text/plain": [
       "<Figure size 1000x600 with 1 Axes>"
      ]
     },
     "metadata": {},
     "output_type": "display_data"
    }
   ],
   "source": [
    "sns.set_theme()\n",
    "\n",
    "plt.figure(figsize=(10, 6))\n",
    "scatter_plot = sns.scatterplot(x=\"mileage\", y=\"price\", data=cars_df, color=\"red\", alpha=0.5)\n",
    "scatter_plot.set_xlabel(\"Mileage\")\n",
    "scatter_plot.set_ylabel(\"Price\")\n",
    "scatter_plot.set_title(\"Scatter Plot of Mileage vs Price\")\n",
    "plt.ticklabel_format(style='plain', axis='x')\n",
    "plt.xlim(0, 80000)\n",
    "\n",
    "plt.show()"
   ]
  },
  {
   "cell_type": "code",
   "execution_count": 62,
   "id": "226999e7-78d4-4d4b-bf09-8d092c28120c",
   "metadata": {},
   "outputs": [
    {
     "name": "stdout",
     "output_type": "stream",
     "text": [
      "Correlation between Mileage and Price: -0.48\n"
     ]
    }
   ],
   "source": [
    "correlation_mileage = cars_df[\"mileage\"].corr(cars_df[\"price\"])\n",
    "print(f\"Correlation between Mileage and Price: {correlation_mileage:.2f}\")"
   ]
  },
  {
   "cell_type": "markdown",
   "id": "2f68cec1-6913-416b-b4c7-07d33422db2a",
   "metadata": {},
   "source": [
    "This negative correlation suggests that as the mileage of a vehicle increases, its price tends to decrease."
   ]
  },
  {
   "cell_type": "markdown",
   "id": "d53a00b5-518d-4b1b-a8de-c6468fecd01c",
   "metadata": {},
   "source": [
    "____________________\n",
    "**is_new**\n",
    "\n",
    "The `is_new` column is a categorical variable that indicates whether a vehicle was launched less than 2 years before 2020. This attribute helps to identify relatively new vehicles in the dataset."
   ]
  },
  {
   "cell_type": "code",
   "execution_count": 63,
   "id": "021373a1-6de0-423a-982b-6e172937351b",
   "metadata": {},
   "outputs": [
    {
     "data": {
      "text/plain": [
       "32291    False\n",
       "63307     True\n",
       "39691     True\n",
       "51259     True\n",
       "73204     True\n",
       "Name: is_new, dtype: bool"
      ]
     },
     "execution_count": 63,
     "metadata": {},
     "output_type": "execute_result"
    }
   ],
   "source": [
    "cars_df['is_new'].sample(5)"
   ]
  },
  {
   "cell_type": "markdown",
   "id": "74265ac0-9136-4b33-b555-054fa71ad9a9",
   "metadata": {},
   "source": [
    "____________________\n",
    "**isCab**\n",
    "\n",
    "The `isCab` column is a categorical variable that indicates whether a vehicle was previously used as a taxi or cab. However, for our specific analysis and price prediction, we won't be utilizing this column as it doesn't significantly contribute to the prediction model's relevance or accuracy."
   ]
  },
  {
   "cell_type": "code",
   "execution_count": 64,
   "id": "84020cbf-3b5b-4201-97cc-9bec20ed73e2",
   "metadata": {},
   "outputs": [
    {
     "data": {
      "text/plain": [
       "39607    false\n",
       "42235      NaN\n",
       "9255     false\n",
       "12374    false\n",
       "23998    false\n",
       "Name: iscab, dtype: object"
      ]
     },
     "execution_count": 64,
     "metadata": {},
     "output_type": "execute_result"
    }
   ],
   "source": [
    "cars_df['iscab'].sample(5)"
   ]
  },
  {
   "cell_type": "markdown",
   "id": "a00fd720-8902-4582-8d65-689ee376cce9",
   "metadata": {},
   "source": [
    "____________________\n",
    "**fleet / theft_title / has_accidents / frame_damaged / salvage**\n",
    "\n",
    "The `fleet` column indicates whether the vehicle was previously part of a fleet, while `theft_title` signifies a title indicating theft history. `has_accidents` denotes if any accidents are registered for the vehicle, and `frame_damaged` indicates whether the vehicle has a damaged frame. Lastly, `salvage` provides information about a salvage title."
   ]
  },
  {
   "cell_type": "code",
   "execution_count": 65,
   "id": "6bf32701-200b-48ca-b6f1-8c626355ab94",
   "metadata": {},
   "outputs": [
    {
     "data": {
      "text/html": [
       "<div>\n",
       "<style scoped>\n",
       "    .dataframe tbody tr th:only-of-type {\n",
       "        vertical-align: middle;\n",
       "    }\n",
       "\n",
       "    .dataframe tbody tr th {\n",
       "        vertical-align: top;\n",
       "    }\n",
       "\n",
       "    .dataframe thead th {\n",
       "        text-align: right;\n",
       "    }\n",
       "</style>\n",
       "<table border=\"1\" class=\"dataframe\">\n",
       "  <thead>\n",
       "    <tr style=\"text-align: right;\">\n",
       "      <th></th>\n",
       "      <th>has_accidents</th>\n",
       "      <th>salvage</th>\n",
       "      <th>frame_damaged</th>\n",
       "      <th>theft_title</th>\n",
       "      <th>fleet</th>\n",
       "    </tr>\n",
       "  </thead>\n",
       "  <tbody>\n",
       "    <tr>\n",
       "      <th>89406</th>\n",
       "      <td>false</td>\n",
       "      <td>false</td>\n",
       "      <td>false</td>\n",
       "      <td>false</td>\n",
       "      <td>false</td>\n",
       "    </tr>\n",
       "    <tr>\n",
       "      <th>92799</th>\n",
       "      <td>NaN</td>\n",
       "      <td>NaN</td>\n",
       "      <td>NaN</td>\n",
       "      <td>NaN</td>\n",
       "      <td>NaN</td>\n",
       "    </tr>\n",
       "    <tr>\n",
       "      <th>67090</th>\n",
       "      <td>false</td>\n",
       "      <td>false</td>\n",
       "      <td>false</td>\n",
       "      <td>false</td>\n",
       "      <td>false</td>\n",
       "    </tr>\n",
       "    <tr>\n",
       "      <th>55057</th>\n",
       "      <td>NaN</td>\n",
       "      <td>NaN</td>\n",
       "      <td>NaN</td>\n",
       "      <td>NaN</td>\n",
       "      <td>NaN</td>\n",
       "    </tr>\n",
       "    <tr>\n",
       "      <th>44867</th>\n",
       "      <td>false</td>\n",
       "      <td>false</td>\n",
       "      <td>false</td>\n",
       "      <td>false</td>\n",
       "      <td>false</td>\n",
       "    </tr>\n",
       "  </tbody>\n",
       "</table>\n",
       "</div>"
      ],
      "text/plain": [
       "      has_accidents salvage frame_damaged theft_title  fleet\n",
       "89406         false   false         false       false  false\n",
       "92799           NaN     NaN           NaN         NaN    NaN\n",
       "67090         false   false         false       false  false\n",
       "55057           NaN     NaN           NaN         NaN    NaN\n",
       "44867         false   false         false       false  false"
      ]
     },
     "execution_count": 65,
     "metadata": {},
     "output_type": "execute_result"
    }
   ],
   "source": [
    "cars_df[['has_accidents', 'salvage', 'frame_damaged', 'theft_title', 'fleet']].sample(5)"
   ]
  },
  {
   "cell_type": "code",
   "execution_count": 66,
   "id": "4bff62b4-149c-46d9-b798-c26e1ca37b9e",
   "metadata": {},
   "outputs": [
    {
     "name": "stdout",
     "output_type": "stream",
     "text": [
      "The percentage of null values in the 'has_accidents' column is: 43.08%.\n",
      "The percentage of null values in the 'salvage' column is: 43.08%.\n",
      "The percentage of null values in the 'frame_damaged' column is: 43.08%.\n",
      "The percentage of null values in the 'theft_title' column is: 43.08%.\n",
      "The percentage of null values in the 'fleet' column is: 43.08%.\n"
     ]
    }
   ],
   "source": [
    "columns_to_check = ['has_accidents', 'salvage', 'frame_damaged', 'theft_title', 'fleet']\n",
    "\n",
    "for column in columns_to_check:\n",
    "    percentage = cars_df[column].isna().sum() / cars_df.shape[0] * 100\n",
    "    print(f\"The percentage of null values in the '{column}' column is: {percentage:.2f}%.\")\n"
   ]
  },
  {
   "cell_type": "markdown",
   "id": "16bf9202-5368-460f-a9b9-003be10c05af",
   "metadata": {},
   "source": [
    "These columns contain a significant number of missing values, making up approximately 47.55% of the null values in the dataset. However, we will solely focus on the `frame_damaged` column for our analysis, as it has the potential to impact vehicle prices. The other columns, will not be utilized in our price prediction model due to their limited relevance."
   ]
  },
  {
   "cell_type": "markdown",
   "id": "29156b29-7d7e-4255-afbc-f756ff8c5b8e",
   "metadata": {},
   "source": [
    "____________________\n",
    "**listing_id / listed_date / daysonmarket**\n",
    "\n",
    "\n",
    "These columns, related to website data, are crucial for our analysis. `Listing_id` uniquely identifies each vehicle, `listed_date` tracks listing trends, and `daysonmarket` shows how long listings stay active, impacting pricing."
   ]
  },
  {
   "cell_type": "code",
   "execution_count": 67,
   "id": "42efa26c-6fd5-4f9a-bf21-ec70bde2716b",
   "metadata": {},
   "outputs": [
    {
     "data": {
      "text/html": [
       "<div>\n",
       "<style scoped>\n",
       "    .dataframe tbody tr th:only-of-type {\n",
       "        vertical-align: middle;\n",
       "    }\n",
       "\n",
       "    .dataframe tbody tr th {\n",
       "        vertical-align: top;\n",
       "    }\n",
       "\n",
       "    .dataframe thead th {\n",
       "        text-align: right;\n",
       "    }\n",
       "</style>\n",
       "<table border=\"1\" class=\"dataframe\">\n",
       "  <thead>\n",
       "    <tr style=\"text-align: right;\">\n",
       "      <th></th>\n",
       "      <th>listing_id</th>\n",
       "      <th>listed_date</th>\n",
       "      <th>daysonmarket</th>\n",
       "    </tr>\n",
       "  </thead>\n",
       "  <tbody>\n",
       "    <tr>\n",
       "      <th>50605</th>\n",
       "      <td>279765479</td>\n",
       "      <td>2020-08-20</td>\n",
       "      <td>20</td>\n",
       "    </tr>\n",
       "    <tr>\n",
       "      <th>58216</th>\n",
       "      <td>245725177</td>\n",
       "      <td>2019-07-07</td>\n",
       "      <td>430</td>\n",
       "    </tr>\n",
       "    <tr>\n",
       "      <th>63349</th>\n",
       "      <td>234106083</td>\n",
       "      <td>2019-03-07</td>\n",
       "      <td>552</td>\n",
       "    </tr>\n",
       "    <tr>\n",
       "      <th>73957</th>\n",
       "      <td>277908722</td>\n",
       "      <td>2020-07-30</td>\n",
       "      <td>41</td>\n",
       "    </tr>\n",
       "    <tr>\n",
       "      <th>26331</th>\n",
       "      <td>281632162</td>\n",
       "      <td>2020-09-09</td>\n",
       "      <td>0</td>\n",
       "    </tr>\n",
       "  </tbody>\n",
       "</table>\n",
       "</div>"
      ],
      "text/plain": [
       "       listing_id listed_date  daysonmarket\n",
       "50605   279765479  2020-08-20            20\n",
       "58216   245725177  2019-07-07           430\n",
       "63349   234106083  2019-03-07           552\n",
       "73957   277908722  2020-07-30            41\n",
       "26331   281632162  2020-09-09             0"
      ]
     },
     "execution_count": 67,
     "metadata": {},
     "output_type": "execute_result"
    }
   ],
   "source": [
    "cars_df[['listing_id', 'listed_date', 'daysonmarket']].sample(5)"
   ]
  },
  {
   "cell_type": "code",
   "execution_count": 68,
   "id": "65c80d73-32c5-4c3b-8e34-4b8228aa0cb5",
   "metadata": {},
   "outputs": [
    {
     "name": "stdout",
     "output_type": "stream",
     "text": [
      "Number of unique listing IDs: 100000\n"
     ]
    }
   ],
   "source": [
    "unique_listing_ids = cars_df['listing_id'].nunique()\n",
    "print(f\"Number of unique listing IDs: {unique_listing_ids}\")"
   ]
  },
  {
   "cell_type": "markdown",
   "id": "8243d5ce-5f02-4252-9900-424bf14da360",
   "metadata": {},
   "source": [
    "`Listing_id` which uniquely identifies each vehicle, was initially considered; however, it has been decided not to use it as the `vin` of the vehicle is available and serves the same purpose"
   ]
  },
  {
   "cell_type": "markdown",
   "id": "df0ddecf-3ddf-4fa3-b3b3-c868a0744933",
   "metadata": {},
   "source": [
    "____________________\n",
    "**owner_count**\n",
    "\n",
    "The `owner_count` column represents the number of previous owners a used vehicle has had. This attribute provides insights into the vehicle's ownership history and can be useful for assessing its overall condition and potential value in the used car market.\n"
   ]
  },
  {
   "cell_type": "code",
   "execution_count": 69,
   "id": "a2e3fbd4-c31a-4e9c-9afb-30134e174c2d",
   "metadata": {},
   "outputs": [
    {
     "data": {
      "text/plain": [
       "38603    1.0\n",
       "37243    1.0\n",
       "27011    NaN\n",
       "43771    NaN\n",
       "6627     3.0\n",
       "Name: owner_count, dtype: float64"
      ]
     },
     "execution_count": 69,
     "metadata": {},
     "output_type": "execute_result"
    }
   ],
   "source": [
    "cars_df['owner_count'].sample(5)"
   ]
  },
  {
   "cell_type": "code",
   "execution_count": 70,
   "id": "143bc0a7-558c-4cce-9793-1a969cebf47e",
   "metadata": {},
   "outputs": [
    {
     "name": "stdout",
     "output_type": "stream",
     "text": [
      "The percentage of null values in the 'owner_count' column is: 45.72%\n"
     ]
    }
   ],
   "source": [
    "null_percentage = (cars_df['owner_count'].isnull().sum() / len(cars_df)) * 100\n",
    "print(f\"The percentage of null values in the 'owner_count' column is: {null_percentage:.2f}%\")"
   ]
  },
  {
   "cell_type": "markdown",
   "id": "c5eba2a5-6e87-4217-ba92-f3caddcaa0e4",
   "metadata": {},
   "source": [
    "Due to the high number of null values in the `owner_count` column, it's essential to find a solution to handle these missing values effectively. One potential approach is to replace these nulls with a placeholder value, like '-1,' indicating that the number of previous owners is unknown."
   ]
  },
  {
   "cell_type": "markdown",
   "id": "b1033bc9-a619-4ef6-8eda-b0760eebe763",
   "metadata": {},
   "source": [
    "____________________\n",
    "**wheel_system / wheel_system_display / wheelbase**\n",
    "\n",
    "These columns contain information related to the vehicle's wheel system and wheelbase. "
   ]
  },
  {
   "cell_type": "code",
   "execution_count": 71,
   "id": "a724c8c6-faaf-416d-b5ba-d0ac824bc721",
   "metadata": {},
   "outputs": [
    {
     "data": {
      "text/html": [
       "<div>\n",
       "<style scoped>\n",
       "    .dataframe tbody tr th:only-of-type {\n",
       "        vertical-align: middle;\n",
       "    }\n",
       "\n",
       "    .dataframe tbody tr th {\n",
       "        vertical-align: top;\n",
       "    }\n",
       "\n",
       "    .dataframe thead th {\n",
       "        text-align: right;\n",
       "    }\n",
       "</style>\n",
       "<table border=\"1\" class=\"dataframe\">\n",
       "  <thead>\n",
       "    <tr style=\"text-align: right;\">\n",
       "      <th></th>\n",
       "      <th>wheel_system</th>\n",
       "      <th>wheel_system_display</th>\n",
       "      <th>wheelbase</th>\n",
       "    </tr>\n",
       "  </thead>\n",
       "  <tbody>\n",
       "    <tr>\n",
       "      <th>62709</th>\n",
       "      <td>AWD</td>\n",
       "      <td>All-Wheel Drive</td>\n",
       "      <td>104.7 in</td>\n",
       "    </tr>\n",
       "    <tr>\n",
       "      <th>5541</th>\n",
       "      <td>AWD</td>\n",
       "      <td>All-Wheel Drive</td>\n",
       "      <td>106.7 in</td>\n",
       "    </tr>\n",
       "    <tr>\n",
       "      <th>98198</th>\n",
       "      <td>AWD</td>\n",
       "      <td>All-Wheel Drive</td>\n",
       "      <td>113.1 in</td>\n",
       "    </tr>\n",
       "    <tr>\n",
       "      <th>74623</th>\n",
       "      <td>AWD</td>\n",
       "      <td>All-Wheel Drive</td>\n",
       "      <td>99.2 in</td>\n",
       "    </tr>\n",
       "    <tr>\n",
       "      <th>55325</th>\n",
       "      <td>FWD</td>\n",
       "      <td>Front-Wheel Drive</td>\n",
       "      <td>107.3 in</td>\n",
       "    </tr>\n",
       "  </tbody>\n",
       "</table>\n",
       "</div>"
      ],
      "text/plain": [
       "      wheel_system wheel_system_display wheelbase\n",
       "62709          AWD      All-Wheel Drive  104.7 in\n",
       "5541           AWD      All-Wheel Drive  106.7 in\n",
       "98198          AWD      All-Wheel Drive  113.1 in\n",
       "74623          AWD      All-Wheel Drive   99.2 in\n",
       "55325          FWD    Front-Wheel Drive  107.3 in"
      ]
     },
     "execution_count": 71,
     "metadata": {},
     "output_type": "execute_result"
    }
   ],
   "source": [
    "cars_df[['wheel_system', 'wheel_system_display', 'wheelbase']].sample(5)"
   ]
  },
  {
   "cell_type": "markdown",
   "id": "796c2bf0-e169-4916-b24a-72aad8f0dd8b",
   "metadata": {},
   "source": [
    "The `wheelbase` column has been excluded from the analysis, and the `wheel_system` column is being dropped due to redundancy in our analysis.\"\n",
    "\n",
    "\n"
   ]
  },
  {
   "cell_type": "code",
   "execution_count": 72,
   "id": "2566a083-f46e-4f54-ba0f-b255471f92f0",
   "metadata": {},
   "outputs": [
    {
     "name": "stdout",
     "output_type": "stream",
     "text": [
      "Unique values in 'wheel_system' column:\n",
      "['Four-Wheel Drive' 'Rear-Wheel Drive' 'Front-Wheel Drive'\n",
      " 'All-Wheel Drive' nan '4X2']\n"
     ]
    }
   ],
   "source": [
    "wheel_system_values = cars_df['wheel_system_display'].unique()\n",
    "print(f\"Unique values in 'wheel_system' column:\\n{wheel_system_values}\")"
   ]
  },
  {
   "cell_type": "code",
   "execution_count": 73,
   "id": "a18f2fcd-4e5e-4ffe-a05d-90960521fdfa",
   "metadata": {},
   "outputs": [
    {
     "data": {
      "image/png": "[encoded data removed]",
      "text/plain": [
       "<Figure size 1000x600 with 1 Axes>"
      ]
     },
     "metadata": {},
     "output_type": "display_data"
    }
   ],
   "source": [
    "wheel_system_percentage = cars_df['wheel_system_display'].value_counts() / cars_df.shape[0] * 100\n",
    "sns.set_theme()\n",
    "plt.figure(figsize=(10, 6))\n",
    "ax = sns.barplot(x=wheel_system_percentage.values, y=wheel_system_percentage.index, orient='h', color='red', alpha=0.5)\n",
    "plt.xlabel('Percentage (%)')\n",
    "plt.ylabel('Wheel System Type')\n",
    "plt.title('Wheel System Distribution (Percentage)')\n",
    "plt.show()"
   ]
  },
  {
   "cell_type": "markdown",
   "id": "c1d1c0a4-310a-4ffe-91c7-f9eadc3b46be",
   "metadata": {},
   "source": [
    "____________________\n",
    "**transmission / transmission_display**\n",
    "\n",
    "\n",
    "The `transmission` and `transmission_display` columns both provide information about the transmission type of vehicles."
   ]
  },
  {
   "cell_type": "code",
   "execution_count": 74,
   "id": "9faa7bca-1b85-4921-9780-efdd18a8c177",
   "metadata": {},
   "outputs": [
    {
     "data": {
      "text/html": [
       "<div>\n",
       "<style scoped>\n",
       "    .dataframe tbody tr th:only-of-type {\n",
       "        vertical-align: middle;\n",
       "    }\n",
       "\n",
       "    .dataframe tbody tr th {\n",
       "        vertical-align: top;\n",
       "    }\n",
       "\n",
       "    .dataframe thead th {\n",
       "        text-align: right;\n",
       "    }\n",
       "</style>\n",
       "<table border=\"1\" class=\"dataframe\">\n",
       "  <thead>\n",
       "    <tr style=\"text-align: right;\">\n",
       "      <th></th>\n",
       "      <th>transmission_display</th>\n",
       "      <th>transmission</th>\n",
       "    </tr>\n",
       "  </thead>\n",
       "  <tbody>\n",
       "    <tr>\n",
       "      <th>3836</th>\n",
       "      <td>Automatic</td>\n",
       "      <td>A</td>\n",
       "    </tr>\n",
       "    <tr>\n",
       "      <th>96424</th>\n",
       "      <td>Automatic</td>\n",
       "      <td>A</td>\n",
       "    </tr>\n",
       "    <tr>\n",
       "      <th>7146</th>\n",
       "      <td>Automatic</td>\n",
       "      <td>A</td>\n",
       "    </tr>\n",
       "    <tr>\n",
       "      <th>33238</th>\n",
       "      <td>Continuously Variable Transmission</td>\n",
       "      <td>CVT</td>\n",
       "    </tr>\n",
       "    <tr>\n",
       "      <th>2011</th>\n",
       "      <td>6-Speed Automatic</td>\n",
       "      <td>A</td>\n",
       "    </tr>\n",
       "  </tbody>\n",
       "</table>\n",
       "</div>"
      ],
      "text/plain": [
       "                     transmission_display transmission\n",
       "3836                            Automatic            A\n",
       "96424                           Automatic            A\n",
       "7146                            Automatic            A\n",
       "33238  Continuously Variable Transmission          CVT\n",
       "2011                    6-Speed Automatic            A"
      ]
     },
     "execution_count": 74,
     "metadata": {},
     "output_type": "execute_result"
    }
   ],
   "source": [
    "cars_df[['transmission_display', 'transmission']].sample(5)"
   ]
  },
  {
   "cell_type": "code",
   "execution_count": 75,
   "id": "e08970aa-82d1-43a4-a72e-b7965c54ffd1",
   "metadata": {},
   "outputs": [
    {
     "name": "stdout",
     "output_type": "stream",
     "text": [
      "Unique values in 'transmission_display' column:\n",
      "['8-Speed Automatic' '5-Speed Automatic' '6-Speed Automatic'\n",
      " '7-Speed Automatic' 'Automatic' '6-Speed Dual Clutch'\n",
      " '6-Speed Automatic Overdrive' '4-Speed Automatic'\n",
      " 'Continuously Variable Transmission' '6-Speed Manual' '9-Speed Automatic'\n",
      " '5-Speed Manual' '1-Speed Automatic' nan '9-Speed Automatic Overdrive'\n",
      " 'Manual' '2-Speed Automatic' '7-Speed Dual Clutch'\n",
      " '6-Speed Manual Overdrive' '5-Speed Automatic Overdrive' '7-Speed CVT'\n",
      " '4-Speed Automatic Overdrive' '8-Speed Automatic Overdrive' '6-Speed CVT'\n",
      " '8-Speed Manual' '7-Speed Automatic Overdrive' '8-Speed Dual Clutch'\n",
      " '8-Speed CVT' '5-Speed Manual Overdrive' '3-Speed Manual'\n",
      " '3-Speed Automatic' '4-Speed Manual' '7-Speed Manual'\n",
      " '10-Speed Automatic' '1-Speed Dual Clutch' '1-Speed CVT']\n"
     ]
    }
   ],
   "source": [
    "transmission_display_values = cars_df['transmission_display'].unique()\n",
    "print(f\"Unique values in 'transmission_display' column:\\n{transmission_display_values}\")"
   ]
  },
  {
   "cell_type": "code",
   "execution_count": 76,
   "id": "354d689b-483c-4b88-94e9-ec5758359728",
   "metadata": {},
   "outputs": [
    {
     "name": "stdout",
     "output_type": "stream",
     "text": [
      "Unique values in 'transmission' column:\n",
      "['A' 'Dual Clutch' 'CVT' 'M' nan]\n"
     ]
    }
   ],
   "source": [
    "transmission_values = cars_df['transmission'].unique()\n",
    "print(f\"Unique values in 'transmission' column:\\n{transmission_values}\")"
   ]
  },
  {
   "cell_type": "markdown",
   "id": "f6f01cbe-eb75-4c62-9a35-e18442d007f7",
   "metadata": {},
   "source": [
    "We'll primarily use the `transmission` column for a simplified representation of transmission types, better suited for our analysis. The `transmission_display` column contains more detailed information, but we'll focus on the broader categories in `transmission` and drop `transmission_display`."
   ]
  },
  {
   "cell_type": "code",
   "execution_count": 77,
   "id": "8eedf4fb-25ce-432e-bf07-6e489c213ea9",
   "metadata": {},
   "outputs": [
    {
     "data": {
      "image/png": "[encoded data removed]",
      "text/plain": [
       "<Figure size 1000x600 with 1 Axes>"
      ]
     },
     "metadata": {},
     "output_type": "display_data"
    }
   ],
   "source": [
    "transmission_counts = cars_df['transmission'].value_counts() / cars_df.shape[0] * 100\n",
    "sns.set_theme()\n",
    "plt.figure(figsize=(10, 6))\n",
    "ax = sns.barplot(x=transmission_counts.values, y=transmission_counts.index, orient='h', color='red', alpha=0.5)\n",
    "plt.xlabel('Percentage (%)')\n",
    "plt.ylabel('Transmission Type')\n",
    "plt.title('Transmission Type Distribution (Percentage)')\n",
    "plt.show()"
   ]
  },
  {
   "cell_type": "code",
   "execution_count": 78,
   "id": "dc3e124a-a391-4378-a5ab-e80a78b9a40f",
   "metadata": {},
   "outputs": [
    {
     "name": "stdout",
     "output_type": "stream",
     "text": [
      "The percentage of null values in the 'transmission' column is: 1.00%\n"
     ]
    }
   ],
   "source": [
    "null_percentage = cars_df['transmission'].isnull().sum() / len(cars_df)* 100\n",
    "print(f\"The percentage of null values in the 'transmission' column is: {null_percentage:.2f}%\")"
   ]
  },
  {
   "cell_type": "markdown",
   "id": "ec84b72d-534e-4065-9a61-eb8af0e73b46",
   "metadata": {},
   "source": [
    "Certainly, given that there are only a few null values in the `transmission` column, we can reasonably replace these missing values with the most common transmission type."
   ]
  },
  {
   "cell_type": "markdown",
   "id": "4fa0d975-9454-4780-8f27-d16f0c19ce90",
   "metadata": {},
   "source": [
    "____________________\n",
    "**trimId / trim_name**\n",
    "\n",
    "\n",
    "The `trimId` and `trim_name` columns serve as unique identifiers and labels for different vehicle trims or configurations. "
   ]
  },
  {
   "cell_type": "code",
   "execution_count": 79,
   "id": "f3e23cea-1950-43ce-b2b8-89ee78a74cc5",
   "metadata": {},
   "outputs": [
    {
     "data": {
      "text/html": [
       "<div>\n",
       "<style scoped>\n",
       "    .dataframe tbody tr th:only-of-type {\n",
       "        vertical-align: middle;\n",
       "    }\n",
       "\n",
       "    .dataframe tbody tr th {\n",
       "        vertical-align: top;\n",
       "    }\n",
       "\n",
       "    .dataframe thead th {\n",
       "        text-align: right;\n",
       "    }\n",
       "</style>\n",
       "<table border=\"1\" class=\"dataframe\">\n",
       "  <thead>\n",
       "    <tr style=\"text-align: right;\">\n",
       "      <th></th>\n",
       "      <th>trimid</th>\n",
       "      <th>trim_name</th>\n",
       "    </tr>\n",
       "  </thead>\n",
       "  <tbody>\n",
       "    <tr>\n",
       "      <th>92996</th>\n",
       "      <td>t67808</td>\n",
       "      <td>LT Double Cab 4WD</td>\n",
       "    </tr>\n",
       "    <tr>\n",
       "      <th>5215</th>\n",
       "      <td>NaN</td>\n",
       "      <td>NaN</td>\n",
       "    </tr>\n",
       "    <tr>\n",
       "      <th>64216</th>\n",
       "      <td>t83745</td>\n",
       "      <td>EX FWD</td>\n",
       "    </tr>\n",
       "    <tr>\n",
       "      <th>37644</th>\n",
       "      <td>t41719</td>\n",
       "      <td>1.6 S</td>\n",
       "    </tr>\n",
       "    <tr>\n",
       "      <th>92311</th>\n",
       "      <td>t85859</td>\n",
       "      <td>Limited FWD</td>\n",
       "    </tr>\n",
       "  </tbody>\n",
       "</table>\n",
       "</div>"
      ],
      "text/plain": [
       "       trimid          trim_name\n",
       "92996  t67808  LT Double Cab 4WD\n",
       "5215      NaN                NaN\n",
       "64216  t83745             EX FWD\n",
       "37644  t41719              1.6 S\n",
       "92311  t85859        Limited FWD"
      ]
     },
     "execution_count": 79,
     "metadata": {},
     "output_type": "execute_result"
    }
   ],
   "source": [
    "cars_df[['trimid', 'trim_name']].sample(5)"
   ]
  },
  {
   "cell_type": "markdown",
   "id": "51979829-6109-4624-970c-5249d093b798",
   "metadata": {},
   "source": [
    "While these columns may be useful for specific identification purposes, they do not significantly contribute to our analysis or price prediction model. "
   ]
  },
  {
   "cell_type": "markdown",
   "id": "5eed4b98-a8c9-4df3-ba69-32f842103412",
   "metadata": {},
   "source": [
    "____________________\n",
    "**sp_id / sp_name**\n",
    "\n",
    "\n",
    "The `sp_id` column stores service principal IDs, which are unique identifiers used for specific commands related to service providers. On the other hand, the `sp_name` column contains the names of the dealerships selling the vehicles."
   ]
  },
  {
   "cell_type": "code",
   "execution_count": 80,
   "id": "9717c050-01a9-4e95-82fd-0580024e113c",
   "metadata": {},
   "outputs": [
    {
     "data": {
      "text/html": [
       "<div>\n",
       "<style scoped>\n",
       "    .dataframe tbody tr th:only-of-type {\n",
       "        vertical-align: middle;\n",
       "    }\n",
       "\n",
       "    .dataframe tbody tr th {\n",
       "        vertical-align: top;\n",
       "    }\n",
       "\n",
       "    .dataframe thead th {\n",
       "        text-align: right;\n",
       "    }\n",
       "</style>\n",
       "<table border=\"1\" class=\"dataframe\">\n",
       "  <thead>\n",
       "    <tr style=\"text-align: right;\">\n",
       "      <th></th>\n",
       "      <th>sp_id</th>\n",
       "      <th>sp_name</th>\n",
       "    </tr>\n",
       "  </thead>\n",
       "  <tbody>\n",
       "    <tr>\n",
       "      <th>74778</th>\n",
       "      <td>402954</td>\n",
       "      <td>AutoMax Preowned Attleboro</td>\n",
       "    </tr>\n",
       "    <tr>\n",
       "      <th>34291</th>\n",
       "      <td>398629</td>\n",
       "      <td>Bell Ford</td>\n",
       "    </tr>\n",
       "    <tr>\n",
       "      <th>46859</th>\n",
       "      <td>274070</td>\n",
       "      <td>George Wall Ford</td>\n",
       "    </tr>\n",
       "    <tr>\n",
       "      <th>45065</th>\n",
       "      <td>392079</td>\n",
       "      <td>Fox Toyota Volkswagen of Rochester Hills</td>\n",
       "    </tr>\n",
       "    <tr>\n",
       "      <th>95047</th>\n",
       "      <td>273753</td>\n",
       "      <td>Newport Chrysler Dodge Jeep Ram</td>\n",
       "    </tr>\n",
       "  </tbody>\n",
       "</table>\n",
       "</div>"
      ],
      "text/plain": [
       "        sp_id                                   sp_name\n",
       "74778  402954                AutoMax Preowned Attleboro\n",
       "34291  398629                                 Bell Ford\n",
       "46859  274070                          George Wall Ford\n",
       "45065  392079  Fox Toyota Volkswagen of Rochester Hills\n",
       "95047  273753           Newport Chrysler Dodge Jeep Ram"
      ]
     },
     "execution_count": 80,
     "metadata": {},
     "output_type": "execute_result"
    }
   ],
   "source": [
    "cars_df[['sp_id', 'sp_name']].sample(5)"
   ]
  },
  {
   "cell_type": "markdown",
   "id": "bc1c3161-7bee-4312-a843-d471bd595221",
   "metadata": {},
   "source": [
    "We will investigate the meaningful connection between `sp_name` and `sp_id` by counting unique `sp_name` values for each `sp_id`. \n"
   ]
  },
  {
   "cell_type": "code",
   "execution_count": 81,
   "id": "30fd10af-0984-46d4-beb3-8024abc5dc76",
   "metadata": {},
   "outputs": [
    {
     "name": "stdout",
     "output_type": "stream",
     "text": [
      "Unique values in 'sp_name': 858\n",
      "Unique values in 'sp_id': 859\n"
     ]
    }
   ],
   "source": [
    "unique = cars_df['sp_name'].nunique()\n",
    "print(f\"Unique values in 'sp_name': {unique}\")\n",
    "unique = cars_df['sp_id'].nunique()\n",
    "print(f\"Unique values in 'sp_id': {unique}\")"
   ]
  },
  {
   "cell_type": "markdown",
   "id": "0a1cd1bb-9302-4785-9a25-591980d668e8",
   "metadata": {},
   "source": [
    "However, for our data warehouse, we will retain only the `sp_name` variable, as we can create unique identifiers if necessary for each name."
   ]
  },
  {
   "cell_type": "markdown",
   "id": "b628db56-67d9-429c-b62c-223841c1ec75",
   "metadata": {},
   "source": [
    "___________________\n",
    "**seller_rating**\n",
    "\n",
    "\n",
    "The `seller_rating` column represents the rating of the dealership selling the vehicle, typically measured on a scale of 1 to 5 stars. This rating provides an indicator of the dealership's reputation and can be valuable for assessing the trustworthiness and quality of the seller."
   ]
  },
  {
   "cell_type": "code",
   "execution_count": 82,
   "id": "f8212225-85fd-4701-aac5-78ef5770a3b8",
   "metadata": {},
   "outputs": [
    {
     "data": {
      "text/plain": [
       "11835    3.888889\n",
       "41223    4.692308\n",
       "49423    4.200000\n",
       "6461     3.312500\n",
       "19443    4.500000\n",
       "Name: seller_rating, dtype: float64"
      ]
     },
     "execution_count": 82,
     "metadata": {},
     "output_type": "execute_result"
    }
   ],
   "source": [
    "cars_df['seller_rating'].sample(5)"
   ]
  },
  {
   "cell_type": "code",
   "execution_count": 83,
   "id": "446c7bb7-3173-453c-a659-a9e23425e23f",
   "metadata": {},
   "outputs": [
    {
     "name": "stdout",
     "output_type": "stream",
     "text": [
      "The number of unique values in the 'seller_rating' column is: 406\n"
     ]
    }
   ],
   "source": [
    "unique_seller_ratings = cars_df['seller_rating'].nunique()\n",
    "print(f\"The number of unique values in the 'seller_rating' column is: {unique_seller_ratings}\")"
   ]
  },
  {
   "cell_type": "markdown",
   "id": "d820fc26-2bed-408c-bb19-469538842853",
   "metadata": {},
   "source": [
    "Considering the `seller_rating` column's extensive range of 1817 unique values, we recognize the need to categorize these ratings into broader groups, simplifying the analysis. One potential approach is to use the integer part of the ratings; for example, '2.2' would become '2'."
   ]
  },
  {
   "cell_type": "code",
   "execution_count": 84,
   "id": "ae20612c-d1e9-445e-bb40-099bc6bb938f",
   "metadata": {},
   "outputs": [
    {
     "name": "stdout",
     "output_type": "stream",
     "text": [
      "The percentage of null values in the 'seller_rating' column is: 0.64%\n"
     ]
    }
   ],
   "source": [
    "null_percentage = cars_df['seller_rating'].isnull().sum() / len(cars_df) * 100\n",
    "print(f\"The percentage of null values in the 'seller_rating' column is: {null_percentage:.2f}%\")"
   ]
  },
  {
   "cell_type": "markdown",
   "id": "38380b8a-b002-4601-b7fa-7a1d927026dc",
   "metadata": {},
   "source": [
    "As for the limited number of null values, around 1.36%, we have the option to either safely eliminate them due to their small quantity or assign them the lowest possible rating, which could be 0."
   ]
  },
  {
   "cell_type": "markdown",
   "id": "f96a1fa4-0c31-413b-9d77-6eea9174610f",
   "metadata": {},
   "source": [
    "___________________\n",
    "**savings_amount**\n",
    "\n",
    "\n",
    "The `savings_amount` column represents the amount of money saved compared to the original price of the vehicle. "
   ]
  },
  {
   "cell_type": "code",
   "execution_count": 85,
   "id": "b1b95a0a-f817-4ce3-ab5f-f67416bc68e4",
   "metadata": {},
   "outputs": [
    {
     "data": {
      "text/plain": [
       "86777       0\n",
       "89890       0\n",
       "27205       0\n",
       "75043       0\n",
       "60105    3407\n",
       "Name: savings_amount, dtype: int64"
      ]
     },
     "execution_count": 85,
     "metadata": {},
     "output_type": "execute_result"
    }
   ],
   "source": [
    "cars_df['savings_amount'].sample(5)"
   ]
  },
  {
   "cell_type": "code",
   "execution_count": 86,
   "id": "c4227ed0-a2af-460c-88f6-32ef077918b5",
   "metadata": {},
   "outputs": [
    {
     "name": "stdout",
     "output_type": "stream",
     "text": [
      "The percentage of null values in the 'savings_amount' column is: 0.00%\n"
     ]
    }
   ],
   "source": [
    "null_percentage = (cars_df['savings_amount'].isnull().sum() / len(cars_df)) * 100\n",
    "print(f\"The percentage of null values in the 'savings_amount' column is: {null_percentage:.2f}%\")"
   ]
  },
  {
   "cell_type": "markdown",
   "id": "0257ff54-6c22-4615-a207-e18e282c9472",
   "metadata": {},
   "source": [
    "The primary reason is that this variable might not be directly related to predicting the vehicle's price and could introduce noise or complexity into the model. Instead, the focus will be on other variables more directly linked to the price prediction task"
   ]
  },
  {
   "cell_type": "markdown",
   "id": "ed4aba98-3378-4656-a6bc-badea7717095",
   "metadata": {},
   "source": [
    "### Columns to Drop due to High Null Values:\n",
    "- `bed`\n",
    "- `bed_height`\n",
    "- `bed_length`\n",
    "- `cabin`\n",
    "- `combine_fuel_economy`\n",
    "- `is_certified`\n",
    "- `is_cpo`\n",
    "- `is_oemcpo`\n",
    "- `vehicle_damage_category`\n",
    "\n",
    "### Columns to Drop due to Redundancy:\n",
    "- `engine_cylinder`\n",
    "- `exterior_color`\n",
    "- `franchise_make`\n",
    "- `transmission_display`\n",
    "- `wheel_system`\n",
    "\n",
    "### Columns with Other Explanatory Variables:\n",
    "- `back_legroom`\n",
    "- `city_fuel_economy`\n",
    "- `engine_displacement`\n",
    "- `front_legroom`\n",
    "- `fuel_tank_volume`\n",
    "- `height`\n",
    "- `highway_fuel_economy`\n",
    "- `latitude`\n",
    "- `length`\n",
    "- `longitude`\n",
    "- `power`\n",
    "- `torque`\n",
    "- `wheelbase`\n",
    "- `width`\n",
    "\n",
    "### Non-Relevant Columns:\n",
    "- `description`\n",
    "- `fleet`\n",
    "- `franchise_dealer`\n",
    "- `has_accidents`\n",
    "- `interior_color`\n",
    "- `isCab`\n",
    "- `listing_id`\n",
    "- `major_options`\n",
    "- `main_picture_url`\n",
    "- `salvage`\n",
    "- `savings_amount`\n",
    "- `sp_id`\n",
    "- `theft_title`\n",
    "- `trimId`\n",
    "- `trim_name`\n"
   ]
  },
  {
   "cell_type": "code",
   "execution_count": 87,
   "id": "0e679aae-09e5-4afa-8829-e69a3cdeb885",
   "metadata": {},
   "outputs": [],
   "source": [
    "columns_to_drop = [\n",
    "    'bed', 'bed_height', 'bed_length', 'cabin', 'combine_fuel_economy',\n",
    "    'is_certified', 'is_cpo', 'is_oemcpo', 'vehicle_damage_category',\n",
    "    'engine_cylinders', 'exterior_color', 'franchise_make', 'wheel_system',\n",
    "    'transmission_display', 'latitude', 'longitude', 'back_legroom',\n",
    "    'front_legroom', 'power', 'has_accidents', 'salvage', 'theft_title',\n",
    "    'fleet', 'engine_displacement', 'description', 'interior_color',\n",
    "    'franchise_dealer', 'main_picture_url', 'major_options', 'iscab',\n",
    "    'trimid', 'trim_name', 'city_fuel_economy', 'highway_fuel_economy',\n",
    "    'length', 'height', 'width', 'torque', 'wheelbase', 'fuel_tank_volume',\n",
    "    'savings_amount', 'sp_id', 'listing_id'\n",
    "]\n",
    "\n",
    "cars_df.drop(columns=columns_to_drop, inplace=True)"
   ]
  },
  {
   "cell_type": "code",
   "execution_count": 88,
   "id": "6a3f7b5e-1c51-4333-914f-366a3b433073",
   "metadata": {},
   "outputs": [],
   "source": [
    "cars_df.drop_duplicates(inplace=True)"
   ]
  },
  {
   "cell_type": "code",
   "execution_count": 89,
   "id": "e4ee2e7d-fc75-4d7b-985a-c5985db7aa3a",
   "metadata": {},
   "outputs": [
    {
     "data": {
      "text/plain": [
       "(100000, 23)"
      ]
     },
     "execution_count": 89,
     "metadata": {},
     "output_type": "execute_result"
    }
   ],
   "source": [
    "cars_df.shape"
   ]
  },
  {
   "cell_type": "markdown",
   "id": "8265aa46-f748-41d7-8561-b232828361b9",
   "metadata": {},
   "source": [
    "A total of 43 columns and 40 rows have been successfully removed from the dataset, resulting in a reduced dataset containing 23 columns. These retained columns include: `vin`, `body_type`, `city`, `daysonmarket`, `dealer_zip`, `engine_type`, `frame_damaged`, `fuel_type`, `horsepower`, `is_new`, `listed_date`, `listing_color`, `make_name`, `maximum_seating`, `mileage`, `model_name`, `owner_count`, `price`, `seller_rating`, `sp_name`, `transmission`, `wheel_system_display`, and `year`.\n"
   ]
  },
  {
   "cell_type": "markdown",
   "id": "19bca3d4-9702-44e2-8809-0aeb3e60e07d",
   "metadata": {},
   "source": [
    "## Data Transformation"
   ]
  },
  {
   "cell_type": "markdown",
   "id": "8687f356-6ff8-4eff-b042-be366e115ab1",
   "metadata": {},
   "source": [
    "**Handling Outliers**"
   ]
  },
  {
   "cell_type": "markdown",
   "id": "a055ab02-cd58-446f-b8d4-e84f30184ae0",
   "metadata": {},
   "source": [
    "____________________\n",
    "**price**"
   ]
  },
  {
   "cell_type": "code",
   "execution_count": 90,
   "id": "9b512608-16f1-42a9-80a3-a322cbd2fa6d",
   "metadata": {},
   "outputs": [
    {
     "data": {
      "text/plain": [
       "<Axes: >"
      ]
     },
     "execution_count": 90,
     "metadata": {},
     "output_type": "execute_result"
    },
    {
     "data": {
      "image/png": "[encoded data removed]",
      "text/plain": [
       "<Figure size 640x480 with 1 Axes>"
      ]
     },
     "metadata": {},
     "output_type": "display_data"
    }
   ],
   "source": [
    "cars_df.boxplot(column='price')"
   ]
  },
  {
   "cell_type": "markdown",
   "id": "3c4c2688-2441-4a25-a593-666e289b8a5c",
   "metadata": {},
   "source": [
    "In the boxplot, it is evident that there are numerous outliers, highlighting the need for their identification and subsequent removal to maintain data quality and integrity."
   ]
  },
  {
   "cell_type": "code",
   "execution_count": 91,
   "id": "308cf25e-9eb4-4324-8bf9-1f40dec9e9e6",
   "metadata": {},
   "outputs": [],
   "source": [
    "cars_df_copy = cars_df.copy()"
   ]
  },
  {
   "cell_type": "code",
   "execution_count": 92,
   "id": "1ef1b918-99d4-4474-9cc8-1b8563d0df14",
   "metadata": {},
   "outputs": [
    {
     "name": "stdout",
     "output_type": "stream",
     "text": [
      "Number of outliers: 2859\n"
     ]
    },
    {
     "data": {
      "text/plain": [
       "63214    24495\n",
       "61025     7988\n",
       "31397    21300\n",
       "Name: price, dtype: int32"
      ]
     },
     "execution_count": 92,
     "metadata": {},
     "output_type": "execute_result"
    }
   ],
   "source": [
    "mean_price = cars_df_copy['price'].mean()\n",
    "std_price = cars_df_copy['price'].std()\n",
    "threshold = 2 * std_price\n",
    "outliers = cars_df[(cars_df['price'] < (mean_price - threshold)) | (cars_df['price'] > (mean_price + threshold))]\n",
    "print(f\"Number of outliers: {len(outliers)}\")\n",
    "cars_df_copy = cars_df_copy[(cars_df_copy['price'] >= (mean_price - threshold)) & (cars_df_copy['price'] <= (mean_price + threshold))]\n",
    "cars_df_copy['price'] = cars_df_copy['price'].astype(int)\n",
    "cars_df_copy['price'].sample(3)"
   ]
  },
  {
   "cell_type": "markdown",
   "id": "84b1332b-6ebb-47e9-bbaf-63b223ee4219",
   "metadata": {},
   "source": [
    "After identifying and eliminating 2,859 outliers in the `price` variable using a threshold of 2 times the standard deviation, the format of the `price` column was changed to an integer."
   ]
  },
  {
   "cell_type": "markdown",
   "id": "0c2c052e-266e-4ecb-bdfd-ea3c47651232",
   "metadata": {},
   "source": [
    "____________________\n",
    "**mileage**"
   ]
  },
  {
   "cell_type": "code",
   "execution_count": 93,
   "id": "ddc29ffb-55b5-4809-943e-40f19fb45e51",
   "metadata": {},
   "outputs": [
    {
     "name": "stdout",
     "output_type": "stream",
     "text": [
      "Number of outliers: 5892\n"
     ]
    },
    {
     "data": {
      "text/plain": [
       "56533    115602\n",
       "80233     87832\n",
       "71541        30\n",
       "Name: mileage, dtype: int32"
      ]
     },
     "execution_count": 93,
     "metadata": {},
     "output_type": "execute_result"
    }
   ],
   "source": [
    "mean_mileage = cars_df_copy['mileage'].mean()\n",
    "std_mileage = cars_df_copy['mileage'].std()\n",
    "threshold = 2 * std_mileage\n",
    "outliers = cars_df_copy[(cars_df_copy['mileage'] < (mean_mileage - threshold)) | (cars_df_copy['mileage'] > (mean_mileage + threshold))]\n",
    "print(f\"Number of outliers: {len(outliers)}\")\n",
    "cars_df_copy = cars_df_copy[(cars_df_copy['mileage'] >= (mean_mileage - threshold)) & (cars_df_copy['mileage'] <= (mean_mileage + threshold))]\n",
    "cars_df_copy['mileage'].fillna(mean_mileage, inplace=True)\n",
    "cars_df_copy['mileage'] = cars_df_copy['mileage'].astype(int)\n",
    "cars_df_copy['mileage'].sample(3)"
   ]
  },
  {
   "cell_type": "markdown",
   "id": "4624b0f7-c48c-4ea7-8076-b3bee8efc2be",
   "metadata": {},
   "source": [
    "Similarly, in the `mileage` column, 5892 outliers were identified and removed using the same standard deviation method. Additionally, to handle missing values, NaN values in the `mileage` column were filled with the column's mean, and the `mileage` format was changed to an integer."
   ]
  },
  {
   "cell_type": "markdown",
   "id": "b8799082-3632-496e-84c4-6024b66d7dc2",
   "metadata": {},
   "source": [
    "**Missing Values: Removing Nulls**"
   ]
  },
  {
   "cell_type": "markdown",
   "id": "98288000-5feb-4862-a246-6288575feb01",
   "metadata": {},
   "source": [
    "____________________\n",
    "**body_type**"
   ]
  },
  {
   "cell_type": "code",
   "execution_count": 94,
   "id": "1a8630b0-329c-4c06-babd-d71d8b7f5f94",
   "metadata": {},
   "outputs": [
    {
     "data": {
      "text/plain": [
       "body_type\n",
       "SUV / Crossover    46342\n",
       "Sedan              24340\n",
       "Pickup Truck        7583\n",
       "Hatchback           2316\n",
       "Van                 1769\n",
       "Coupe               1715\n",
       "Minivan             1474\n",
       "Wagon               1205\n",
       "Convertible          695\n",
       "NaN                  318\n",
       "Name: count, dtype: int64"
      ]
     },
     "execution_count": 94,
     "metadata": {},
     "output_type": "execute_result"
    }
   ],
   "source": [
    "cars_df_copy['body_type'].value_counts(dropna=False)"
   ]
  },
  {
   "cell_type": "code",
   "execution_count": 95,
   "id": "18b412d2-4ce0-4dbc-b1a5-e5bb30832502",
   "metadata": {},
   "outputs": [
    {
     "data": {
      "text/plain": [
       "array(['Pickup Truck', 'Sedan', 'SUV / Crossover', 'Wagon', 'Coupe',\n",
       "       'Van', 'Minivan', 'Convertible', 'Hatchback'], dtype=object)"
      ]
     },
     "execution_count": 95,
     "metadata": {},
     "output_type": "execute_result"
    }
   ],
   "source": [
    "cars_df_copy = cars_df_copy[pd.notna(cars_df_copy['body_type'])]\n",
    "cars_df_copy['body_type'].unique()"
   ]
  },
  {
   "cell_type": "markdown",
   "id": "5f68fe8e-c00f-4a80-8487-38dd827c9a2b",
   "metadata": {},
   "source": [
    "Given the small number of missing values in the `body_type`column, it was decided to simply remove them."
   ]
  },
  {
   "cell_type": "markdown",
   "id": "823e85cb-7b33-461a-adf3-3069c512315a",
   "metadata": {},
   "source": [
    "____________________\n",
    "**fuel_type**"
   ]
  },
  {
   "cell_type": "code",
   "execution_count": 96,
   "id": "1c2956b2-3d29-4db4-bc1d-774c7d61498f",
   "metadata": {},
   "outputs": [
    {
     "data": {
      "text/plain": [
       "array(['Gasoline', 'Hybrid', 'Flex Fuel Vehicle', 'Electric', 'Biodiesel',\n",
       "       'Diesel', 'Compressed Natural Gas'], dtype=object)"
      ]
     },
     "execution_count": 96,
     "metadata": {},
     "output_type": "execute_result"
    }
   ],
   "source": [
    "cars_df_copy = cars_df_copy[pd.notna(cars_df_copy['fuel_type'])]\n",
    "cars_df_copy['fuel_type'].unique()"
   ]
  },
  {
   "cell_type": "markdown",
   "id": "354fe56c-f3f2-4238-8082-58db0204ac06",
   "metadata": {},
   "source": [
    "The decision to remove the null values in the  `fuel_type` column was made because this information was essential for populating the `engine_type` column. Without knowledge of the fuel type, it wouldn't provide significant relevance."
   ]
  },
  {
   "cell_type": "markdown",
   "id": "ab63aca2-f0a5-4e5a-8cee-3341385da44b",
   "metadata": {
    "jp-MarkdownHeadingCollapsed": true
   },
   "source": [
    "**Transformations**"
   ]
  },
  {
   "cell_type": "markdown",
   "id": "a7602a31-51cc-4606-b430-4dc8346fff0c",
   "metadata": {},
   "source": [
    "____________________\n",
    "**engine_type**"
   ]
  },
  {
   "cell_type": "code",
   "execution_count": 97,
   "id": "ff60738a-ada2-4f2b-93f3-7ee764405467",
   "metadata": {},
   "outputs": [],
   "source": [
    "cars_df_copy['engine_type'] = cars_df_copy['engine_type'].str.split(' ').str[0]"
   ]
  },
  {
   "cell_type": "code",
   "execution_count": 98,
   "id": "e41129cf-046f-4b30-b14e-765084666f05",
   "metadata": {},
   "outputs": [
    {
     "data": {
      "text/plain": [
       "engine_type  fuel_type\n",
       "NaN          Electric     384\n",
       "             Diesel        49\n",
       "             Gasoline       5\n",
       "Name: count, dtype: int64"
      ]
     },
     "execution_count": 98,
     "metadata": {},
     "output_type": "execute_result"
    }
   ],
   "source": [
    "nan_engine_type = cars_df_copy[pd.isna(cars_df_copy['engine_type'])]\n",
    "nan_engine_type[['engine_type','fuel_type']].value_counts(dropna=False)"
   ]
  },
  {
   "cell_type": "code",
   "execution_count": 99,
   "id": "16193726-2489-41e1-ac20-2309887d55bd",
   "metadata": {},
   "outputs": [
    {
     "data": {
      "text/plain": [
       "array(['V6', 'I6', 'V8', 'I4', 'H4', 'Electric', 'I3', 'I5', 'R2',\n",
       "       'Diesel', 'W12', 'H6', 'I2', 'V10', 'Gasoline', 'V12'],\n",
       "      dtype=object)"
      ]
     },
     "execution_count": 99,
     "metadata": {},
     "output_type": "execute_result"
    }
   ],
   "source": [
    "cars_df_copy.loc[pd.isna(cars_df_copy['engine_type']) & (cars_df_copy['fuel_type'] == \"Electric\"), 'engine_type'] = \"Electric\"\n",
    "cars_df_copy.loc[pd.isna(cars_df_copy['engine_type']) & (cars_df_copy['fuel_type'] == \"Diesel\"), 'engine_type'] = \"Diesel\"\n",
    "cars_df_copy.loc[pd.isna(cars_df_copy['engine_type']) & (cars_df_copy['fuel_type'] == \"Gasoline\"), 'engine_type'] = \"Gasoline\"\n",
    "cars_df_copy.loc[pd.isna(cars_df_copy['engine_type']) & (cars_df_copy['fuel_type'] == \"Gasoline\"), 'engine_type'] = \"Gasoline\"\n",
    "cars_df_copy['engine_type'].unique()"
   ]
  },
  {
   "cell_type": "markdown",
   "id": "64646864-1d63-458c-9d39-65230a48435f",
   "metadata": {},
   "source": [
    "Given the strong relationship between `engine_type` and `fuel_type` (e.g., 'V8 Diesel'), it was decided to retain only the engine type information and remove the fuel type. Where `engine_type` was missing (NaN), it was assigned the value from `fuel_type`, considering that many of these missing values corresponded to electric, diesel, or gasoline cars."
   ]
  },
  {
   "cell_type": "markdown",
   "id": "ec72fa09-6d5c-4bd9-8725-4276355a3dfe",
   "metadata": {},
   "source": [
    "_______________\n",
    "**transmission**"
   ]
  },
  {
   "cell_type": "code",
   "execution_count": 100,
   "id": "8a1808c3-d7a2-43ea-aee6-76b76e28631c",
   "metadata": {},
   "outputs": [
    {
     "data": {
      "text/plain": [
       "transmission\n",
       "A              70614\n",
       "CVT            12490\n",
       "M               1365\n",
       "Dual Clutch      311\n",
       "Name: count, dtype: int64"
      ]
     },
     "execution_count": 100,
     "metadata": {},
     "output_type": "execute_result"
    }
   ],
   "source": [
    "cars_df_copy['transmission'].value_counts()"
   ]
  },
  {
   "cell_type": "code",
   "execution_count": 101,
   "id": "dcf1a60b-b8f5-4b47-8ccf-d196a65b4311",
   "metadata": {},
   "outputs": [
    {
     "data": {
      "text/plain": [
       "array(['Automatic', 'Dual Clutch', 'Continuously Variable Transmission',\n",
       "       'Manual'], dtype=object)"
      ]
     },
     "execution_count": 101,
     "metadata": {},
     "output_type": "execute_result"
    }
   ],
   "source": [
    "cars_df_copy['transmission'].fillna('A', inplace=True)\n",
    "cars_df_copy['transmission'] = cars_df_copy['transmission'].replace({\n",
    "        'A': 'Automatic', \n",
    "        'CVT': 'Continuously Variable Transmission', \n",
    "        'M': 'Manual'\n",
    "})\n",
    "cars_df_copy['transmission'].unique()"
   ]
  },
  {
   "cell_type": "markdown",
   "id": "85525d3d-7480-4c03-b377-e47b185caae3",
   "metadata": {},
   "source": [
    "In general, the transformations in the  `transmission` column involved addressing missing values by replacing them with the most common category, 'Automatic' (represented as 'A'). Additionally, category labels were updated to provide clearer and more informative descriptions."
   ]
  },
  {
   "cell_type": "markdown",
   "id": "c52e7ef1-eef0-4d7c-8c66-863f0c447fae",
   "metadata": {},
   "source": [
    "_______________\n",
    "**listing_color**"
   ]
  },
  {
   "cell_type": "code",
   "execution_count": 102,
   "id": "19b066e0-3bae-46f2-af55-89303fb84bbb",
   "metadata": {},
   "outputs": [
    {
     "data": {
      "text/plain": [
       "array(['Black', 'Blue', 'Unknown', 'Gray', 'White', 'Silver', 'Green',\n",
       "       'Orange', 'Red', 'Brown', 'Purple', 'Gold', 'Teal', 'Yellow',\n",
       "       'Pink'], dtype=object)"
      ]
     },
     "execution_count": 102,
     "metadata": {},
     "output_type": "execute_result"
    }
   ],
   "source": [
    "cars_df_copy['listing_color'] = cars_df_copy['listing_color'].str.capitalize()\n",
    "cars_df_copy['listing_color'].unique()"
   ]
  },
  {
   "cell_type": "markdown",
   "id": "aa7d9d2d-1d82-4281-b332-9e35af1cc717",
   "metadata": {},
   "source": [
    "The format of the  `listing_color` column was modified to capitalize the first letter of each word, providing a more standardized and visually appealing format."
   ]
  },
  {
   "cell_type": "markdown",
   "id": "44aa06b9-7253-4596-9352-8df47324d36e",
   "metadata": {},
   "source": [
    "_______________\n",
    "**horsepower**"
   ]
  },
  {
   "cell_type": "code",
   "execution_count": 103,
   "id": "61fd1d7b-2ccf-4aa5-8929-af27e1ad3709",
   "metadata": {},
   "outputs": [
    {
     "data": {
      "text/plain": [
       "50130    370\n",
       "49702    187\n",
       "96596    170\n",
       "35970    272\n",
       "63989    252\n",
       "Name: horsepower, dtype: int32"
      ]
     },
     "execution_count": 103,
     "metadata": {},
     "output_type": "execute_result"
    }
   ],
   "source": [
    "cars_df_copy['horsepower'] = cars_df_copy['horsepower'].apply(lambda x: random.uniform(180, 200) if pd.isna(x) else x).astype(int)\n",
    "cars_df_copy['horsepower'].sample(5)"
   ]
  },
  {
   "cell_type": "markdown",
   "id": "87f7996c-1d48-44b8-8901-1b96d7933d2a",
   "metadata": {},
   "source": [
    "To address missing values in the `horsepower`column, a decision was made to randomly assign values between 180 and 200. This range was chosen to reflect the average horsepower of a new car, which typically falls within this range. "
   ]
  },
  {
   "cell_type": "markdown",
   "id": "ac417424-5b06-43f4-a0b6-c89c43acaeb5",
   "metadata": {},
   "source": [
    "_____________________\n",
    "**maximum_seating**"
   ]
  },
  {
   "cell_type": "code",
   "execution_count": 104,
   "id": "5d7873d5-f2bb-47f0-b11d-de6bea1d662a",
   "metadata": {},
   "outputs": [
    {
     "data": {
      "text/plain": [
       "body_type\n",
       "Convertible        4 seats\n",
       "Coupe              4 seats\n",
       "Hatchback          5 seats\n",
       "Minivan            8 seats\n",
       "Pickup Truck       6 seats\n",
       "SUV / Crossover    5 seats\n",
       "Sedan              5 seats\n",
       "Van                2 seats\n",
       "Wagon              5 seats\n",
       "Name: maximum_seating, dtype: object"
      ]
     },
     "execution_count": 104,
     "metadata": {},
     "output_type": "execute_result"
    }
   ],
   "source": [
    "result = cars_df_copy.groupby('body_type')['maximum_seating'].agg(lambda x: x.mode().iloc[0])\n",
    "result"
   ]
  },
  {
   "cell_type": "code",
   "execution_count": 105,
   "id": "919fdeac-c5df-4e60-96a3-fcb52d9f5fae",
   "metadata": {},
   "outputs": [
    {
     "data": {
      "text/plain": [
       "array(['SUV / Crossover', 'Pickup Truck', 'Sedan', 'Coupe', 'Hatchback',\n",
       "       'Van', 'Wagon', 'Minivan', 'Convertible'], dtype=object)"
      ]
     },
     "execution_count": 105,
     "metadata": {},
     "output_type": "execute_result"
    }
   ],
   "source": [
    "cars_df_copy['maximum_seating'].replace([\"--\"], np.nan, inplace=True)\n",
    "filtered_df = cars_df_copy[pd.isna(cars_df_copy['maximum_seating'])]\n",
    "body_types_with_nan = filtered_df['body_type'].unique()\n",
    "body_types_with_nan"
   ]
  },
  {
   "cell_type": "code",
   "execution_count": 106,
   "id": "c2442814-718e-4df8-8785-520b397cd804",
   "metadata": {},
   "outputs": [
    {
     "data": {
      "text/plain": [
       "array([ 5,  4, 15,  2,  7,  8,  6,  3, 12, 10,  9])"
      ]
     },
     "execution_count": 106,
     "metadata": {},
     "output_type": "execute_result"
    }
   ],
   "source": [
    "default_seating_values = {'Convertible': '4', 'Coupe': '4', 'Hatchback': '5', 'Minivan': '8', 'Pickup Truck': '6', 'SUV / Crossover': '5', 'Sedan': '5', 'Van': '2', 'Wagon': '5'}\n",
    "cars_df_copy['maximum_seating'] = cars_df_copy.apply(lambda row: default_seating_values.get(row['body_type'], str(row['maximum_seating']).replace(\" seats\", \"\")) if pd.isna(row['maximum_seating']) else str(row['maximum_seating']).replace(\" seats\", \"\"), axis=1).astype(int)\n",
    "cars_df_copy['maximum_seating'].unique()"
   ]
  },
  {
   "cell_type": "markdown",
   "id": "240e0b50-346e-4387-9f0d-d660bc039169",
   "metadata": {},
   "source": [
    "To address missing values in the `maximum_seating` column, the most common value (mode) for `maximum_seating` was assigned based on the `body_type` group. Additionally, ' seats' was removed from the string, and the values were converted to integers to ensure consistent data format."
   ]
  },
  {
   "cell_type": "markdown",
   "id": "42b11a64-4ab7-4657-b184-387e04877901",
   "metadata": {},
   "source": [
    "___________________\n",
    "**seller_rating**"
   ]
  },
  {
   "cell_type": "code",
   "execution_count": 107,
   "id": "82dcf6a6-6bbc-4799-920f-63e459da0b8b",
   "metadata": {},
   "outputs": [
    {
     "data": {
      "text/plain": [
       "array([4, 5, 1, 3, 0, 2])"
      ]
     },
     "execution_count": 107,
     "metadata": {},
     "output_type": "execute_result"
    }
   ],
   "source": [
    "cars_df_copy['seller_rating'] = cars_df_copy['seller_rating'].apply(np.ceil).fillna(0).astype(int)\n",
    "cars_df_copy['seller_rating'].unique()"
   ]
  },
  {
   "cell_type": "markdown",
   "id": "8f2ca271-1df5-4cf2-85ea-3012069dbc80",
   "metadata": {},
   "source": [
    "To simplify the `seller_rating` column, only the integer part of the rating was retained. Any missing values were assigned a reputation score of 0. The entire `seller_rating` column was subsequently converted to integers."
   ]
  },
  {
   "cell_type": "markdown",
   "id": "a7fecab0-e9d9-49e0-bcb8-16f1d9ec8a93",
   "metadata": {},
   "source": [
    "____________________\n",
    "**owner_count**"
   ]
  },
  {
   "cell_type": "code",
   "execution_count": 108,
   "id": "23b12f6e-ec35-43ec-a86c-640d96eba29c",
   "metadata": {},
   "outputs": [
    {
     "data": {
      "text/plain": [
       "array([ 1,  2, -1,  5,  4,  3,  6,  7,  9,  8, 10, 12, 15])"
      ]
     },
     "execution_count": 108,
     "metadata": {},
     "output_type": "execute_result"
    }
   ],
   "source": [
    "cars_df_copy['owner_count'] = cars_df_copy['owner_count'].fillna(-1).astype(int)\n",
    "cars_df_copy['owner_count'].unique()"
   ]
  },
  {
   "cell_type": "markdown",
   "id": "91765440-0b5e-48ac-a70c-beb8815e4bad",
   "metadata": {},
   "source": [
    "To address missing values in the `owner_count` column, an identifier of -1 was used to indicate cases where the number of owners is unknown. This approach was chosen to retain the data while acknowledging the absence of owner count information."
   ]
  },
  {
   "cell_type": "markdown",
   "id": "e843346e-db3a-4c89-a444-47ee4f7c7275",
   "metadata": {},
   "source": [
    "__________________\n",
    "**frame_damaged**"
   ]
  },
  {
   "cell_type": "code",
   "execution_count": 109,
   "id": "5df30206-06e4-4ebb-b9f6-3568e1ab67b5",
   "metadata": {},
   "outputs": [
    {
     "data": {
      "text/plain": [
       "array([0, 1], dtype=int64)"
      ]
     },
     "execution_count": 109,
     "metadata": {},
     "output_type": "execute_result"
    }
   ],
   "source": [
    "cars_df_copy['frame_damaged'] = cars_df_copy['frame_damaged'].fillna('false').replace({'false': 0, 'true': 1})\n",
    "cars_df_copy['frame_damaged'].unique()"
   ]
  },
  {
   "cell_type": "markdown",
   "id": "70259b1f-015b-42a1-a4b6-a60f937e4e2e",
   "metadata": {},
   "source": [
    "To handle missing values in the `frame_damaged` column, any null values were replaced with 0 indicating that no frame damage was reported. After this transformation, the `frame_damaged` column now only contains either 1 or 0 values."
   ]
  },
  {
   "cell_type": "markdown",
   "id": "cb276b11-5fd6-4df9-8670-68437b47d0ca",
   "metadata": {},
   "source": [
    "__________________\n",
    "**is_new**"
   ]
  },
  {
   "cell_type": "code",
   "execution_count": 110,
   "id": "3c3805a4-1560-4b00-be48-ee8d73998695",
   "metadata": {},
   "outputs": [
    {
     "data": {
      "text/plain": [
       "array([0, 1], dtype=int64)"
      ]
     },
     "execution_count": 110,
     "metadata": {},
     "output_type": "execute_result"
    }
   ],
   "source": [
    "cars_df_copy['is_new'] = cars_df_copy['is_new'].replace({False: 0, True: 1})\n",
    "cars_df_copy['is_new'].unique()"
   ]
  },
  {
   "cell_type": "markdown",
   "id": "53f81c63-0ce3-47ea-8a20-bbd67330f50c",
   "metadata": {},
   "source": [
    "For convenience, the `is_new` column was transformed by replacing True with 1 and False with 0.\n"
   ]
  },
  {
   "cell_type": "markdown",
   "id": "60de3e76-b987-4153-a147-9d7fb1b50cce",
   "metadata": {},
   "source": [
    "_______________\n",
    "**dealer_zip**"
   ]
  },
  {
   "cell_type": "code",
   "execution_count": 111,
   "id": "ad553a1c-6141-4601-88e8-6f6ac2a9aa87",
   "metadata": {},
   "outputs": [],
   "source": [
    "def get_state(zip_code, engine, zip_dict):\n",
    "    if zip_code in zip_dict:\n",
    "        return zip_dict[zip_code]\n",
    "    try:\n",
    "        zipcode = engine.by_zipcode(zip_code)\n",
    "        state = zipcode.state_long\n",
    "        zip_dict[zip_code] = state\n",
    "        return state\n",
    "    except:\n",
    "        return np.nan"
   ]
  },
  {
   "cell_type": "code",
   "execution_count": 112,
   "id": "f13431ce-91e6-41f3-9669-79829d679a47",
   "metadata": {},
   "outputs": [
    {
     "data": {
      "text/plain": [
       "array(['New York', 'New Jersey', 'Connecticut', 'Michigan',\n",
       "       'Massachusetts', 'Ohio', 'Illinois', 'Pennsylvania', 'Kentucky',\n",
       "       'Rhode Island', 'Indiana', 'Texas', 'Nebraska', 'New Hampshire',\n",
       "       'Vermont', 'Maine', 'Puerto Rico'], dtype=object)"
      ]
     },
     "execution_count": 112,
     "metadata": {},
     "output_type": "execute_result"
    }
   ],
   "source": [
    "engine = SearchEngine()\n",
    "zip_dict = {}\n",
    "cars_df_copy['dealer_state'] = cars_df_copy['dealer_zip'].apply(lambda x: get_state(x, engine, zip_dict))\n",
    "cars_df_copy['dealer_state'].unique()"
   ]
  },
  {
   "cell_type": "markdown",
   "id": "60c90d56-91e0-4c04-9e7f-b585eacd6daf",
   "metadata": {},
   "source": [
    "A new column, `dealer_state` was created to hold the state information obtained from the `dealer_zip` column, providing additional location details for the dataset. This transformation was carried out to enhance the dataset with geographic information."
   ]
  },
  {
   "cell_type": "markdown",
   "id": "ed1346a1-aded-4c43-ada4-d44eb7a0fb9a",
   "metadata": {},
   "source": [
    "**Data Transformation Summary**"
   ]
  },
  {
   "cell_type": "code",
   "execution_count": 113,
   "id": "b9c3dd60-6de6-47ed-8464-04b9e1674875",
   "metadata": {},
   "outputs": [
    {
     "name": "stdout",
     "output_type": "stream",
     "text": [
      "<class 'pandas.core.frame.DataFrame'>\n",
      "Index: 85549 entries, 0 to 100001\n",
      "Data columns (total 24 columns):\n",
      " #   Column                Non-Null Count  Dtype         \n",
      "---  ------                --------------  -----         \n",
      " 0   vin                   85549 non-null  object        \n",
      " 1   body_type             85549 non-null  object        \n",
      " 2   city                  85549 non-null  object        \n",
      " 3   daysonmarket          85549 non-null  int64         \n",
      " 4   dealer_zip            85549 non-null  int64         \n",
      " 5   engine_type           85549 non-null  object        \n",
      " 6   frame_damaged         85549 non-null  int64         \n",
      " 7   fuel_type             85549 non-null  object        \n",
      " 8   horsepower            85549 non-null  int32         \n",
      " 9   is_new                85549 non-null  int64         \n",
      " 10  listed_date           85549 non-null  datetime64[ns]\n",
      " 11  listing_color         85549 non-null  object        \n",
      " 12  make_name             85549 non-null  object        \n",
      " 13  maximum_seating       85549 non-null  int32         \n",
      " 14  mileage               85549 non-null  int32         \n",
      " 15  model_name            85549 non-null  object        \n",
      " 16  owner_count           85549 non-null  int32         \n",
      " 17  price                 85549 non-null  int32         \n",
      " 18  seller_rating         85549 non-null  int32         \n",
      " 19  sp_name               85549 non-null  object        \n",
      " 20  transmission          85549 non-null  object        \n",
      " 21  wheel_system_display  83144 non-null  object        \n",
      " 22  year                  85549 non-null  int64         \n",
      " 23  dealer_state          85549 non-null  object        \n",
      "dtypes: datetime64[ns](1), int32(6), int64(5), object(12)\n",
      "memory usage: 14.4+ MB\n"
     ]
    }
   ],
   "source": [
    "cars_df_copy.info()"
   ]
  },
  {
   "cell_type": "markdown",
   "id": "5e08664c-8316-4b34-8e27-352d68c2afe1",
   "metadata": {},
   "source": [
    "After completing all the necessary transformations, the dataset no longer contains any missing or null values. The dataset is now clean and ready for further analysis and is prepared for storage."
   ]
  },
  {
   "cell_type": "markdown",
   "id": "29997a76-bb49-4df0-b4c3-abced9ece3ad",
   "metadata": {},
   "source": [
    "## Data Warehouse Design"
   ]
  },
  {
   "cell_type": "markdown",
   "id": "1c1facfb-7840-4ba6-8c4f-fcf6cdea73d6",
   "metadata": {},
   "source": [
    "**Date Dimension**"
   ]
  },
  {
   "cell_type": "code",
   "execution_count": 114,
   "id": "21e7ba79-f2a8-400f-9bd7-9e1b523257cd",
   "metadata": {},
   "outputs": [],
   "source": [
    "def create_date_dimension(df):\n",
    "    date_df = df[['listed_date']].copy()\n",
    "    date_df['listed_date'] = pd.to_datetime(date_df['listed_date'])\n",
    "    date_df = date_df.drop_duplicates().reset_index(drop=True)\n",
    "    date_df['date_key'] = date_df['listed_date'].dt.strftime('%Y%m%d')\n",
    "    date_df['year'] = date_df['listed_date'].dt.year\n",
    "    date_df['short_month'] = date_df['listed_date'].dt.strftime('%b')\n",
    "    date_df['day_of_week'] = date_df['listed_date'].dt.strftime('%A')\n",
    "    date_df['listed_date'] = date_df['listed_date'].dt.strftime('%Y-%m-%d')\n",
    "    date_df.rename(columns={'listed_date': 'date'}, inplace=True)\n",
    "    date_df = date_df[['date_key', 'date', 'short_month', 'day_of_week','year']]\n",
    "    return date_df"
   ]
  },
  {
   "cell_type": "code",
   "execution_count": 115,
   "id": "e0f2c26a-ad31-45dc-9973-cfa053a0766d",
   "metadata": {},
   "outputs": [
    {
     "data": {
      "text/html": [
       "<div>\n",
       "<style scoped>\n",
       "    .dataframe tbody tr th:only-of-type {\n",
       "        vertical-align: middle;\n",
       "    }\n",
       "\n",
       "    .dataframe tbody tr th {\n",
       "        vertical-align: top;\n",
       "    }\n",
       "\n",
       "    .dataframe thead th {\n",
       "        text-align: right;\n",
       "    }\n",
       "</style>\n",
       "<table border=\"1\" class=\"dataframe\">\n",
       "  <thead>\n",
       "    <tr style=\"text-align: right;\">\n",
       "      <th></th>\n",
       "      <th>date_key</th>\n",
       "      <th>date</th>\n",
       "      <th>short_month</th>\n",
       "      <th>day_of_week</th>\n",
       "      <th>year</th>\n",
       "    </tr>\n",
       "  </thead>\n",
       "  <tbody>\n",
       "    <tr>\n",
       "      <th>0</th>\n",
       "      <td>20200729</td>\n",
       "      <td>2020-07-29</td>\n",
       "      <td>Jul</td>\n",
       "      <td>Wednesday</td>\n",
       "      <td>2020</td>\n",
       "    </tr>\n",
       "    <tr>\n",
       "      <th>1</th>\n",
       "      <td>20200830</td>\n",
       "      <td>2020-08-30</td>\n",
       "      <td>Aug</td>\n",
       "      <td>Sunday</td>\n",
       "      <td>2020</td>\n",
       "    </tr>\n",
       "    <tr>\n",
       "      <th>2</th>\n",
       "      <td>20200829</td>\n",
       "      <td>2020-08-29</td>\n",
       "      <td>Aug</td>\n",
       "      <td>Saturday</td>\n",
       "      <td>2020</td>\n",
       "    </tr>\n",
       "    <tr>\n",
       "      <th>3</th>\n",
       "      <td>20200901</td>\n",
       "      <td>2020-09-01</td>\n",
       "      <td>Sep</td>\n",
       "      <td>Tuesday</td>\n",
       "      <td>2020</td>\n",
       "    </tr>\n",
       "    <tr>\n",
       "      <th>4</th>\n",
       "      <td>20200320</td>\n",
       "      <td>2020-03-20</td>\n",
       "      <td>Mar</td>\n",
       "      <td>Friday</td>\n",
       "      <td>2020</td>\n",
       "    </tr>\n",
       "  </tbody>\n",
       "</table>\n",
       "</div>"
      ],
      "text/plain": [
       "   date_key        date short_month day_of_week  year\n",
       "0  20200729  2020-07-29         Jul   Wednesday  2020\n",
       "1  20200830  2020-08-30         Aug      Sunday  2020\n",
       "2  20200829  2020-08-29         Aug    Saturday  2020\n",
       "3  20200901  2020-09-01         Sep     Tuesday  2020\n",
       "4  20200320  2020-03-20         Mar      Friday  2020"
      ]
     },
     "execution_count": 115,
     "metadata": {},
     "output_type": "execute_result"
    }
   ],
   "source": [
    "date_df = create_date_dimension(cars_df_copy)\n",
    "date_df.head()"
   ]
  },
  {
   "cell_type": "code",
   "execution_count": 116,
   "id": "6b786552-1d87-47ff-b59e-37fc809a236f",
   "metadata": {},
   "outputs": [
    {
     "data": {
      "text/plain": [
       "797"
      ]
     },
     "execution_count": 116,
     "metadata": {},
     "output_type": "execute_result"
    }
   ],
   "source": [
    "cars_df_copy['date_key'] = cars_df_copy['listed_date'].dt.strftime('%Y%m%d')\n",
    "cars_df_copy['date_key'].nunique()"
   ]
  },
  {
   "cell_type": "markdown",
   "id": "99a1f91e-29b3-4d14-bbef-be96ba964aa5",
   "metadata": {},
   "source": [
    "The Date Dimension is designed to capture and organize information related to dates. It plays a critical role in time-based analysis and reporting."
   ]
  },
  {
   "cell_type": "markdown",
   "id": "d661106d-08ee-44be-aab8-47d90b3d637e",
   "metadata": {},
   "source": [
    "**Model Dimension**"
   ]
  },
  {
   "cell_type": "code",
   "execution_count": 117,
   "id": "bfa23237-b5d5-47e2-a8e5-0acf70fb54da",
   "metadata": {},
   "outputs": [],
   "source": [
    "def create_model_dimension(df):\n",
    "    model_df = df[['make_name', 'model_name', 'body_type']].copy()\n",
    "    model_df = model_df.drop_duplicates().reset_index(drop=True)\n",
    "    model_df['full_model_name'] = model_df['make_name'] + ' ' + model_df['model_name']\n",
    "    model_df['model_key'] = model_df.index\n",
    "    model_df = model_df[['model_key', 'make_name', 'model_name', 'full_model_name','body_type']]\n",
    "    return model_df"
   ]
  },
  {
   "cell_type": "code",
   "execution_count": 118,
   "id": "131901c1-cbcf-4861-b86b-6d4cb57b8b9a",
   "metadata": {},
   "outputs": [
    {
     "data": {
      "text/html": [
       "<div>\n",
       "<style scoped>\n",
       "    .dataframe tbody tr th:only-of-type {\n",
       "        vertical-align: middle;\n",
       "    }\n",
       "\n",
       "    .dataframe tbody tr th {\n",
       "        vertical-align: top;\n",
       "    }\n",
       "\n",
       "    .dataframe thead th {\n",
       "        text-align: right;\n",
       "    }\n",
       "</style>\n",
       "<table border=\"1\" class=\"dataframe\">\n",
       "  <thead>\n",
       "    <tr style=\"text-align: right;\">\n",
       "      <th></th>\n",
       "      <th>model_key</th>\n",
       "      <th>make_name</th>\n",
       "      <th>model_name</th>\n",
       "      <th>full_model_name</th>\n",
       "      <th>body_type</th>\n",
       "    </tr>\n",
       "  </thead>\n",
       "  <tbody>\n",
       "    <tr>\n",
       "      <th>0</th>\n",
       "      <td>0</td>\n",
       "      <td>Chevrolet</td>\n",
       "      <td>Colorado</td>\n",
       "      <td>Chevrolet Colorado</td>\n",
       "      <td>Pickup Truck</td>\n",
       "    </tr>\n",
       "    <tr>\n",
       "      <th>1</th>\n",
       "      <td>1</td>\n",
       "      <td>BMW</td>\n",
       "      <td>3 Series</td>\n",
       "      <td>BMW 3 Series</td>\n",
       "      <td>Sedan</td>\n",
       "    </tr>\n",
       "    <tr>\n",
       "      <th>2</th>\n",
       "      <td>2</td>\n",
       "      <td>Mercedes-Benz</td>\n",
       "      <td>S-Class</td>\n",
       "      <td>Mercedes-Benz S-Class</td>\n",
       "      <td>Sedan</td>\n",
       "    </tr>\n",
       "    <tr>\n",
       "      <th>3</th>\n",
       "      <td>3</td>\n",
       "      <td>Chevrolet</td>\n",
       "      <td>Cruze</td>\n",
       "      <td>Chevrolet Cruze</td>\n",
       "      <td>Sedan</td>\n",
       "    </tr>\n",
       "    <tr>\n",
       "      <th>4</th>\n",
       "      <td>4</td>\n",
       "      <td>Kia</td>\n",
       "      <td>Soul</td>\n",
       "      <td>Kia Soul</td>\n",
       "      <td>SUV / Crossover</td>\n",
       "    </tr>\n",
       "  </tbody>\n",
       "</table>\n",
       "</div>"
      ],
      "text/plain": [
       "   model_key      make_name model_name        full_model_name        body_type\n",
       "0          0      Chevrolet   Colorado     Chevrolet Colorado     Pickup Truck\n",
       "1          1            BMW   3 Series           BMW 3 Series            Sedan\n",
       "2          2  Mercedes-Benz    S-Class  Mercedes-Benz S-Class            Sedan\n",
       "3          3      Chevrolet      Cruze        Chevrolet Cruze            Sedan\n",
       "4          4            Kia       Soul               Kia Soul  SUV / Crossover"
      ]
     },
     "execution_count": 118,
     "metadata": {},
     "output_type": "execute_result"
    }
   ],
   "source": [
    "model_df = create_model_dimension(cars_df_copy)\n",
    "model_df.head()"
   ]
  },
  {
   "cell_type": "code",
   "execution_count": 119,
   "id": "d340dde5-580c-4352-8791-424272b53962",
   "metadata": {},
   "outputs": [
    {
     "data": {
      "text/plain": [
       "806"
      ]
     },
     "execution_count": 119,
     "metadata": {},
     "output_type": "execute_result"
    }
   ],
   "source": [
    "cars_df_copy = cars_df_copy.merge(model_df, on=['make_name', 'model_name', 'body_type'], how='left')\n",
    "cars_df_copy['model_key'].nunique()"
   ]
  },
  {
   "cell_type": "markdown",
   "id": "74ef8bb5-4681-4fba-8260-795e69eefd9a",
   "metadata": {},
   "source": [
    "The Model Dimension contains detailed information about vehicle models and their characteristics, which is crucial for analyzing and reporting on vehicle-related data."
   ]
  },
  {
   "cell_type": "markdown",
   "id": "5dbe955f-f3f1-4ef7-bf78-5fc23d94422a",
   "metadata": {},
   "source": [
    "**Location Dimension**"
   ]
  },
  {
   "cell_type": "code",
   "execution_count": 120,
   "id": "ffdcf599-1926-44ad-8176-b7acdf5ecf71",
   "metadata": {},
   "outputs": [],
   "source": [
    "def create_location_dimension(df):\n",
    "    location_df = df[['city', 'dealer_state']].copy()\n",
    "    location_df = location_df.drop_duplicates().reset_index(drop=True)\n",
    "    location_df['location_key'] = location_df.index\n",
    "    location_df['city_state'] = location_df['city'] + ', ' + location_df['dealer_state']\n",
    "    location_df.rename(columns={'dealer_state': 'state'}, inplace=True)\n",
    "    location_df = location_df[['location_key', 'city', 'state', 'city_state']]\n",
    "    return location_df"
   ]
  },
  {
   "cell_type": "code",
   "execution_count": 121,
   "id": "db753044-30d2-417a-8644-68a72f4e296b",
   "metadata": {},
   "outputs": [
    {
     "data": {
      "text/html": [
       "<div>\n",
       "<style scoped>\n",
       "    .dataframe tbody tr th:only-of-type {\n",
       "        vertical-align: middle;\n",
       "    }\n",
       "\n",
       "    .dataframe tbody tr th {\n",
       "        vertical-align: top;\n",
       "    }\n",
       "\n",
       "    .dataframe thead th {\n",
       "        text-align: right;\n",
       "    }\n",
       "</style>\n",
       "<table border=\"1\" class=\"dataframe\">\n",
       "  <thead>\n",
       "    <tr style=\"text-align: right;\">\n",
       "      <th></th>\n",
       "      <th>location_key</th>\n",
       "      <th>city</th>\n",
       "      <th>state</th>\n",
       "      <th>city_state</th>\n",
       "    </tr>\n",
       "  </thead>\n",
       "  <tbody>\n",
       "    <tr>\n",
       "      <th>0</th>\n",
       "      <td>0</td>\n",
       "      <td>Bay Shore</td>\n",
       "      <td>New York</td>\n",
       "      <td>Bay Shore, New York</td>\n",
       "    </tr>\n",
       "    <tr>\n",
       "      <th>1</th>\n",
       "      <td>1</td>\n",
       "      <td>Little Ferry</td>\n",
       "      <td>New Jersey</td>\n",
       "      <td>Little Ferry, New Jersey</td>\n",
       "    </tr>\n",
       "    <tr>\n",
       "      <th>2</th>\n",
       "      <td>2</td>\n",
       "      <td>Bohemia</td>\n",
       "      <td>New York</td>\n",
       "      <td>Bohemia, New York</td>\n",
       "    </tr>\n",
       "    <tr>\n",
       "      <th>3</th>\n",
       "      <td>3</td>\n",
       "      <td>East Hartford</td>\n",
       "      <td>Connecticut</td>\n",
       "      <td>East Hartford, Connecticut</td>\n",
       "    </tr>\n",
       "    <tr>\n",
       "      <th>4</th>\n",
       "      <td>4</td>\n",
       "      <td>Danbury</td>\n",
       "      <td>Connecticut</td>\n",
       "      <td>Danbury, Connecticut</td>\n",
       "    </tr>\n",
       "  </tbody>\n",
       "</table>\n",
       "</div>"
      ],
      "text/plain": [
       "   location_key           city        state                  city_state\n",
       "0             0      Bay Shore     New York         Bay Shore, New York\n",
       "1             1   Little Ferry   New Jersey    Little Ferry, New Jersey\n",
       "2             2        Bohemia     New York           Bohemia, New York\n",
       "3             3  East Hartford  Connecticut  East Hartford, Connecticut\n",
       "4             4        Danbury  Connecticut        Danbury, Connecticut"
      ]
     },
     "execution_count": 121,
     "metadata": {},
     "output_type": "execute_result"
    }
   ],
   "source": [
    "location_df = create_location_dimension(cars_df_copy)\n",
    "location_df .head()"
   ]
  },
  {
   "cell_type": "code",
   "execution_count": 122,
   "id": "a72b7f2e-57e7-4bab-9f52-e70bcc38f48f",
   "metadata": {},
   "outputs": [
    {
     "data": {
      "text/plain": [
       "436"
      ]
     },
     "execution_count": 122,
     "metadata": {},
     "output_type": "execute_result"
    }
   ],
   "source": [
    "cars_df_copy = cars_df_copy.merge(location_df, left_on=['dealer_state','city'],right_on=['state','city'], how='left')\n",
    "cars_df_copy['location_key'].nunique()"
   ]
  },
  {
   "cell_type": "markdown",
   "id": "c71463d0-966e-4ccc-ab7b-43317e486806",
   "metadata": {},
   "source": [
    "The Location Dimension is created to capture and organize data related to geographic locations, providing insights into regional variations within the dataset."
   ]
  },
  {
   "cell_type": "markdown",
   "id": "5fa7bea8-5a20-4714-b363-dc202498b2d9",
   "metadata": {},
   "source": [
    "**Dealer Dimension**"
   ]
  },
  {
   "cell_type": "code",
   "execution_count": 123,
   "id": "830285e2-42fa-4b4e-b165-22aa011f0b14",
   "metadata": {},
   "outputs": [],
   "source": [
    "def create_dealer_dimension(df):\n",
    "    dealer_df = df[['seller_rating', 'sp_name']].copy()\n",
    "    dealer_df = dealer_df.drop_duplicates().reset_index(drop=True)\n",
    "    dealer_df = dealer_df.groupby('sp_name').agg({'seller_rating': 'max'}).reset_index()\n",
    "    dealer_df['dealer_key'] = dealer_df.index\n",
    "    dealer_df = dealer_df.rename(columns={\n",
    "        'dealer_key': 'dealer_key',\n",
    "        'seller_rating': 'reputation_score',\n",
    "        'sp_name': 'dealer_name',\n",
    "    })\n",
    "    dealer_df= dealer_df[['dealer_key','dealer_name','reputation_score']]\n",
    "    return dealer_df"
   ]
  },
  {
   "cell_type": "code",
   "execution_count": 124,
   "id": "a5c573f6-f6ba-4876-a867-45944364e9b1",
   "metadata": {},
   "outputs": [
    {
     "data": {
      "text/html": [
       "<div>\n",
       "<style scoped>\n",
       "    .dataframe tbody tr th:only-of-type {\n",
       "        vertical-align: middle;\n",
       "    }\n",
       "\n",
       "    .dataframe tbody tr th {\n",
       "        vertical-align: top;\n",
       "    }\n",
       "\n",
       "    .dataframe thead th {\n",
       "        text-align: right;\n",
       "    }\n",
       "</style>\n",
       "<table border=\"1\" class=\"dataframe\">\n",
       "  <thead>\n",
       "    <tr style=\"text-align: right;\">\n",
       "      <th></th>\n",
       "      <th>dealer_key</th>\n",
       "      <th>dealer_name</th>\n",
       "      <th>reputation_score</th>\n",
       "    </tr>\n",
       "  </thead>\n",
       "  <tbody>\n",
       "    <tr>\n",
       "      <th>0</th>\n",
       "      <td>0</td>\n",
       "      <td>103 Auto Sales</td>\n",
       "      <td>5</td>\n",
       "    </tr>\n",
       "    <tr>\n",
       "      <th>1</th>\n",
       "      <td>1</td>\n",
       "      <td>112 Auto Plaza</td>\n",
       "      <td>5</td>\n",
       "    </tr>\n",
       "    <tr>\n",
       "      <th>2</th>\n",
       "      <td>2</td>\n",
       "      <td>1st Priority Autos</td>\n",
       "      <td>5</td>\n",
       "    </tr>\n",
       "    <tr>\n",
       "      <th>3</th>\n",
       "      <td>3</td>\n",
       "      <td>21st Century Auto Group</td>\n",
       "      <td>3</td>\n",
       "    </tr>\n",
       "    <tr>\n",
       "      <th>4</th>\n",
       "      <td>4</td>\n",
       "      <td>26 Motors</td>\n",
       "      <td>4</td>\n",
       "    </tr>\n",
       "  </tbody>\n",
       "</table>\n",
       "</div>"
      ],
      "text/plain": [
       "   dealer_key              dealer_name  reputation_score\n",
       "0           0           103 Auto Sales                 5\n",
       "1           1           112 Auto Plaza                 5\n",
       "2           2       1st Priority Autos                 5\n",
       "3           3  21st Century Auto Group                 3\n",
       "4           4                26 Motors                 4"
      ]
     },
     "execution_count": 124,
     "metadata": {},
     "output_type": "execute_result"
    }
   ],
   "source": [
    "dealer_df = create_dealer_dimension(cars_df_copy)\n",
    "dealer_df.head()"
   ]
  },
  {
   "cell_type": "code",
   "execution_count": 125,
   "id": "82494d74-c155-4186-b198-2b3077a3111c",
   "metadata": {},
   "outputs": [
    {
     "data": {
      "text/plain": [
       "845"
      ]
     },
     "execution_count": 125,
     "metadata": {},
     "output_type": "execute_result"
    }
   ],
   "source": [
    "cars_df_copy = cars_df_copy.merge(dealer_df, left_on=['sp_name'],right_on=['dealer_name'], how='left')\n",
    "cars_df_copy['dealer_key'].nunique()"
   ]
  },
  {
   "cell_type": "markdown",
   "id": "24619f1a-7482-4a3a-b686-290aa34e344e",
   "metadata": {},
   "source": [
    "The Dealer Dimension is designed to aggregate essential data pertaining to dealers, emphasizing their reputation scores and names. "
   ]
  },
  {
   "cell_type": "markdown",
   "id": "51c46bdc-306d-4a8c-a3d6-8b642ad7bc35",
   "metadata": {},
   "source": [
    "**Fact Table**"
   ]
  },
  {
   "cell_type": "code",
   "execution_count": 126,
   "id": "512ce983-db82-4a7c-93e4-83a052af1db8",
   "metadata": {},
   "outputs": [],
   "source": [
    "def create_fact_table(df):\n",
    "    fact_table = df.drop(columns=[\n",
    "        'reputation_score',\n",
    "        'dealer_name',\n",
    "        'city_state',\n",
    "        'state',\n",
    "        'full_model_name',\n",
    "        'dealer_state',\n",
    "        'sp_name',\n",
    "        'seller_rating',\n",
    "        'model_name',\n",
    "        'listed_date',\n",
    "        'city',\n",
    "        'dealer_zip',\n",
    "        'body_type',\n",
    "        'make_name'   \n",
    "    ])\n",
    "    \n",
    "    fact_table = fact_table.rename(columns={\n",
    "        'vin': 'vehicle_vin',\n",
    "        'daysonmarket': 'days_on_market',\n",
    "        'engine_type': 'engine',\n",
    "        'frame_damaged': 'has_accidents',  \n",
    "        'listing_color': 'color', \n",
    "        'maximum_seating': 'seating_capacity',\n",
    "        'transmission': 'transmission',\n",
    "        'wheel_system_display': 'drivetrain',\n",
    "        'year': 'vehicle_year',\n",
    "    })\n",
    "\n",
    "    return fact_table"
   ]
  },
  {
   "cell_type": "code",
   "execution_count": 127,
   "id": "ff16e6db-cf89-469d-9d05-0eb7b035a26b",
   "metadata": {},
   "outputs": [
    {
     "data": {
      "text/html": [
       "<div>\n",
       "<style scoped>\n",
       "    .dataframe tbody tr th:only-of-type {\n",
       "        vertical-align: middle;\n",
       "    }\n",
       "\n",
       "    .dataframe tbody tr th {\n",
       "        vertical-align: top;\n",
       "    }\n",
       "\n",
       "    .dataframe thead th {\n",
       "        text-align: right;\n",
       "    }\n",
       "</style>\n",
       "<table border=\"1\" class=\"dataframe\">\n",
       "  <thead>\n",
       "    <tr style=\"text-align: right;\">\n",
       "      <th></th>\n",
       "      <th>vehicle_vin</th>\n",
       "      <th>days_on_market</th>\n",
       "      <th>engine</th>\n",
       "      <th>has_accidents</th>\n",
       "      <th>fuel_type</th>\n",
       "      <th>horsepower</th>\n",
       "      <th>is_new</th>\n",
       "      <th>color</th>\n",
       "      <th>seating_capacity</th>\n",
       "      <th>mileage</th>\n",
       "      <th>owner_count</th>\n",
       "      <th>price</th>\n",
       "      <th>transmission</th>\n",
       "      <th>drivetrain</th>\n",
       "      <th>vehicle_year</th>\n",
       "      <th>date_key</th>\n",
       "      <th>model_key</th>\n",
       "      <th>location_key</th>\n",
       "      <th>dealer_key</th>\n",
       "    </tr>\n",
       "  </thead>\n",
       "  <tbody>\n",
       "    <tr>\n",
       "      <th>0</th>\n",
       "      <td>1GCGTCEN5H1236094</td>\n",
       "      <td>42</td>\n",
       "      <td>V6</td>\n",
       "      <td>0</td>\n",
       "      <td>Gasoline</td>\n",
       "      <td>308</td>\n",
       "      <td>0</td>\n",
       "      <td>Black</td>\n",
       "      <td>5</td>\n",
       "      <td>35222</td>\n",
       "      <td>1</td>\n",
       "      <td>30439</td>\n",
       "      <td>Automatic</td>\n",
       "      <td>Four-Wheel Drive</td>\n",
       "      <td>2017</td>\n",
       "      <td>20200729</td>\n",
       "      <td>0</td>\n",
       "      <td>0</td>\n",
       "      <td>46</td>\n",
       "    </tr>\n",
       "    <tr>\n",
       "      <th>1</th>\n",
       "      <td>WBA3A9C51CF270309</td>\n",
       "      <td>10</td>\n",
       "      <td>I6</td>\n",
       "      <td>0</td>\n",
       "      <td>Gasoline</td>\n",
       "      <td>300</td>\n",
       "      <td>0</td>\n",
       "      <td>Blue</td>\n",
       "      <td>5</td>\n",
       "      <td>97535</td>\n",
       "      <td>2</td>\n",
       "      <td>11999</td>\n",
       "      <td>Automatic</td>\n",
       "      <td>Rear-Wheel Drive</td>\n",
       "      <td>2012</td>\n",
       "      <td>20200830</td>\n",
       "      <td>1</td>\n",
       "      <td>1</td>\n",
       "      <td>495</td>\n",
       "    </tr>\n",
       "    <tr>\n",
       "      <th>2</th>\n",
       "      <td>WDBNG70J1YA076348</td>\n",
       "      <td>11</td>\n",
       "      <td>V8</td>\n",
       "      <td>0</td>\n",
       "      <td>Gasoline</td>\n",
       "      <td>275</td>\n",
       "      <td>0</td>\n",
       "      <td>Black</td>\n",
       "      <td>5</td>\n",
       "      <td>94949</td>\n",
       "      <td>1</td>\n",
       "      <td>4499</td>\n",
       "      <td>Automatic</td>\n",
       "      <td>Rear-Wheel Drive</td>\n",
       "      <td>2000</td>\n",
       "      <td>20200829</td>\n",
       "      <td>2</td>\n",
       "      <td>1</td>\n",
       "      <td>495</td>\n",
       "    </tr>\n",
       "    <tr>\n",
       "      <th>3</th>\n",
       "      <td>1G1BE5SM1H7138472</td>\n",
       "      <td>8</td>\n",
       "      <td>I4</td>\n",
       "      <td>0</td>\n",
       "      <td>Gasoline</td>\n",
       "      <td>153</td>\n",
       "      <td>0</td>\n",
       "      <td>Unknown</td>\n",
       "      <td>5</td>\n",
       "      <td>37979</td>\n",
       "      <td>1</td>\n",
       "      <td>14639</td>\n",
       "      <td>Automatic</td>\n",
       "      <td>Front-Wheel Drive</td>\n",
       "      <td>2017</td>\n",
       "      <td>20200901</td>\n",
       "      <td>3</td>\n",
       "      <td>0</td>\n",
       "      <td>46</td>\n",
       "    </tr>\n",
       "    <tr>\n",
       "      <th>4</th>\n",
       "      <td>KNDJ53AF1L7724866</td>\n",
       "      <td>173</td>\n",
       "      <td>I4</td>\n",
       "      <td>0</td>\n",
       "      <td>Gasoline</td>\n",
       "      <td>201</td>\n",
       "      <td>1</td>\n",
       "      <td>Black</td>\n",
       "      <td>5</td>\n",
       "      <td>12</td>\n",
       "      <td>-1</td>\n",
       "      <td>26075</td>\n",
       "      <td>Automatic</td>\n",
       "      <td>Front-Wheel Drive</td>\n",
       "      <td>2020</td>\n",
       "      <td>20200320</td>\n",
       "      <td>4</td>\n",
       "      <td>2</td>\n",
       "      <td>328</td>\n",
       "    </tr>\n",
       "  </tbody>\n",
       "</table>\n",
       "</div>"
      ],
      "text/plain": [
       "         vehicle_vin  days_on_market engine  has_accidents fuel_type  \\\n",
       "0  1GCGTCEN5H1236094              42     V6              0  Gasoline   \n",
       "1  WBA3A9C51CF270309              10     I6              0  Gasoline   \n",
       "2  WDBNG70J1YA076348              11     V8              0  Gasoline   \n",
       "3  1G1BE5SM1H7138472               8     I4              0  Gasoline   \n",
       "4  KNDJ53AF1L7724866             173     I4              0  Gasoline   \n",
       "\n",
       "   horsepower  is_new    color  seating_capacity  mileage  owner_count  price  \\\n",
       "0         308       0    Black                 5    35222            1  30439   \n",
       "1         300       0     Blue                 5    97535            2  11999   \n",
       "2         275       0    Black                 5    94949            1   4499   \n",
       "3         153       0  Unknown                 5    37979            1  14639   \n",
       "4         201       1    Black                 5       12           -1  26075   \n",
       "\n",
       "  transmission         drivetrain  vehicle_year  date_key  model_key  \\\n",
       "0    Automatic   Four-Wheel Drive          2017  20200729          0   \n",
       "1    Automatic   Rear-Wheel Drive          2012  20200830          1   \n",
       "2    Automatic   Rear-Wheel Drive          2000  20200829          2   \n",
       "3    Automatic  Front-Wheel Drive          2017  20200901          3   \n",
       "4    Automatic  Front-Wheel Drive          2020  20200320          4   \n",
       "\n",
       "   location_key  dealer_key  \n",
       "0             0          46  \n",
       "1             1         495  \n",
       "2             1         495  \n",
       "3             0          46  \n",
       "4             2         328  "
      ]
     },
     "execution_count": 127,
     "metadata": {},
     "output_type": "execute_result"
    }
   ],
   "source": [
    "fact_table = create_fact_table(cars_df_copy)\n",
    "fact_table.head()"
   ]
  },
  {
   "cell_type": "markdown",
   "id": "b6ed769d-597c-4104-8162-f0444d079078",
   "metadata": {},
   "source": [
    "## Regression Model"
   ]
  },
  {
   "cell_type": "markdown",
   "id": "a068430f-a9ef-4606-826e-b3efef93aac2",
   "metadata": {},
   "source": [
    "The predictive model will be constructed using RandomForestRegressor to forecast the `price`."
   ]
  },
  {
   "cell_type": "markdown",
   "id": "0d6c32d4-a3d0-49d6-93dd-2e5ee79105cd",
   "metadata": {},
   "source": [
    "**Selecting features**"
   ]
  },
  {
   "cell_type": "markdown",
   "id": "50001c77-e42e-4ec5-8eb4-a152c48ee6a0",
   "metadata": {},
   "source": [
    "The feature selection was limited to numeric variables, specifically focusing on `daysonmarket`, `horsepower`, `maximum_seating`, `mileage`, `seller_rating`, `year`, and `price`."
   ]
  },
  {
   "cell_type": "code",
   "execution_count": 128,
   "id": "768bab03-b348-4541-8623-08127f042d9b",
   "metadata": {},
   "outputs": [
    {
     "data": {
      "text/html": [
       "<div>\n",
       "<style scoped>\n",
       "    .dataframe tbody tr th:only-of-type {\n",
       "        vertical-align: middle;\n",
       "    }\n",
       "\n",
       "    .dataframe tbody tr th {\n",
       "        vertical-align: top;\n",
       "    }\n",
       "\n",
       "    .dataframe thead th {\n",
       "        text-align: right;\n",
       "    }\n",
       "</style>\n",
       "<table border=\"1\" class=\"dataframe\">\n",
       "  <thead>\n",
       "    <tr style=\"text-align: right;\">\n",
       "      <th></th>\n",
       "      <th>daysonmarket</th>\n",
       "      <th>horsepower</th>\n",
       "      <th>maximum_seating</th>\n",
       "      <th>mileage</th>\n",
       "      <th>seller_rating</th>\n",
       "      <th>year</th>\n",
       "      <th>price</th>\n",
       "    </tr>\n",
       "  </thead>\n",
       "  <tbody>\n",
       "    <tr>\n",
       "      <th>0</th>\n",
       "      <td>42</td>\n",
       "      <td>308</td>\n",
       "      <td>5</td>\n",
       "      <td>35222</td>\n",
       "      <td>4</td>\n",
       "      <td>2017</td>\n",
       "      <td>30439</td>\n",
       "    </tr>\n",
       "    <tr>\n",
       "      <th>1</th>\n",
       "      <td>10</td>\n",
       "      <td>300</td>\n",
       "      <td>5</td>\n",
       "      <td>97535</td>\n",
       "      <td>4</td>\n",
       "      <td>2012</td>\n",
       "      <td>11999</td>\n",
       "    </tr>\n",
       "    <tr>\n",
       "      <th>2</th>\n",
       "      <td>11</td>\n",
       "      <td>275</td>\n",
       "      <td>5</td>\n",
       "      <td>94949</td>\n",
       "      <td>4</td>\n",
       "      <td>2000</td>\n",
       "      <td>4499</td>\n",
       "    </tr>\n",
       "    <tr>\n",
       "      <th>3</th>\n",
       "      <td>8</td>\n",
       "      <td>153</td>\n",
       "      <td>5</td>\n",
       "      <td>37979</td>\n",
       "      <td>4</td>\n",
       "      <td>2017</td>\n",
       "      <td>14639</td>\n",
       "    </tr>\n",
       "    <tr>\n",
       "      <th>4</th>\n",
       "      <td>173</td>\n",
       "      <td>201</td>\n",
       "      <td>5</td>\n",
       "      <td>12</td>\n",
       "      <td>4</td>\n",
       "      <td>2020</td>\n",
       "      <td>26075</td>\n",
       "    </tr>\n",
       "  </tbody>\n",
       "</table>\n",
       "</div>"
      ],
      "text/plain": [
       "   daysonmarket  horsepower  maximum_seating  mileage  seller_rating  year  \\\n",
       "0            42         308                5    35222              4  2017   \n",
       "1            10         300                5    97535              4  2012   \n",
       "2            11         275                5    94949              4  2000   \n",
       "3             8         153                5    37979              4  2017   \n",
       "4           173         201                5       12              4  2020   \n",
       "\n",
       "   price  \n",
       "0  30439  \n",
       "1  11999  \n",
       "2   4499  \n",
       "3  14639  \n",
       "4  26075  "
      ]
     },
     "execution_count": 128,
     "metadata": {},
     "output_type": "execute_result"
    }
   ],
   "source": [
    "numeric_features = [\n",
    "    \"daysonmarket\",\n",
    "    \"horsepower\",\n",
    "    \"maximum_seating\",\n",
    "    \"mileage\",\n",
    "    \"seller_rating\",\n",
    "    \"year\",\n",
    "    \"price\"\n",
    "]\n",
    "\n",
    "cars_analysis = cars_df_copy[numeric_features]\n",
    "cars_analysis.head()"
   ]
  },
  {
   "cell_type": "markdown",
   "id": "3fcabde0-33dc-4369-a8f6-fb4c9c21eaf5",
   "metadata": {},
   "source": [
    "**Correlation Matrix**"
   ]
  },
  {
   "cell_type": "code",
   "execution_count": 129,
   "id": "ed2f0c34-9fc5-4ac2-a508-feb3b0594b55",
   "metadata": {},
   "outputs": [
    {
     "data": {
      "image/png": "[encoded data removed]",
      "text/plain": [
       "<Figure size 1000x800 with 1 Axes>"
      ]
     },
     "metadata": {},
     "output_type": "display_data"
    }
   ],
   "source": [
    "correlation_matrix = cars_analysis.corr()\n",
    "plt.figure(figsize=(10, 8))\n",
    "sns.heatmap(correlation_matrix, annot=True,fmt=\".2f\", cbar=False)\n",
    "plt.title(\"Correlation Matrix\")\n",
    "plt.show()"
   ]
  },
  {
   "cell_type": "markdown",
   "id": "ed82ff87-679f-4229-a1a2-5988cb042a9c",
   "metadata": {},
   "source": [
    "In selecting variables for the model, consideration was given to their correlation with `price` favoring those with an absolute correlation greater than 0.5:\n",
    "\n",
    "- 0.57 for `horsepower`\n",
    "- 0.57 for `mileage`\n",
    "- 0.53 for `year`"
   ]
  },
  {
   "cell_type": "markdown",
   "id": "78529747-6578-45af-b406-506f1ca04e24",
   "metadata": {},
   "source": [
    "**Splitting the dataset**"
   ]
  },
  {
   "cell_type": "code",
   "execution_count": 137,
   "id": "3fe37d1b-c3e8-452d-8299-49a238da9cc9",
   "metadata": {},
   "outputs": [],
   "source": [
    "y = cars_analysis[\"price\"]\n",
    "X = cars_analysis.drop(columns=[\"price\",\"daysonmarket\",\"seller_rating\",\"maximum_seating\"])\n",
    "X_train, X_test, y_train, y_test = train_test_split(X, y, test_size=0.2, random_state=1)"
   ]
  },
  {
   "cell_type": "markdown",
   "id": "3f756eab-f1f9-4d56-81f7-89febe9823b7",
   "metadata": {},
   "source": [
    "The dataset was split into training and testing sets, with 80% of the data used for training the model and the remaining 20% reserved for evaluating its performance. "
   ]
  },
  {
   "cell_type": "markdown",
   "id": "65df654a-a03a-4e9f-94a0-78cc2214d819",
   "metadata": {},
   "source": [
    "**Training the model**"
   ]
  },
  {
   "cell_type": "code",
   "execution_count": 138,
   "id": "ef068536-59b7-49b0-bbf5-f76250050c30",
   "metadata": {},
   "outputs": [
    {
     "data": {
      "text/html": [
       "<style>#sk-container-id-2 {color: black;}#sk-container-id-2 pre{padding: 0;}#sk-container-id-2 div.sk-toggleable {background-color: white;}#sk-container-id-2 label.sk-toggleable__label {cursor: pointer;display: block;width: 100%;margin-bottom: 0;padding: 0.3em;box-sizing: border-box;text-align: center;}#sk-container-id-2 label.sk-toggleable__label-arrow:before {content: \"▸\";float: left;margin-right: 0.25em;color: #696969;}#sk-container-id-2 label.sk-toggleable__label-arrow:hover:before {color: black;}#sk-container-id-2 div.sk-estimator:hover label.sk-toggleable__label-arrow:before {color: black;}#sk-container-id-2 div.sk-toggleable__content {max-height: 0;max-width: 0;overflow: hidden;text-align: left;background-color: #f0f8ff;}#sk-container-id-2 div.sk-toggleable__content pre {margin: 0.2em;color: black;border-radius: 0.25em;background-color: #f0f8ff;}#sk-container-id-2 input.sk-toggleable__control:checked~div.sk-toggleable__content {max-height: 200px;max-width: 100%;overflow: auto;}#sk-container-id-2 input.sk-toggleable__control:checked~label.sk-toggleable__label-arrow:before {content: \"▾\";}#sk-container-id-2 div.sk-estimator input.sk-toggleable__control:checked~label.sk-toggleable__label {background-color: #d4ebff;}#sk-container-id-2 div.sk-label input.sk-toggleable__control:checked~label.sk-toggleable__label {background-color: #d4ebff;}#sk-container-id-2 input.sk-hidden--visually {border: 0;clip: rect(1px 1px 1px 1px);clip: rect(1px, 1px, 1px, 1px);height: 1px;margin: -1px;overflow: hidden;padding: 0;position: absolute;width: 1px;}#sk-container-id-2 div.sk-estimator {font-family: monospace;background-color: #f0f8ff;border: 1px dotted black;border-radius: 0.25em;box-sizing: border-box;margin-bottom: 0.5em;}#sk-container-id-2 div.sk-estimator:hover {background-color: #d4ebff;}#sk-container-id-2 div.sk-parallel-item::after {content: \"\";width: 100%;border-bottom: 1px solid gray;flex-grow: 1;}#sk-container-id-2 div.sk-label:hover label.sk-toggleable__label {background-color: #d4ebff;}#sk-container-id-2 div.sk-serial::before {content: \"\";position: absolute;border-left: 1px solid gray;box-sizing: border-box;top: 0;bottom: 0;left: 50%;z-index: 0;}#sk-container-id-2 div.sk-serial {display: flex;flex-direction: column;align-items: center;background-color: white;padding-right: 0.2em;padding-left: 0.2em;position: relative;}#sk-container-id-2 div.sk-item {position: relative;z-index: 1;}#sk-container-id-2 div.sk-parallel {display: flex;align-items: stretch;justify-content: center;background-color: white;position: relative;}#sk-container-id-2 div.sk-item::before, #sk-container-id-2 div.sk-parallel-item::before {content: \"\";position: absolute;border-left: 1px solid gray;box-sizing: border-box;top: 0;bottom: 0;left: 50%;z-index: -1;}#sk-container-id-2 div.sk-parallel-item {display: flex;flex-direction: column;z-index: 1;position: relative;background-color: white;}#sk-container-id-2 div.sk-parallel-item:first-child::after {align-self: flex-end;width: 50%;}#sk-container-id-2 div.sk-parallel-item:last-child::after {align-self: flex-start;width: 50%;}#sk-container-id-2 div.sk-parallel-item:only-child::after {width: 0;}#sk-container-id-2 div.sk-dashed-wrapped {border: 1px dashed gray;margin: 0 0.4em 0.5em 0.4em;box-sizing: border-box;padding-bottom: 0.4em;background-color: white;}#sk-container-id-2 div.sk-label label {font-family: monospace;font-weight: bold;display: inline-block;line-height: 1.2em;}#sk-container-id-2 div.sk-label-container {text-align: center;}#sk-container-id-2 div.sk-container {/* jupyter's `normalize.less` sets `[hidden] { display: none; }` but bootstrap.min.css set `[hidden] { display: none !important; }` so we also need the `!important` here to be able to override the default hidden behavior on the sphinx rendered scikit-learn.org. See: https://github.com/scikit-learn/scikit-learn/issues/21755 */display: inline-block !important;position: relative;}#sk-container-id-2 div.sk-text-repr-fallback {display: none;}</style><div id=\"sk-container-id-2\" class=\"sk-top-container\"><div class=\"sk-text-repr-fallback\"><pre>RandomForestRegressor(random_state=0)</pre><b>In a Jupyter environment, please rerun this cell to show the HTML representation or trust the notebook. <br />On GitHub, the HTML representation is unable to render, please try loading this page with nbviewer.org.</b></div><div class=\"sk-container\" hidden><div class=\"sk-item\"><div class=\"sk-estimator sk-toggleable\"><input class=\"sk-toggleable__control sk-hidden--visually\" id=\"sk-estimator-id-2\" type=\"checkbox\" checked><label for=\"sk-estimator-id-2\" class=\"sk-toggleable__label sk-toggleable__label-arrow\">RandomForestRegressor</label><div class=\"sk-toggleable__content\"><pre>RandomForestRegressor(random_state=0)</pre></div></div></div></div></div>"
      ],
      "text/plain": [
       "RandomForestRegressor(random_state=0)"
      ]
     },
     "execution_count": 138,
     "metadata": {},
     "output_type": "execute_result"
    }
   ],
   "source": [
    "regressor = RandomForestRegressor(n_estimators=100,\n",
    "                                  random_state=0)\n",
    "\n",
    "regressor.fit(X_train, y_train)"
   ]
  },
  {
   "cell_type": "markdown",
   "id": "04203dab-a444-44b6-b4b3-de2b80adb558",
   "metadata": {},
   "source": [
    "**R-squared**"
   ]
  },
  {
   "cell_type": "code",
   "execution_count": 140,
   "id": "96a1a434-f394-481a-8ab1-638d5b640964",
   "metadata": {},
   "outputs": [
    {
     "name": "stdout",
     "output_type": "stream",
     "text": [
      "R-squared (R2) Score: 0.8235171788777729\n"
     ]
    }
   ],
   "source": [
    "y_pred = regressor.predict(X_test)\n",
    "r2 = r2_score(y_test, y_pred)\n",
    "print(f'R-squared (R2) Score: {r2}')"
   ]
  },
  {
   "cell_type": "markdown",
   "id": "4b4bc13e-ba22-450b-8eb4-7d44010dd4f1",
   "metadata": {},
   "source": [
    "The R-squared (R2) score of 0.823 indicates that approximately 82.35% of the variability in the price of cars can be explained by the model using the selected variables: horsepower, mileage, and year. "
   ]
  },
  {
   "cell_type": "code",
   "execution_count": 141,
   "id": "e9a37582-1a66-4f1d-b5da-1e1d37b0e4eb",
   "metadata": {},
   "outputs": [
    {
     "data": {
      "text/html": [
       "<div>\n",
       "<style scoped>\n",
       "    .dataframe tbody tr th:only-of-type {\n",
       "        vertical-align: middle;\n",
       "    }\n",
       "\n",
       "    .dataframe tbody tr th {\n",
       "        vertical-align: top;\n",
       "    }\n",
       "\n",
       "    .dataframe thead th {\n",
       "        text-align: right;\n",
       "    }\n",
       "</style>\n",
       "<table border=\"1\" class=\"dataframe\">\n",
       "  <thead>\n",
       "    <tr style=\"text-align: right;\">\n",
       "      <th></th>\n",
       "      <th>index</th>\n",
       "      <th>price</th>\n",
       "      <th>prediction</th>\n",
       "    </tr>\n",
       "  </thead>\n",
       "  <tbody>\n",
       "    <tr>\n",
       "      <th>67872</th>\n",
       "      <td>0</td>\n",
       "      <td>18944</td>\n",
       "      <td>19854.030000</td>\n",
       "    </tr>\n",
       "    <tr>\n",
       "      <th>40464</th>\n",
       "      <td>1</td>\n",
       "      <td>20995</td>\n",
       "      <td>23622.920000</td>\n",
       "    </tr>\n",
       "    <tr>\n",
       "      <th>48901</th>\n",
       "      <td>2</td>\n",
       "      <td>69975</td>\n",
       "      <td>53987.490000</td>\n",
       "    </tr>\n",
       "    <tr>\n",
       "      <th>13829</th>\n",
       "      <td>3</td>\n",
       "      <td>25995</td>\n",
       "      <td>31717.890000</td>\n",
       "    </tr>\n",
       "    <tr>\n",
       "      <th>50113</th>\n",
       "      <td>4</td>\n",
       "      <td>13699</td>\n",
       "      <td>14850.940000</td>\n",
       "    </tr>\n",
       "    <tr>\n",
       "      <th>...</th>\n",
       "      <td>...</td>\n",
       "      <td>...</td>\n",
       "      <td>...</td>\n",
       "    </tr>\n",
       "    <tr>\n",
       "      <th>68120</th>\n",
       "      <td>17105</td>\n",
       "      <td>22995</td>\n",
       "      <td>28097.468333</td>\n",
       "    </tr>\n",
       "    <tr>\n",
       "      <th>52453</th>\n",
       "      <td>17106</td>\n",
       "      <td>5800</td>\n",
       "      <td>5599.650000</td>\n",
       "    </tr>\n",
       "    <tr>\n",
       "      <th>12884</th>\n",
       "      <td>17107</td>\n",
       "      <td>30995</td>\n",
       "      <td>34350.080000</td>\n",
       "    </tr>\n",
       "    <tr>\n",
       "      <th>29510</th>\n",
       "      <td>17108</td>\n",
       "      <td>23178</td>\n",
       "      <td>27950.536538</td>\n",
       "    </tr>\n",
       "    <tr>\n",
       "      <th>73675</th>\n",
       "      <td>17109</td>\n",
       "      <td>41472</td>\n",
       "      <td>38487.400213</td>\n",
       "    </tr>\n",
       "  </tbody>\n",
       "</table>\n",
       "<p>17110 rows × 3 columns</p>\n",
       "</div>"
      ],
      "text/plain": [
       "       index  price    prediction\n",
       "67872      0  18944  19854.030000\n",
       "40464      1  20995  23622.920000\n",
       "48901      2  69975  53987.490000\n",
       "13829      3  25995  31717.890000\n",
       "50113      4  13699  14850.940000\n",
       "...      ...    ...           ...\n",
       "68120  17105  22995  28097.468333\n",
       "52453  17106   5800   5599.650000\n",
       "12884  17107  30995  34350.080000\n",
       "29510  17108  23178  27950.536538\n",
       "73675  17109  41472  38487.400213\n",
       "\n",
       "[17110 rows x 3 columns]"
      ]
     },
     "execution_count": 141,
     "metadata": {},
     "output_type": "execute_result"
    }
   ],
   "source": [
    "df_forest = pd.DataFrame({'index': range(len(y_test)), 'price': y_test, 'prediction': y_pred})\n",
    "df_forest"
   ]
  },
  {
   "cell_type": "code",
   "execution_count": 142,
   "id": "79bea014-b324-4ed4-8b9f-d8f3b69c764a",
   "metadata": {},
   "outputs": [
    {
     "data": {
      "image/png": "[encoded data removed]",
      "text/plain": [
       "<Figure size 640x480 with 1 Axes>"
      ]
     },
     "metadata": {},
     "output_type": "display_data"
    }
   ],
   "source": [
    "sns.set_theme()\n",
    "sns.lineplot(x='index', y='price', data=df_forest, label='Observed')\n",
    "sns.lineplot(x='index', y='prediction', data=df_forest, label='Estimated')\n",
    "plt.ylabel('Price')\n",
    "plt.title('Observed and Estimated Prices')\n",
    "plt.legend()\n",
    "plt.show()"
   ]
  },
  {
   "cell_type": "markdown",
   "id": "27fc09b0-4783-4037-b39d-bffeb984a8f5",
   "metadata": {},
   "source": [
    "Although the model tends to underestimate prices, its ability to remain within the observed range implies a reasonably accurate predictive performance. Notably, the model avoids generating negative values or values that surpass the observed ones."
   ]
  },
  {
   "cell_type": "markdown",
   "id": "3dd9b0df-91f8-47f6-9233-0dd1ef50cd00",
   "metadata": {},
   "source": [
    "**Saving trained model**"
   ]
  },
  {
   "cell_type": "code",
   "execution_count": 135,
   "id": "df511b65-3f4d-4e6b-a6cb-525947863548",
   "metadata": {},
   "outputs": [
    {
     "data": {
      "text/plain": [
       "['../model/random_forest_regressor.pkl']"
      ]
     },
     "execution_count": 135,
     "metadata": {},
     "output_type": "execute_result"
    }
   ],
   "source": [
    "joblib_file = \"../model/random_forest_regressor.pkl\"\n",
    "joblib.dump(regressor, joblib_file)"
   ]
  }
 ],
 "metadata": {
  "kernelspec": {
   "display_name": "Python 3 (ipykernel)",
   "language": "python",
   "name": "python3"
  },
  "language_info": {
   "codemirror_mode": {
    "name": "ipython",
    "version": 3
   },
   "file_extension": ".py",
   "mimetype": "text/x-python",
   "name": "python",
   "nbconvert_exporter": "python",
   "pygments_lexer": "ipython3",
   "version": "3.11.6"
  }
 },
 "nbformat": 4,
 "nbformat_minor": 5
}
